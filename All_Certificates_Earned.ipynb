{
 "cells": [
  {
   "cell_type": "markdown",
   "metadata": {},
   "source": [
    "# Certifications Earned Since July, 2017\n",
    "\n",
    "Below is a barplot illustrating my lifelong learning habits, meaured by acquiring certifications. \n",
    "The code generating the plot is written in Python."
   ]
  },
  {
   "cell_type": "code",
   "execution_count": 1,
   "metadata": {
    "scrolled": true
   },
   "outputs": [
    {
     "data": {
      "text/plain": [
       "Text(0.5,0,'Count')"
      ]
     },
     "execution_count": 1,
     "metadata": {},
     "output_type": "execute_result"
    },
    {
     "data": {
      "image/png": "[encoded data removed]",
      "text/plain": [
       "<matplotlib.figure.Figure at 0x7f27d60d4940>"
      ]
     },
     "metadata": {},
     "output_type": "display_data"
    }
   ],
   "source": [
    "import pandas as pd\n",
    "import matplotlib.pyplot as plt\n",
    "%matplotlib inline\n",
    "import seaborn as sns\n",
    "\n",
    "URL = 'https://raw.githubusercontent.com/tarjin/certificates/master/Certificates.csv'\n",
    "\n",
    "df = pd.read_csv(URL)\n",
    "\n",
    "plt.rcParams['figure.figsize']=(8,5)\n",
    "plt.figure()\n",
    "sns.set(font_scale=1.25)\n",
    "ax = sns.barplot(y=\"Month/Year\", x=\"Total Count\", data=df, palette=\"Blues_d\")\n",
    "ax.set_title('Total Certificates Earned Since July, 2017')\n",
    "plt.ylabel(' ')\n",
    "plt.xlabel('Count')\n"
   ]
  },
  {
   "cell_type": "markdown",
   "metadata": {
    "collapsed": true
   },
   "source": [
    "# Lifelong Learning: Earned Certificates & Course Descriptions"
   ]
  },
  {
   "cell_type": "markdown",
   "metadata": {},
   "source": [
    "## May, 2018"
   ]
  },
  {
   "cell_type": "markdown",
   "metadata": {},
   "source": [
    "### Agile at Work: Reporting with Agile Charts and Boards, Lynda.com, May, 2018\n",
    "Certificate: https://drive.google.com/open?id=1xu5kOKnN9m6RARi58JnZI3JqcHYND5bz\n",
    "\n",
    "Agile teams need a lightweight way to report their progress. Agile reports should be simple and easy to read, and radiate information across the room to the entire team. In this course, agile expert Doug Rose outlines a process for reporting on the progress of your agile project. He shows how to prioritize the product backlog, update the taskboard, and monitor the project's health with burndown charts. You'll also see the most common pitfalls, such as retrofitting and working with distributed teams.\n",
    "\n",
    "Bonus: Watch the bonus chapter at the end of this course where Doug answers common questions about the agile mindset, including what types of projects would be the best fit.\n",
    "\n",
    "Lynda.com is a PMI Registered Education Provider. This course qualifies for professional development units (PDUs). To view the activity and PDU details for this course, click here.\n",
    "\n",
    "The PMI Registered Education Provider logo is a registered mark of the Project Management Institute, Inc.\n",
    "Topics include:\n",
    "- Communicating progress\n",
    "- Prioritizing the backlog\n",
    "- Showing daily progress with a taskboard\n",
    "- Sizing taskboards\n",
    "- Creating a burndown chart"
   ]
  },
  {
   "cell_type": "markdown",
   "metadata": {},
   "source": [
    "### Anger Management, Lynda.com, May, 2018\n",
    "Certificate: https://drive.google.com/open?id=1YSkN65f6uBXiOa1u5ziOoFHBoPoV84od\n",
    "\n",
    "Anger is a part of the human experience. If not managed properly, anger can be destructive. But anger can also be used for your benefit once you learn to identify, manage, and channel it. In this course, executive educator Marlene Chism helps you make sense of anger. You'll learn how to identify your triggers, how to get to the root of your anger, and how to channel anger to your highest good. Marlene shows you how anger can be a tool for personal and professional growth, and a catalyst for improving both your relationships and your results.\n",
    "Topics include:\n",
    "- Acknowledging an anger problem\n",
    "- Using calming techniques\n",
    "- Avoiding other people's issues\n",
    "- Understanding your triggers and old behaviors\n",
    "- Mastering your narrative and taking control\n",
    "- Setting appropriate boundaries\n",
    "- Making anger work for you"
   ]
  },
  {
   "cell_type": "markdown",
   "metadata": {},
   "source": [
    "### Avoiding Burnout, Lynda.com, May, 2018\n",
    "Certificate: https://drive.google.com/open?id=1YwB7PGRzIf2oUGQofco3rHZBGK7kQzkR\n",
    "\n",
    "Prolonged periods of stress—related to your work, your home life, or your health—can lead to burnout. Burnout reduces our productivity and saps our energy, leaving us overwhelmed by everyday tasks and feeling increasingly cynical and resentful. In this course, Todd Dewett helps you recognize some of the most common causes of burnout, such as long hours, too much travel, tight deadlines, and no vacation, so that you can figure out how to prevent stress from building up and help yourself recover.\n",
    "\n",
    "Lynda.com is a PMI Registered Education Provider. This course qualifies for professional development units (PDUs). To view the activity and PDU details for this course, click here.\n",
    "\n",
    "The PMI Registered Education Provider logo is a registered mark of the Project Management Institute, Inc."
   ]
  },
  {
   "cell_type": "markdown",
   "metadata": {},
   "source": [
    "### Blockchain Basics, Lynda.com, May, 2018\n",
    "Certificate: https://drive.google.com/open?id=1gHS6iYEy-jEI-gTAoW8e9RBGJ_dnEvTk\n",
    "\n",
    "We're on the precipice of a radical and disruptive new way of conducting all manner of transactions over the Internet. While still in its infancy, blockchain technology demands attention. In this introductory-level course, learn what blockchain is and what it might mean to you. Jonathan Reichental—named one of the world's top 100 CIOs in 2017—dives into blockchain technology from a conceptual perspective. The course is primarily non-technical by design, intended for those working in business leadership positions, data science, and IT management.\n",
    "\n",
    "Jonathan begins by describing some of the current challenges with the Internet, including existing risks and security problems such as identity management. Next, he describes how traditional online databases function, so that you have a basis for how the blockchain redesigns this function. He then describes how the blockchain becomes a potential solution for many of the existing limitations of online databases. Since the blockchain has its genesis in Bitcoin—the digital currency—he provides some background on that too. He also discusses how blockchain technology actually offers new capabilities beyond simply solving old problems. To wrap up the course, Jonathan shares steps you can take in your organization to understand the implications of the blockchain.\n",
    "Topics include:\n",
    "- Risk and security challenges\n",
    "- Rethinking the traditional database\n",
    "- What is the blockchain?\n",
    "- What problems does the blockchain solve?\n",
    "- Transforming transactions\n",
    "- Examples of the blockchain in action\n",
    "- Obstacles to blockchain adoption\n",
    "- Risks to existing solutions and enterprises"
   ]
  },
  {
   "cell_type": "markdown",
   "metadata": {},
   "source": [
    "### Building Customer Loyalty, Lynda.com, May, 2018\n",
    "Certificate: https://drive.google.com/open?id=16QaN1E8x6BtLoMoiICUXOITVUojpqqiv\n",
    "\n",
    "Do loyal customers still exist in our wired world? Yes, but you have to work to keep them. In this course, customer-loyalty expert and best-selling author Jill Griffin outlines a three-step process for understanding who your best customers are and how to keep them loyal. First Jill explains why not all customers are equal and why the first step in building customer loyalty is to know who your best customers are. She then shares proven customer-retention techniques, using examples from large, successful organizations, and shows how you can learn from your best customers' buying behavior. Last, Jill provides guidance on how to embed customer-loyalty practices into every level of your organization."
   ]
  },
  {
   "cell_type": "markdown",
   "metadata": {},
   "source": [
    "### Building Self-Confidence, Lynda.com, May, 2018\n",
    "Certificate: https://drive.google.com/open?id=1E84E0RMVjbbNrrO0Uz_sDNS_j_r8gaQ5\n",
    "\n",
    "Confidence can help you accomplish your goals and build strong relationships. But the reverse is also true; a lack of confidence can hurt you personally and professionally. Luckily, there are steps you can take to build lasting self-confidence. In this course, author and educator Todd Dewett shows you 10 techniques for building confidence you can apply at work and in your personal life. Learn how to own where you are and where you want to be, remove negativity, and visualize success."
   ]
  },
  {
   "cell_type": "markdown",
   "metadata": {},
   "source": [
    "### Building Trust, Lynda.com, May, 2018\n",
    "Certificate: https://drive.google.com/open?id=13X_lda22AlRMAhLQ3l-BTHJHLLMA2C4E\n",
    "\n",
    "The \"circles of trust\" model is a helpful tool for describing relationships. In the innermost circle, you work on your trustworthiness and ethical decision making. In the middle circle, you work on your everyday relationships with colleagues and peers. In the outer circle, you project credibility and trustworthiness beyond your usual circle, building relationships that are based on mutual benefit.\n",
    "\n",
    "In this course, author Brenda Bailey-Hughes shows how to strengthen relationships within the three circles of trust. Plus, learn how to build trust in remote teams, repair lost or broken trust, and deliver an apology to speed the rebuilding process.\n",
    "\n",
    "Lynda.com is a PMI Registered Education Provider. This course qualifies for professional development units (PDUs). To view the activity and PDU details for this course, click here.\n",
    "\n",
    "The PMI Registered Education Provider logo is a registered mark of the Project Management Institute, Inc."
   ]
  },
  {
   "cell_type": "markdown",
   "metadata": {},
   "source": [
    "### Change Management Foundations, Lynda.com, May, 2018\n",
    "Certificate: https://drive.google.com/open?id=16t7hL0XqC8dJp8JacFePlwWXDumz-czI\n",
    "\n",
    "Change is hard, but necessary for businesses to thrive and survive. You—as leader or manager—can help implement new business processes and initiatives using organizational change management (OCM). In this course, consultant and change management expert Bob McGannon discusses the principles and techniques necessary to drive change at the project level, in a certain business area, or throughout an entire organization. He helps you prepare, manage, and support the change process, outlining the five phases involved and the eight competencies required for success. Bob also helps you understand the stages of change on an individual level, so you can help team members and stakeholders adapt.\n",
    "Topics include:\n",
    "- Understanding the levels of change management\n",
    "- Working through the five phases of change management\n",
    "- Creating a change plan\n",
    "- Communicating change\n",
    "- Implementing change\n",
    "- Managing risk\n",
    "- Reinforcing change\n",
    "- Evaluating the change\n",
    "- Guiding individuals through change"
   ]
  },
  {
   "cell_type": "markdown",
   "metadata": {},
   "source": [
    "### Communication within Teams, Lynda.com, May, 2018\n",
    "Certificate: https://drive.google.com/open?id=1ZPigWRHl0KIAOOEgSTo1tINeJjNux5XS\n",
    "\n",
    "Communication is an integral part of strong teamwork. In this course, Kelley School of Business professor Dr. Daisy Lovelace walks managers through how to cultivate the communication practices of high-performing teams. She highlights the foundations of successful teams, and explains how to craft a team charter to establish ground rules for how you work together as a cohesive group. She also discusses essential elements of team communication—such as creating a shared vision and holding teammates accountable—and shows how to best communicate with your team in different settings.\n",
    "Topics include:\n",
    "- Defining roles and commitments\n",
    "- Managing conflict\n",
    "- Establishing and maintaining trust\n",
    "- Creating a shared vision and focusing on objectives\n",
    "- Providing feedback\n",
    "- Structuring time for reflection\n",
    "- Holding teammates accountable\n",
    "- Communicating in face-to-face and virtual meetings\n",
    "- Communicating across job functions and across cultures"
   ]
  },
  {
   "cell_type": "markdown",
   "metadata": {},
   "source": [
    "### Connecting with Peers in the Workplace (2014), Lynda.com, May, 2018\n",
    "Certificate: https://drive.google.com/open?id=1VondZ_TPxrb9gmrdQlue9sL0-QjSqAer\n",
    "\n",
    "Great communication means connecting, not just getting your point across. In this short course, coach Todd Dewett outlines helpful techniques for forging those important connections that make it easier to come to work every day. He introduces the key \"helping\" behaviors, the importance of sharing the spotlight and finding mutual interests, and the good example that modeling professional behavior can have on the entire team dynamic."
   ]
  },
  {
   "cell_type": "markdown",
   "metadata": {},
   "source": [
    "### Creating a Culture of Service, Lynda.com, May, 2018\n",
    "Certificate: https://drive.google.com/open?id=1P4VGH0wzSPfUYze5cjJkJ-NK4bxkK0GY\n",
    "\n",
    "A culture of service extends far beyond your customer service department. Developing a service-oriented organization or team requires clarity of messaging and operating through a lens of impact. In this course, leadership consultants Lisa Earle McLeod and Elizabeth McLeod help leaders communicate their customer-focused purpose and outline processes and policies that support these values. They share how exceptional leaders help their teams shine, and how making some small—but meaningful—changes to how you talk about money, mistakes, and even the firing of employees can make a big difference in the engagement and performance of your team.\n",
    "Topics include:\n",
    "- What is a culture of service?\n",
    "- Cultivating an emotional connection to your customers\n",
    "- Generating engagement by sharing your backstory\n",
    "- Framing financials and objectives\n",
    "- Unpacking your metrics\n",
    "- How to use a culture of service in hiring and firing\n",
    "- Reinforcing a culture of service in daily operations"
   ]
  },
  {
   "cell_type": "markdown",
   "metadata": {},
   "source": [
    "### Creating a Culture of Strategy Execution, Lynda.com, May, 2018\n",
    "Certificate: https://drive.google.com/open?id=11yTi8EwJ9vm18JTDvZOww6e-up9HDvcQ\n",
    "\n",
    "Regardless of how outstanding your strategy is, your organization won't derive any value from it until it has actually been implemented. But the process of implementing strategic plans—and cultivating a work culture that encourages teams to take action—requires thoughtful planning. You must link strategy, execution, and culture; create processes to support execution; execute the strategy; and be prepared to overcome obstacles. In this course, Mike Figliuolo demonstrates how to build a culture of strategy execution. He reviews the drivers of strategy execution and the fundamental concepts that companies need to pay attention to in order to realize their plans.\n",
    "Topics include:\n",
    "- Linking strategy, culture, and execution\n",
    "- Defining culture\n",
    "- Supporting execution with processes\n",
    "- Running prioritization processes\n",
    "- Allocating resources\n",
    "- Driving daily behaviors\n",
    "- Overcoming execution challenges\n",
    "- Breaking free from analysis paralysis\n",
    "- Making sufficient investments"
   ]
  },
  {
   "cell_type": "markdown",
   "metadata": {},
   "source": [
    "### Creating a Positive and Healthy Work Environment, Lynda.com, May, 2018\n",
    "Certificate: https://drive.google.com/open?id=1bh1_NUO-8jUT2zWaEWqoJNm3QGxX50Ay\n",
    "\n",
    "Toxic workplaces cost organizations money in the form of lost productivity, poor employee health, and, in extreme cases, lawsuits. HR consultant Catherine Mattice Zundel explains how companies that invest in a positive workplace can see an amazing return on their investment. If you have a negative workplace, you can turn it around by creating a vision for change—and a positive culture committee to help you deliver a new culture to your workforce. Catherine provides insight into conducting surveys and updating your performance management system, and offers tools such as a sample strategic plan and an exercise for creating core values.\n",
    "Topics include:\n",
    "- Defining a negative workplace\n",
    "- The ROI of a positive workplace\n",
    "- Conducting an employee survey\n",
    "- Creating a vision for change\n",
    "- Building a strategic plan\n",
    "- Using your performance management system\n",
    "- Leading change"
   ]
  },
  {
   "cell_type": "markdown",
   "metadata": {},
   "source": [
    "### Creating a Positive Customer Experience, Lynda.com, May, 2018\n",
    "Certificate: https://drive.google.com/open?id=1fB469PtJz62AQ9-hrE7WHL_7S0DirwHy\n",
    "\n",
    "Do you know how your customers feel about your brand? Providing an excellent customer experience requires thoughtfulness, tact, and the willingness to look at every interaction from the customer's point of view. In this course, explore the typical customer journey, and discover how to add value and provide exceptional customer service through each phase of this journey. Customer experience expert Jeannie Walters shows how to create a customer journey map to help you identify touchpoints and processes that need improvement. Plus, she shares tips and strategies for setting the right expectations with marketing, signage, and in-store experience; building trust before the sale; retooling your sales process to thank and celebrate your customers; and more."
   ]
  },
  {
   "cell_type": "markdown",
   "metadata": {},
   "source": [
    "### Customer Service: Creating Customer Value, Lynda.com, May, 2018\n",
    "Certificate: https://drive.google.com/open?id=18H3wwNUEwolCQvVfZD0z3j2TDTbua039\n",
    "\n",
    "Is your product or service worth the price? Even if you think so, an army of competitors is deluging your loyal customers with messages to the contrary. Customer loyalty expert Jill Griffin explains how customers form perceptions of your brand, why they switch brands, and how you can manage the relationship between your brand, your product/service, and your price—so they see why your offering is valuable and remain loyal. She offers seven proven methods to maximize value and differentiate your product/service, drawing on real-world examples from companies such as Zappos, 3M, and Amazon. Plus, get a 10-day action plan that will help your company or team find fresh ways to bring value to customers."
   ]
  },
  {
   "cell_type": "markdown",
   "metadata": {},
   "source": [
    "### Data Visualization: Best Practices, Lynda.com, May, 2018\n",
    "Certificate: https://drive.google.com/open?id=1KqhKlH5a86_qhdj0E6qKBO7Bmb1vrkEK\n",
    "\n",
    "Media and marketing efforts often rely on data visualizations to quickly prove a point. But poorly designed visualizations can be misleading. Whether it's choosing the wrong charts or graphs, misinterpreting the data, or showing it without context, inaccurate designs can become a source of global scrutiny.\n",
    "\n",
    "To succeed in design and marketing today, one must know how to interpret and properly visualize data. This course, developed and led by Killer Infographics CEO, Amy Balliett, walks you through the ins and outs of creating accurate and compelling data visualizations. Amy focuses on best practices, not tools, although she does provide an overview of Illustrator graphing features. Using these tips, you'll learn how to stand out from the crowd and create charts and graphs that combine precision with visual appeal.\n",
    "Topics include:\n",
    "- What charts and graphs work best for different types of data\n",
    "- Putting data into visual and textual context to ensure it is accurate\n",
    "- Visualizing data that doesn't lend itself to imagery\n",
    "- Adding visual appeal without sacrificing accuracy\n",
    "- Using the Adobe Illustrator graphing tools\n",
    "- Avoiding common data viz mistakes"
   ]
  },
  {
   "cell_type": "markdown",
   "metadata": {},
   "source": [
    "### Data Visualization in R with ggplot2, Lynda.com, May, 2018\n",
    "Certificate: https://drive.google.com/open?id=1FRhF0_n-M7ZP9lRR-iAlSiJDkxJqZg0Z\n",
    "\n",
    "Discover how to create informative and visually appealing data visualizations using ggplot2, the leading visualization package for R. In this course, Mike Chapple shows how to work with ggplot2 to create basic visualizations, how to beautify those visualizations by applying different aesthetics, and how to visualize data with maps. Throughout the course, Mike also covers key concepts such as the grammar of graphics and how to apply different geometries to visualize data. To wrap up, he shares a case study that lends a practical context to the concepts covered in the course.\n",
    "Topics include:\n",
    "- Building visualizations\n",
    "- Applying different geometries to visualize data\n",
    "- Applying aesthetic mappings to geometries\n",
    "- Beautifying visualizations to prepare them for publication\n",
    "- Visualizing data with maps\n",
    "- Annotating a visualization\n",
    "- Plotting points on a map\n",
    "- Creating a choropleth map"
   ]
  },
  {
   "cell_type": "markdown",
   "metadata": {},
   "source": [
    "### Data Visualization: Storytelling, Lynda.com, May, 2018\n",
    "Certificate: https://drive.google.com/open?id=1erKcMhbMJUFVSP9z0oKWx2H3c9NKm9h_\n",
    "\n",
    "We are wired for story. We crave it. Storytelling has played an integral role in our ability to make progress. It should come as no surprise, then, that presenting data and information in story form maximizes the effectiveness of our communication. We can create deeper emotional responses in our audience when we present data in story form.\n",
    "\n",
    "Join data visualization expert Bill Shander as he guides you through the process of turning \"facts and figures\" into \"story\" to engage and fulfill our human expectation for information. This course is intended for anyone who works with data and has to communicate it to others, whether a researcher, a data analyst, a consultant, a marketer, or a journalist. Bill shows you how to think about, and craft, stories from data by examining many compelling stories in detail.\n",
    "Topics include:\n",
    "- Creating a narrative structure for data\n",
    "- Applying narrative to data\n",
    "- Identifying what you want to say with the data\n",
    "- Analyzing what your data is saying\n",
    "- Determining what your audience needs to hear\n",
    "- Leveraging tables, charts, and visuals\n",
    "- Ensuring your narrative provides context and direction"
   ]
  },
  {
   "cell_type": "markdown",
   "metadata": {},
   "source": [
    "### Design Thinking: Customer Experience, Lynda.com, May, 2018\n",
    "Certificate: https://drive.google.com/open?id=1zIAoED4mIwKT-0c3D51mo3RU4-TuCgCh\n",
    "\n",
    "Customer expectations are higher than ever before, and business success is becoming more and more dependent on a company's ability to meet or exceed those expectations with nearly every interaction. Customer experience—or CX—is the summary of all the interactions a company has with a customer over time. While understanding how to consider and choreograph those interactions is undeniably complex, at its core, customer experience is about something quite simple: relationships.\n",
    "\n",
    "In this course, frog's director of strategy, Geoffrey Schwartz, introduces you to customer experience and why it's important in today's hypercompetitive world. Geoffrey breaks down the different components that make up a customer experience, like archetypes, activities, interactions, and experience principles. Throughout the course, he uses real-world examples to demonstrate how those components come together to form a company's relationship with their customers. \n",
    "\n",
    "At the end of the course, you'll have the foundational tools needed to take a holistic view of an organization's customer experience and identify opportunities that can deepen relationships and drive loyalty.\n",
    "Topics include:\n",
    "- What is customer experience (CX)? \n",
    "- Why is customer experience important? \n",
    "- The business value of customer experience \n",
    "- The core components of customer experience  \n",
    "- Building empathy for customers \n",
    "- Engaging customers on an emotional level \n",
    "- Tools for organizational alignment \n",
    "- Designing meaningful products and services \n",
    "- Identifying opportunities for innovation and customer loyalty \n",
    "- How to build strong customer relationships"
   ]
  },
  {
   "cell_type": "markdown",
   "metadata": {},
   "source": [
    "### Design Thinking: Data Intelligence, Lynda.com, May, 2018\n",
    "Certificate: https://drive.google.com/open?id=187-4yz2qhlQur8zKFo33n_SjlOLYbS90\n",
    "\n",
    "Yesterday big data was all the rage; today we have intelligent machines and processes to leverage that data wisely. Learn how modern data intelligence helps designers provide a more personal and human design experience. Randall Elliott, associate director of design technology at frog, shows how to use data in creative problem-solving: to generate ideas, create better designs, and connect with users in meaningful ways. He tackles data generated by computers as well as that gathered through interviews and other hands-on means. He shows how to collect, analyze, and visualize the information to help solve your customer's challenges, leveraging intelligent tools and agile processes such as rapid prototyping.\n",
    "Topics include:\n",
    "- Design intelligence best practices\n",
    "- Avoiding data paralysis\n",
    "- Applying data intelligence to design\n",
    "- Partners in design intelligence\n",
    "- Visualizing data intelligence"
   ]
  },
  {
   "cell_type": "markdown",
   "metadata": {},
   "source": [
    "### Developing a Service Mindset, Lynda.com, May, 2018\n",
    "Certificate: https://drive.google.com/open?id=12p4ONeh3TRUOop6JzI-fP0vBGUdYh6EG\n",
    "\n",
    "The individuals and organizations that succeed are the ones who are laser focused on the customer. Even if you're not in a customer-facing role, knowing how your job connects to your customers gives you a better frame for strategic decision-making, and helps you feel more connected to the purpose of your job. This makes you feel more motivated and more fulfilled at work. In this course, Lisa Earle McLeod and Elizabeth McLeod help you connect the dots between your job and customer impact, and they provide strategies and behaviors for keeping your customers top of mind. They explain how to determine where you fit in your customer's world, and how to keep the focus on the customer when you talk about wins, goals, and mistakes. They also share strategies for sustaining your service mindset-even when your organization isn't particularly customer focused.\n",
    "Topics include:\n",
    "- Identifying your true customer\n",
    "- Quantifying the impact your role has on customers\n",
    "- Keeping customers top of mind in a back-office or support role\n",
    "- Motivating yourselves and your peers in the pursuit of customer impact\n",
    "- Talking about wins, goals, and mistakes\n",
    "- Remaining customer driven when your organization is not"
   ]
  },
  {
   "cell_type": "markdown",
   "metadata": {},
   "source": [
    "### Developing Political Savvy, Lynda.com, May, 2018\n",
    "Certificate: https://drive.google.com/open?id=194QnZYQATXs8N3NZei5Ivkz3cmvQ53xp\n",
    "\n",
    "In this short course, author Dr. Todd Dewett shares his secrets for developing and utilizing political savvy to get more done at work. Take a look at the success formula at work—what defines \"success\" in your workplace? Once you understand the social landscape and how political capital works, then you can learn how to audit your own situation and make an action plan to improve your political savvy."
   ]
  },
  {
   "cell_type": "markdown",
   "metadata": {},
   "source": [
    "### Developing Resourcefulness, Lynda.com, May, 2018\n",
    "Certificate: https://drive.google.com/open?id=1t1Jaa1RnaiWzHTlRDb2gEI7ibKS55ZsN\n",
    "\n",
    "Being able to do more with less is a highly valued skill in any organization, and not just in down times. In this course, management expert and trainer Todd Dewett helps you assess your resourcefulness by first evaluating your professional resources (personal network, expertise, information, and access to finances) and how to decide when and how to use them. He also provides advice on developing habits to cultivate resourcefulness, such as asking the right questions and building your network across a broad spectrum."
   ]
  },
  {
   "cell_type": "markdown",
   "metadata": {},
   "source": [
    "### Developing Your Emotional Intelligence, Lynda.com, May, 2018\n",
    "Certificate: https://drive.google.com/open?id=1IKx0L0wXgPlP6NDtN9jQf8glIT44jgU6\n",
    "\n",
    "Emotional intelligence can help you build effective relationships at work. Executive coach and organizational psychologist Gemma Roberts explains what emotional intelligence is and why it's important. She helps you become more self-aware so that can identify triggers that may hijack your performance. She also helps you align your intentions and your impact so that you can build strong and collaborative relationships.\n",
    "Topics include:\n",
    "- What is emotional intelligence?\n",
    "- Watching for triggers and hijacks\n",
    "- Finding flow\n",
    "- Disrupting thinking\n",
    "- Reclaiming reaction time\n",
    "- Shifting perspective\n",
    "- Empathizing\n",
    "- Listening and communicating\n",
    "- Playing to strengths\n",
    "- Collecting feedback\n",
    "- Aligning intention and impact"
   ]
  },
  {
   "cell_type": "markdown",
   "metadata": {},
   "source": [
    "### Effective Listening, Lynda.com, May, 2018\n",
    "Certificate: https://drive.google.com/open?id=1VTnuyDJWI-b5kh4t4l14m_7orPFsyjN6\n",
    "\n",
    "Listening is a critical competency, whether you are interviewing for your first job or leading a Fortune 500 company. Surprisingly, relatively few of us have ever had any formal training in how to listen effectively. In this course, communications experts Tatiana Kolovou and Brenda Bailey-Hughes show how to assess your current listening skills, understand the challenges to effective listening (such as distractions!), and develop behaviors that will allow you to become a better listener—and a better colleague, mentor, and friend.\n",
    "Topics include:\n",
    "- Recalling details\n",
    "- Empathizing\n",
    "- Avoiding distractions and the feeling of being overwhelmed\n",
    "- Clarifying your role\n",
    "- Using attentive nonverbal cues\n",
    "- Paraphrasing what was said\n",
    "- Matching emotions and mirroring"
   ]
  },
  {
   "cell_type": "markdown",
   "metadata": {},
   "source": [
    "### Embracing Change, Lynda.com, May, 2018\n",
    "Certificate: https://drive.google.com/open?id=1dLHJfPO4VzseSj6I1nR76wav4M5sgkwF\n",
    "\n",
    "In this short course, author and business coach Todd Dewett explains how you can harness the power of change and benefit those around you by avoiding quick reactions, adopting a positive attitude, and developing a 30-day plan to integrate change."
   ]
  },
  {
   "cell_type": "markdown",
   "metadata": {},
   "source": [
    "### Facilitation Skills for Managers and Leaders, Lynda.com, May, 2018\n",
    "Certificate: https://drive.google.com/open?id=18DFbDqapauS9M1jlTD6BDLT3_gcJA9sS\n",
    "\n",
    "Leaders wear many hats. Sometimes you need to manage; sometimes you simply need to facilitate-to empower your teams to excel on their own. Executive coach Prakash Raman explains how facilitation skills can help you create high-performing, autonomous teams. He outlines how to develop the core skills of a facilitative leader, such as developing your emotional intelligence, active listening, asking powerful questions, engaging productive conflict, and being flexible in your own thinking so as to make room for your team's input. He concludes by outlining the most common challenges that leaders and managers face when using facilitation skills with their team.\n",
    "Topics include:\n",
    "- Why facilitate?\n",
    "- Managing vs. facilitating\n",
    "- Core skills for facilitative leaders\n",
    "- Balancing authority and autonomy"
   ]
  },
  {
   "cell_type": "markdown",
   "metadata": {},
   "source": [
    "### Fred Kofman on Making Commitments, Lynda.com, May, 2018\n",
    "Certificate: https://drive.google.com/open?id=198tPqBCPxRKGx8AfGMBM_wdG-sHVfTYE\n",
    "\n",
    "Getting things done right hinges on our ability to keep commitments to others. Neglecting to follow up on decisions and agreements can weaken relationships both in business and in life. In this course, LinkedIn Influencer Fred Kofman explains why we sometimes fail to fulfill commitments, and how to take steps to ensure that this pattern doesn't continue. Fred shares what to ask yourself before making a commitment, how to report a commitment at risk, and how to make an effective apology, if needed. He also covers the meaning of integrity and explains how to build trust. Upon completing this course, you'll be equipped with a process that can help anyone in a 1:1 relationship or a team work with greater integrity."
   ]
  },
  {
   "cell_type": "markdown",
   "metadata": {},
   "source": [
    "### Giving Your Elevator Pitch, Lynda.com, May, 2018\n",
    "Certificate: https://drive.google.com/open?id=160mlFJR9nNOcwDIgyvDkXkhUWr1EEXGm\n",
    "\n",
    "It's important to make a good impression in just the first few minutes you spend with potential mentors, clients, or even friends. In this short course, author and business coach Dr. Todd Dewett explains how to tell others what you do and make a memorable impression in a short period of time with a personal \"elevator pitch.\" Maximize your connection in a minimal amount of time, and start making valuable additions to your network from the get-go."
   ]
  },
  {
   "cell_type": "markdown",
   "metadata": {},
   "source": [
    "### How to Present and Stay on Point, Lynda.com, May, 2018\n",
    "Certificate: https://drive.google.com/open?id=1O4sruAwG2taEXeVFZ6v0Vxo2yf7ppQbH\n",
    "\n",
    "Master presenter Todd Dewett outlines the basic elements of delivering a great presentation and staying on message. He discusses the \"pre-work\" involved in a great presentation so that you feel—and are—well prepared. He also delivers tips on summarizing your main points, responding to your audience, and recovering from the occasional mistake."
   ]
  },
  {
   "cell_type": "markdown",
   "metadata": {},
   "source": [
    "### Igniting Emotional Engagement, Lynda.com, May, 2018\n",
    "Certificate: https://drive.google.com/open?id=1clwMw_CXnUTQGzI4tKmrS2qte6hTZsCv\n",
    "\n",
    "Whether you work in product, sales, accounting, IT, or marketing, the ability to garner emotional buy-in is essential to making the initiatives and projects you lead more successful. In this course, join leadership coaches Lisa Earle McLeod and Elizabeth McLeod as they share how to determine which situations require emotional buy-in, who to engage, and what to say. They explain how to respond to those who may be less than enthusiastic about your initiatives, and how you can neutralize the naysayers. Plus, they discuss how to rebound quickly from setbacks and sustain long-term enthusiasm.\n",
    "Topics include:\n",
    "- Assessing where you need emotional engagement\n",
    "- Aligning with organizational objectives\n",
    "- Determining who to engage\n",
    "- Using your backstory to tap into emotional engagement\n",
    "- Preemptive planning\n",
    "- Neutralizing the naysayers\n",
    "- Identifying and talking about incremental gains"
   ]
  },
  {
   "cell_type": "markdown",
   "metadata": {},
   "source": [
    "### Impromptu Speaking, Lynda.com, May, 2018\n",
    "Certificate: https://drive.google.com/open?id=1PdF6MNglr9PZABVt4D5DWqJI5NsHShMU\n",
    "\n",
    "We are often called on unexpectedly in professional and social situations to deliver an impromptu speech. These moments offer us opportunities to sell an idea, influence a colleague, and make an unforgettable impression. Instead of hoping you do well, take this short course and have some techniques and ideas in your back pocket. Learn why impromptu speaking is so critical to your career, how to use key structural elements to craft a strong impromptu statement, and what to do when you have no time to prepare. This course also covers how to handle special circumstances, such as when you're drawing a blank or dealing with a technical question."
   ]
  },
  {
   "cell_type": "markdown",
   "metadata": {},
   "source": [
    "### Improving Your Listening Skills, Lynda.com, May, 2018\n",
    "Certificate: https://drive.google.com/open?id=1YBihFEsqIANBcUmUzykswwkBsavtyQxp\n",
    "\n",
    "Just as public speaking is a skill that you can hone through practice, good listeners aren't in possession of a special, unattainable gift—careful listening is a skill that you can learn. In this course, join career expert Dorie Clark as she helps uncover why it's hard to listen well, and how to develop the mindset of a good listener. She also provides multiple listening strategies to help you manage when you're the one not being listened to, how to keep yourself from interrupting, and how to listen to what's not being said. In addition, she explains how to let others know that they've been heard, and how to listen when someone is annoying."
   ]
  },
  {
   "cell_type": "markdown",
   "metadata": {},
   "source": [
    "### Inclusive Leadership, Lynda.com, May, 2018\n",
    "Certificate: https://drive.google.com/open?id=1cmofZzfp0ib7OeAxqwhamDQbkdmA6vrI\n",
    "\n",
    "Join global workforce management expert Dr. Shirley Davis as she shares how to create and lead an organization that leverages the diverse talents of all contributors. Dr. Davis reveals the benefits of inclusive leadership, including the positive impacts it can have on employee engagement, innovation, and creativity. She then outlines a best practice framework for developing inclusive leaders in an organization, and shares tips for avoiding common leadership pitfalls. Upon wrapping up this course, you'll be equipped with practical strategies you can use to cultivate a more inclusive workforce.\n",
    "Topics include:\n",
    "- The business case for inclusive leadership\n",
    "- Redefining leadership through the lens of inclusion\n",
    "- Innovation, creativity, and inclusion\n",
    "- Six key traits that inclusive leaders possess\n",
    "- Competencies of inclusive leaders\n",
    "- Best practices for inclusive organizations"
   ]
  },
  {
   "cell_type": "markdown",
   "metadata": {},
   "source": [
    "### Influencing Others, Lynda.com, May, 2018\n",
    "Certificate: https://drive.google.com/open?id=1G53SsjqcMNTwb_ka7UTvXeKQo-BSSUc5\n",
    "\n",
    "Ever had trouble persuading someone to do something, even if it was in their best interest? Sometimes people don't budge, but thankfully you have more than rewards and penalties at your disposal. Join John Ullmen, PhD, as he explains how to influence others when you're at the \"pivot point of influence,\" by applying 18 scientifically confirmed methods. Whether you're influencing at work or at home, you'll learn what the best influencers do before they influence, and see how to choose the best steps for your situation, and have people want to be influenced by you.\n",
    "\n",
    "Lynda.com is a PMI Registered Education Provider. This course qualifies for professional development units (PDUs). To view the activity and PDU details for this course, click here.\n",
    "\n",
    "The PMI Registered Education Provider logo is a registered mark of the Project Management Institute, Inc.\n",
    "Topics include:\n",
    "- Turning objections into actions\n",
    "- Adding more impact to your ideas\n",
    "- Establishing urgency\n",
    "- Using the influence advantage checklist\n",
    "- Influencing to inspire\n",
    "- And many more....<br><br>\n",
    "- The PMI Registered Education Provider logo is a registered mark of the Project Management Institute, Inc."
   ]
  },
  {
   "cell_type": "markdown",
   "metadata": {},
   "source": [
    "### Jodi Glickman on Make 'Em Love You at Work, Lynda.com, May, 2018\n",
    "Certificate: https://drive.google.com/open?id=1Uy4qFYrimDCEQXATLQyFJs15cIhAemdh\n",
    "\n",
    "The need for connection, respect, engagement, and fulfillment doesn't shut off when you walk into the office. In fact, recognizing the power of these basic needs can help you unlock new opportunities and thrive professionally. In this course, Jodi Glickman reveals how to cultivate a spirit of love at work by building relationships, increasing engagement, and being authentic. She explains why adopting a love-oriented mindset at work is vital, and explains how to get started using the GIFT model—generosity, initiative, forward momentum, and transparency—to get ahead in your career.\n",
    "Topics include:\n",
    "- Exploring the benefits of working for people you love\n",
    "- Reaping the benefits of making people love you\n",
    "- Incorporating generosity into your everyday life\n",
    "- Demonstrating initiative at work\n",
    "- Maintaining forward momentum\n",
    "- Remaining transparent even when things go wrong"
   ]
  },
  {
   "cell_type": "markdown",
   "metadata": {},
   "source": [
    "### Lead Like a Boss, Lynda.com, May, 2018\n",
    "Certificate: https://drive.google.com/open?id=1gWBt8g66Yx3-vulzXQDaZ8Fi0VeC3b8_\n",
    "\n",
    "Want to get ahead? Inspire others? Nurture the next gen? Become the leader of the pack? You need to learn to lead like a boss. Dr. Todd Dewett has been coaching leaders for over 20 years. The lessons he teaches are short and frank. They make you think; they make you laugh; they make you change. Here he explains what it takes to not just survive but thrive in meetings, navigate politics at work, balance servant leadership with self-care, build a rapport with colleagues, understand why smart isn't always superior-and more. These are leadership lessons like you've never heard before. Whether you're managing a team, a company, or a critical project, these tips can help lead you in the right direction."
   ]
  },
  {
   "cell_type": "markdown",
   "metadata": {},
   "source": [
    "### Leading Change, Lynda.com, May, 2018\n",
    "Certificate: https://drive.google.com/open?id=15iE-XIgGUtoLIEoYuJ_m_XGkMKnLNzg9\n",
    "\n",
    "Along the way, the course covers techniques that will increase the likelihood of your change succeeding, such as anticipating resistance, creating a compelling vision, and using emotional intelligence to build staff consensus.\n",
    "\n",
    "Lynda.com is a PMI Registered Education Provider. This course qualifies for professional development units (PDUs). To view the activity and PDU details for this course, click here.\n",
    "\n",
    "The PMI Registered Education Provider logo is a registered mark of the Project Management Institute, Inc.\n",
    "Topics include:\n",
    "- Understanding resistance and the emotions of change\n",
    "- Assessing the need for change\n",
    "- Building your change team\n",
    "- Evaluating solutions\n",
    "- Announcing the change\n",
    "- Implementing change that works<br><br>\n",
    "- The PMI Registered Education Provider logo is a registered mark of the Project Management Institute, Inc."
   ]
  },
  {
   "cell_type": "markdown",
   "metadata": {},
   "source": [
    "### Leading with Stories, Lynda.com, May, 2018\n",
    "Certificate: https://drive.google.com/open?id=11Gd76gNzV4sNY_nTGrYEBGiZNua2OmqH\n",
    "\n",
    "Stories can make the messages of any leader more memorable, contagious, and enduring. In turn, learning the art of storytelling can make you a better leader. In this short course, author and corporate storytelling coach Paul Smith walks you through the elements of a compelling story. Learn about the common story structures, power of emotion, importance of surprise, appeal of analogies and metaphors, and value of keeping it real."
   ]
  },
  {
   "cell_type": "markdown",
   "metadata": {},
   "source": [
    "### Learning Data Science: Manage Your Team, Lynda.com, May, 2018\n",
    "Certificate: https://drive.google.com/open?id=1pnQWsqm5eXevl6HwgYFGKNqfhhJeYgdo\n",
    "\n",
    "More companies are adding data science teams to their organization. To be effective, it's crucial to understand how to build and manage these teams. Business coach and author Doug Rose lays out the secrets of building effective data science teams. You'll see how to take advantage of existing talent or how you might hire new team members. You'll also see how to train these teams to create the unique chemistry that fosters better collaboration and keener discussions.\n",
    "\n",
    "Learn the holistic approach to building teams and deploying data science across disciplines. Identify the key roles and responsibilities, including research lead, data analyst, and project manager. Find out how to define areas of responsibility, foster effective communication, and build compelling reports and visualizations. Then see how to avoid the pitfalls of losing focus and arriving at false consensus. These techniques help you build highly skilled teams that produce deeper insights than you'll find from relying on data scientists alone.\n",
    "Topics include:\n",
    "- Creating a data-driven culture\n",
    "- Defining team roles and areas of responsibility\n",
    "- Finding wisdom in groups\n",
    "- Presenting beautiful reports\n",
    "- Thinking like a team\n",
    "- Avoiding pitfalls"
   ]
  },
  {
   "cell_type": "markdown",
   "metadata": {},
   "source": [
    "### Learning from Failure, Lynda.com, May, 2018\n",
    "Certificate: https://drive.google.com/open?id=12Nfv6WdpP9vG_Ey8XYbgV7JeBgeknYjb\n",
    "\n",
    "Failure and fault are not necessarily the same thing, yet many of us are raised to believe that if we fail, we have done something wrong. In fact, failure is a normal and necessary part of life. In this course, coach Todd Dewett explains the psychology of failure, the difference between good failure (thoughtful experimentation) and bad failure (reckless negligence), and why all failure is an opportunity to learn. Dr. Dewett offers a series of techniques for learning from failure and how we might use it as a tool for building trust, authenticity, compassion, humility and courage, and perspective. \n",
    "\n",
    "Lynda.com is a PMI Registered Education Provider. This course qualifies for professional development units (PDUs). To view the activity and PDU details for this course, click here.\n",
    "\n",
    "The PMI Registered Education Provider logo is a registered mark of the Project Management Institute, Inc."
   ]
  },
  {
   "cell_type": "markdown",
   "metadata": {},
   "source": [
    "### Learning to Say No, Lynda.com, May, 2018\n",
    "Certificate: https://drive.google.com/open?id=1ZMew7qqjZatTuQcLnyayfb9ciSQfOGR1\n",
    "\n",
    "Learning to say no is about making choices about what is important to you. In this course, Dr. Todd Dewett helps you classify work into categories of importance and decide how it matches your own goals and values. Using these guidelines, you can choose what to say \"yes\" to and what to say \"no\" to more effectively. In addition, Dr. Dewett also provides advice on how to say no in a way that is brief, honest, positive, and respectful. \n",
    "\n",
    "Lynda.com is a PMI Registered Education Provider. This course qualifies for professional development units (PDUs). To view the activity and PDU details for this course, click here.\n",
    "\n",
    "The PMI Registered Education Provider logo is a registered mark of the Project Management Institute, Inc."
   ]
  },
  {
   "cell_type": "markdown",
   "metadata": {},
   "source": [
    "### Making Decisions, Lynda.com, May, 2018\n",
    "Certificate: https://drive.google.com/open?id=1oDTNmoHK_7okJj-xk61gzGKlbujMpBWj\n",
    "\n",
    "Smart decision making, whether it's who to hire or what strategy to play, is a skill that sets you apart personally and professionally. In this short course, Todd Dewett shows you five simple steps to making better decisions. He'll help you evaluate if you have enough time, sufficient information, the right people involved, and other key factors necessary to making strong choices."
   ]
  },
  {
   "cell_type": "markdown",
   "metadata": {},
   "source": [
    "### Managing Stress, Lynda.com, May, 2018\n",
    "Certificate: https://drive.google.com/open?id=1GQsXkNWtMN977XwwNGw1GMxWHrrRsNsO\n",
    "\n",
    "A little stress can be motivational; a lot of stress can damage your health and your relationships. The good news is that with the right management techniques, you can reduce the amount of stress in your life. In this short course, author and retired MBA professor Dr. Todd Dewett shares his tips for managing stress, including identifying your triggers, managing responses, and making positive personal choices."
   ]
  },
  {
   "cell_type": "markdown",
   "metadata": {},
   "source": [
    "### Managing Stress for Positive Change, Lynda.com, May, 2018\n",
    "Certificate: https://drive.google.com/open?id=12djBN8EJo2uB9XTcbVDzI4CDnZN1IS4h\n",
    "\n",
    "In the workplace, stress is often viewed in purely negative terms. It's seen as a response that should simply be minimized or pushed aside; however, it's possible to use stress to fuel positive change. In this course, join instructor Heidi Hanna, PhD as she discusses what stress is, exactly; how you can train yourself to use stress in more effective ways; and what managers can do to reduce employee stress when an organization experiences difficult times. She covers how individuals can use stress for good by assessing and adjusting it, as well as what you-as a manager-can do to create an environment and communication style that helps connect employees to the bigger picture.\n",
    "Topics include:\n",
    "- Defining stress\n",
    "- Your brain on stress\n",
    "- Using stress for good\n",
    "- What your brain craves\n",
    "- Reactions vs. responses\n",
    "- Training your attention\n",
    "- Creating a resilient culture"
   ]
  },
  {
   "cell_type": "markdown",
   "metadata": {},
   "source": [
    "### Managing Team Conflict, Lynda.com, May, 2018\n",
    "Certificate: https://drive.google.com/open?id=1TitCbE21vFuKC-O6ie_qXDzvez2YKAhS\n",
    "\n",
    "When you bring people together, conflict is a natural part of the dynamic. How leaders choose to manage these inevitable disagreements can make the difference between a dysfunctional team and a successful one. In this course, instructor Henna Inam shares strategies and techniques that can help you confidently lead through conflict. Throughout the course, Henna provides direct instruction, exercises, and scenarios that play out common team conflict situations. Discover why team conflict is necessary for success and how to determine whether a conflict is healthy or unhealthy. Review how to resolve style differences, remain both assertive and cooperative in the midst of a conflict, and leverage different conflict management styles to defuse tricky situations.\n",
    "Topics include:\n",
    "- Determining if your team's conflict is healthy or unhealthy\n",
    "- Resolving trust issues in team conflict\n",
    "- Aligning individual and team goals\n",
    "- Being both assertive and cooperative in team conflict\n",
    "- Resolving conflict during change or ambiguity\n",
    "- Using different team conflict management styles"
   ]
  },
  {
   "cell_type": "markdown",
   "metadata": {},
   "source": [
    "### Managing Your Manager, Lynda.com, May, 2018\n",
    "Certificate: https://drive.google.com/open?id=1xMzCfjQ08TAnrmckO9fBOHrAcTYFyBMm\n",
    "\n",
    "In this course, author, keynote speaker, and coach Dr. Todd Dewett shows how to manage your reputation and one of your most important work relationships: your rapport with your boss. Discover how to understand your manager's world, preferences, and lingo; support your boss's goals; be a help rather than a hindrance; and lead by offering solutions. Plus, learn how to manage particularly difficult types of bosses, such as the boss who's never available, the mean boss, or the boss who acts better than everyone else.\n",
    "Topics include:\n",
    "- Learning your manager's world\n",
    "- Understanding your manager's motivations and expectations\n",
    "- Helping your manager make decisions\n",
    "- Responding to feedback\n",
    "- Documenting issues\n",
    "- Working with new, remote, or inappropriate managers"
   ]
  },
  {
   "cell_type": "markdown",
   "metadata": {},
   "source": [
    "### Managing Your Time, Lynda.com, May, 2018\n",
    "Certificate: https://drive.google.com/open?id=1Q5HfmI-ZX-Ly6E3ETLyn_feWCEUdbcit\n",
    "\n",
    "In this short course, author Todd Dewett, PhD, shares four time-management tips that help everyone from busy executives to new employees get more out of their work day. Learn how to think differently about time management, embrace the 80% rule, find your \"Einstein\" window, protect that window, and broadcast your availability to ensure others know when you'll be available."
   ]
  },
  {
   "cell_type": "markdown",
   "metadata": {},
   "source": [
    "### Mergers and Acquisitions Foundations, Lynda.com, May, 2018\n",
    "Certificate: https://drive.google.com/open?id=1mOZujwQs7qJ4ehhH7stghvnaV5FN9Vrk\n",
    "\n",
    "Companies spend more than $2 trillion on mergers and acquisitions (M&A) every year, yet over 70 percent of these growth measures fail. In this course, professor and M&A expert Tim Galpin first explains why mergers and acquisitions occur, why they fail, and how to avoid making common mistakes. He then helps you craft your M&A strategy and outlines the eight stages of a merger. Finally, because integration is critical to M&A success, Galpin explains how to create work streams to ensure efficiency, and how you can measure whether your efforts have been successful."
   ]
  },
  {
   "cell_type": "markdown",
   "metadata": {},
   "source": [
    "### Modeling Courageous Leadership: Intelligent Disobedience, Lynda.com, May, 2018\n",
    "Certificate: https://drive.google.com/open?id=1lBu5xTuL5Np-nB2ePJaLFN76OZHonzAu\n",
    "\n",
    "\"Intelligent disobedience\" allows service animals to interpret commands in a way that honors their owner's intent, while avoiding hazards they might not anticipate. In this course, Bob McGannon, PMP, shows how intelligent disobedience translates to the business world and how it can help you become a more courageous leader. Learn how to challenge strict orders, voice unpopular opinions, take risks, and come up with creative solutions, all while keeping stakeholders' goals in mind."
   ]
  },
  {
   "cell_type": "markdown",
   "metadata": {},
   "source": [
    "### Persuading Others, Lynda.com, May, 2018\n",
    "Certificate: https://drive.google.com/open?id=1yeC_OINdIK_bAYiJ3pCneHAr249plZnX\n",
    "\n",
    "In a workplace that's increasingly connected and less hierarchical, developing your persuasion skills can be one of the most valuable investments you can make. Some people believe persuasion is about manipulation or getting your way, but it's not about tricking anyone or being inauthentic. Instead, persuasion is about making sure your best ideas get a fair hearing. In this course, communications and personal branding expert Dorie Clark helps you cultivate your persuasion skills in order to establish credibility when meeting new people, make it easier for people who know you to say \"yes,\" and communicate with authority.\n",
    "\n",
    "Lynda.com is a PMI Registered Education Provider. This course qualifies for professional development units (PDUs). To view the activity and PDU details for this course, click here.\n",
    "\n",
    "The PMI Registered Education Provider logo is a registered mark of the Project Management Institute, Inc.\n",
    "Topics include:\n",
    "- Getting someone to like you right away\n",
    "- How to be viewed as immediately credible\n",
    "- Overcoming a bad first impression\n",
    "- Persuading the people you already know\n",
    "- Sharing your ideas and getting noticed\n",
    "- Communicating with authority\n",
    "- Overcoming naysayers"
   ]
  },
  {
   "cell_type": "markdown",
   "metadata": {},
   "source": [
    "### Powerless to Powerful: Taking Control, Lynda.com, May, 2018\n",
    "Certificate: https://drive.google.com/open?id=1RcIKP5knvav9Lda_QkCjkZYwAs4F-PUu\n",
    "\n",
    "Victimhood means blaming other people or outside circumstances when faced with life's challenges. This \"it's not my fault\" mentality can scale to teams, organizations, and societies. But why shift blame when you can take control? In this course, executive coach and LinkedIn's head of organizational development Fred Kofman helps you make the choice to embrace life's challenges, to go from victim to hero, and shows how to help others do the same through support and coaching."
   ]
  },
  {
   "cell_type": "markdown",
   "metadata": {},
   "source": [
    "### Project Management: Rescuing Troubled Projects, Lynda.com, May, 2018\n",
    "Certificate: https://drive.google.com/open?id=1RqYyrOZ5btH4siLbPbkLndhdYc_SRx6D\n",
    "\n",
    "Is your project falling apart and you're not sure how to rescue it? In this course, author and PMP Bob McGannon demonstrates time-tested strategies to rescue a failing project before it's too late, including a look at common indicators that trouble is ahead, a methodology for finding the root cause, and proactive strategies to realign your stakeholders, team, vision, and schedule.\n",
    "\n",
    "Lynda.com is a PMI Registered Education Provider. This course qualifies for professional development units (PDUs). To view the activity and PDU details for this course, click here.\n",
    "\n",
    "The PMI Registered Education Provider logo is a registered mark of the Project Management Institute, Inc."
   ]
  },
  {
   "cell_type": "markdown",
   "metadata": {},
   "source": [
    "### Projecting Intelligence, Lynda.com, May, 2018\n",
    "Certificate: https://drive.google.com/open?id=1ZLGjvPFgZH0p6JYUZlXLQdrGEFh-_Qfz\n",
    "\n",
    "No matter how smart you are, you can fail to communicate your intelligence to others. In this course, Dr. Todd Dewett explains the specific physical cues that project intelligence and suggests behaviors you can adopt to make a good first impression, such as effectively listening, admitting your imperfections, and speaking modestly but authoritatively. He also helps you understand how appearance and body language impact how other people think about you, and avoid common tactical mistakes. \n",
    "\n",
    "Lynda.com is a PMI Registered Education Provider. This course qualifies for professional development units (PDUs). To view the activity and PDU details for this course, click here.\n",
    "\n",
    "The PMI Registered Education Provider logo is a registered mark of the Project Management Institute, Inc."
   ]
  },
  {
   "cell_type": "markdown",
   "metadata": {},
   "source": [
    "### Putting ITIL® Into Practice: Applying ITIL® Foundation Concepts, Lynda.com, May, 2018\n",
    "Certificate: https://drive.google.com/open?id=1JE0sHe6ddQ4CYL0ZZik7fl_oj67ePnu9\n",
    "\n",
    "The Putting ITIL® Into Practice series is designed to help ITIL Foundation-certified professionals apply the concepts they have learned. It offers a fresh, agile, and directly applicable approach to help individuals, teams, and organizations apply ITIL. This course introduces the Seven Ways framework for applying the seven key ITIL Foundation concepts.\n",
    "\n",
    "Instructor David Pultorak covers services and service management; the service management lifecycle; service management terminology, principles, and models; service management processes; ITIL functions and roles; and the technology that can help you scale, automate, monitor, and optimize your services. In each chapter, he provides tips for moving concepts into practice. He helps you think through dos and don'ts, and provides valuable references and resources for learning more.\n",
    "Topics include:\n",
    "- Services and service management\n",
    "- The service management lifecycle\n",
    "- Service management terminology, principles, and models\n",
    "- Service management processes\n",
    "- ITIL functions\n",
    "- ITIL roles\n",
    "- Service management technology and architecture"
   ]
  },
  {
   "cell_type": "markdown",
   "metadata": {},
   "source": [
    "### Putting ITIL® into Practice: Problem Management Techniques, Lynda.com, May, 2018\n",
    "Certificate: https://drive.google.com/open?id=1khPWu9E_AdOVXWrhk6x7YXKLreD2orby\n",
    "\n",
    "Problem management is about preventing and resolving the problems underlying interruptions of IT services. A set of shared techniques can make the difference between success and failure. ITIL® mentions a set of techniques as best practice, but does not cover how to apply them. This course bridges the gap for IT pros, giving them a concise introduction to the seven problem management techniques endorsed by ITIL, including:\n",
    "\n",
    "Brainstorming\n",
    "Ishikawa diagrams\n",
    "Kepner-Tregoe root cause analysis\n",
    "Fault tree analysis\n",
    "Component failure impact analysis\n",
    "Service outage analysis\n",
    "Post-implementation and major problem review\n",
    "\n",
    "\n",
    "ITIL trainer David Pultorak outlines the what, why, where, and how of each technique, and provide examples so you can practice with the goal of placing each technique into \"muscle memory.\" He examines the 4 Ps that can contribute to or help resolve every problem—people, processes, products, and partners—and provides tips on where to go next."
   ]
  },
  {
   "cell_type": "markdown",
   "metadata": {},
   "source": [
    "### Rewarding Employees, Lynda.com, May, 2018\n",
    "Certificate: https://drive.google.com/open?id=1Kolp371MMqKIyZ1-L3XZHUSZMQrE8GH5\n",
    "\n",
    "Have rewards become too routine at your workplace? Have they lost meaning? In this short course, join author Todd Dewett in discussing the three principles of effectively rewarding employees: making sure rewards are earned, unique, and timely. Find out what happened to the CEO who learned a hard lesson about giving rewards that mean something to his team."
   ]
  },
  {
   "cell_type": "markdown",
   "metadata": {},
   "source": [
    "### Stay Lean with Kanban, Lynda.com, May, 2018\n",
    "Certificate: https://drive.google.com/open?id=1gVg2vxQ3xt_7DAJlFaX4y0Zw9ON-iYsl\n",
    "\n",
    "In many ways Kanban is counterintuitive. The system relies on basic rules and practices, and these rules can help you start a large-scale organizational change. The kanban board might only appear to be a simple diagram that shows the team's workflow. But it can help build cross-functional self-organized teams, encourage better collaboration, and increase your team's productivity. Kanban is a key way to introduce lean principles in your organization. Lean can help your teams better prioritize their work and continuously improve by removing the waste or \"muda\" from your process. In this course, explore essential lean principles and discover how to use a kanban board to help your team prioritize more effectively. Learn about starting enterprise lean, setting up a board, optimizing your flow, and more.\n",
    "Topics include:\n",
    "- Lean principles\n",
    "- Kanban and set capacities\n",
    "- Five properties of kanban\n",
    "- Starting enterprise lean\n",
    "- Creating a value stream map\n",
    "- Visualizing product flow\n",
    "- Using a cumulative flow diagram (CFD)\n",
    "- Setting up and working off of a kanban board\n",
    "- Pitfalls of Kanban"
   ]
  },
  {
   "cell_type": "markdown",
   "metadata": {},
   "source": [
    "### The Elevator Career Pitch, Lynda.com, May, 2018\n",
    "Certificate: https://drive.google.com/open?id=1iAjcl3mQLv0-dRXYdQgjF-FG4SlOgYpo\n",
    "\n",
    "If you're searching for a job, you've got to have your elevator pitch. James Citrin, the author of \"The Parent's Guide to the Career Playbook,\" explains how to do it."
   ]
  },
  {
   "cell_type": "markdown",
   "metadata": {},
   "source": [
    "### Using Questions to Coach and Lead, Lynda.com, May, 2018\n",
    "Certificate: https://drive.google.com/open?id=1OnJFH3vUe4cYDTzRa8q4p62wQs8UWRc9\n",
    "\n",
    "The one trait many successful leaders share is their natural curiosity and desire to learn. We are all innately curious—so why is it that some people seem to discover more answers and lead a more empowering life than others? Put simply, they tend to think critically and ask the right questions. In this course, learn how to leverage the power of questions to move your team, leadership, and career to the next level. Join Joshua Miller as he spells out the benefits of getting curious and shares how to empower yourself through questions. Discover social media's role in asking questions, why certain types of questions can lead to dead ends, how to effectively answer questions that are directed at you, and more.\n",
    "\n",
    "So much is missed by not raising your hand, your voice, or your platform. Upon completing this course, you'll have a better understanding of how to use questions to seize opportunities and open doors."
   ]
  },
  {
   "cell_type": "markdown",
   "metadata": {},
   "source": [
    "### Workshop Facilitation, Lynda.com, May, 2018\n",
    "Certificate: https://drive.google.com/open?id=1a2kUnc-4-6zJRRDISZg4HSFSiKFONcXC\n",
    "\n",
    "A successful workshop can have a profound impact on participants, introducing them to concepts and ways of thinking that can spark professional development and personal growth. In order to facilitate such an event, you need the right structure, process, and content. In this course, Britt Andreatta, PhD, discusses the role of the facilitator, and walks through how to effectively design, prepare for, and facilitate a workshop. Britt kicks off the course by covering the different types of workshop facilitation, and sharing tips for catering to the unique needs of adult learners. Next, she shows how to set yourself up for success by building a solid learning plan and agenda, designing the right activities, and tackling the logistics of the event. Britt then explains how to handle the workshop itself, including how to keep things on track and deal with challenging dynamics. Plus, she discusses how to extend the learner's journey after the event.\n",
    "Topics include:\n",
    "- Facilitating adult learners\n",
    "- Best practices in workshop design\n",
    "- Understanding your participants\n",
    "- Designing the right activities\n",
    "- Preparing the logistics\n",
    "- Facilitating the workshop\n",
    "- Keeping things on track\n",
    "- Increasing participation and collaboration\n",
    "- Solving unexpected problems\n",
    "- Dealing with challenging dynamics\n",
    "- Creating closure"
   ]
  },
  {
   "cell_type": "markdown",
   "metadata": {},
   "source": [
    "## April, 2018"
   ]
  },
  {
   "cell_type": "markdown",
   "metadata": {},
   "source": [
    "### Balanced Scorecard and Key Performance Indicators, Lynda.com, April, 2018\n",
    "Certificate: https://drive.google.com/open?id=1N6BJXRSOiYt5cclTyDr5-KTU4EHZv3PP\n",
    "\n",
    "There's a critical link between an organization's goals and its performance metrics. A beautiful mission statement is nothing without specific, actionable measures that provide incentives to succeed. These actionable numeric measures are called key performance indicators (KPIs) and can be organized into a structure called the balanced scorecard. The scorecard helps you quantify business performance over time: weeks, months, quarters, or even years.\n",
    "\n",
    "In this course, accounting professors Jim and Kay Stice explain what KPIs your business should consider in a balanced scorecard, from financial goals to employee and customer satisfaction. They describe how to craft a clear mission statement that complements your KPIs, and how to tie performance to incentives. Plus, get a look at KPIs in action, as Jim and Kay break down a case study examining a trucking company's balanced scorecard.\n",
    "Topics include:\n",
    "- The importance of KPIs and measuring performance\n",
    "- Financial goals and measure\n",
    "- Customer needs and satisfaction\n",
    "- Employee growth\n",
    "- Creating an effective mission statement\n",
    "- Linking measurements and rewards\n",
    "- Examining a KPI case study"
   ]
  },
  {
   "cell_type": "markdown",
   "metadata": {},
   "source": [
    "### Business Analysis Foundations, Lynda.com, April, 2018\n",
    "Certificate: https://drive.google.com/open?id=1g1LINuP3Oq_dJ0gOXmlKkuMlQYDnGcxQ\n",
    "\n",
    "Every project needs someone that can help turn ideas into reality: a business analyst. Join author and certified business analyst Haydn Thomas as he walks you through the fundamentals of business analysis tools and techniques. Haydn will demonstrate how these skills are used to gather requirements and identify solutions to provide better business outcomes on your change initiatives.\n",
    "\n",
    "Discover where business analysis lives in the project life cycle, how to initiate a project, the best way to gather requirements, and smart strategies to monitor results and test outcomes.\n",
    "\n",
    "Lynda.com is a PMI Registered Education Provider. This course qualifies for professional development units (PDUs). To view the activity and PDU details for this course, click here.\n",
    "\n",
    "The PMI Registered Education Provider logo is a registered mark of the Project Management Institute, Inc.\n",
    "Topics include:\n",
    "- Understanding what business analysts do\n",
    "- Defining business opportunities and objectives\n",
    "- Identifying stakeholders\n",
    "- Gathering requirements through observation and brainstorming\n",
    "- Validating requirements\n",
    "- Developing project acceptance criteria\n",
    "- Implementing, testing, and closing your project<br><br>\n",
    "- The PMI Registered Education Provider logo is a registered mark of the Project Management Institute, Inc."
   ]
  },
  {
   "cell_type": "markdown",
   "metadata": {},
   "source": [
    "### Business Analysis Fundamentals - 2018, Udemy.com, April, 2018\n",
    "Certificate: https://drive.google.com/open?id=1Co4MAWcw75mqQwV1qzyX5FEQo3_OaPUV\n",
    "\n",
    "Become a Business Analyst: Learn the core concepts of business analysis to land your dream Business Analysis job!\n",
    "\n",
    "This course will teach you how to become a successful Business Analyst! \n",
    "\n",
    "I take my years of experience in the Business Analysis field and roll them all into this one course. If you are an aspiring Business Analyst or one that is new to the role, this course needs to be your first stop to lay the foundation you will build all future knowledge and experience on top of.\n",
    "\n",
    "\n",
    "::::::::::::::::::::::::::::::::::::::::::::::::::::::::::::::::::::\n",
    "\n",
    "Hear What Our Students Are Saying:\n",
    "\n",
    "\"The videos are not only extremely informative but they are highly interesting. Jeremy keeps me engaged and attentive with his style of knowledge delivery. The content is very detailed. I have attended many other BA courses but it never made me confident to take up the role of a BA. With Jeremy's videos, I am not even half-way through his lectures yet I feel highly confident about what I have learnt so far. I think I am going to make myself proud! Thank you, Jeremy.\" -Geet D.\n",
    "\n",
    "\"This was an excellent course. Content and presentation brilliant. I learnt a lot and will certainly be putting it into practice. Thanks!\"  -Dave S.\n",
    "\n",
    "\"I am a student with no prior formal knowledge on Business Analysis. Course material and explanations are clear, well illustrated, enhanced with examples and professional choice of words. Instructor is easy to follow. Practical, comprehensive, highly recommend!\"  -Rob G.\n",
    "\n",
    "\"Great inside knowledge from Jeremy, clear and concise. Explains Business Analysis concepts in a way that is easy to understand and gives a solid base of the fundamentals.\" -German M.\n",
    "\n",
    "::::::::::::::::::::::::::::::::::::::::::::::::::::::::::::::::::::\n",
    "\n",
    "Why should you explore a career as a Business Analyst?\n",
    "\n",
    "Great Pay - The average salary of a Business Analyst (BA) is over $78,000 per year!\n",
    "Job Market Growth - The Business Analysis job market is expected to grow at a rate of 19% over the next 10 years!\n",
    "Springboard to Other Careers - Skills learned as a Business Analyst are crucial in many other IT and Business professions\n",
    "Uses Existing Industry Knowledge - Knowledge gained outside of the Business Analyst title is highly valued\n",
    "Different Each Day - The job in Business Analysis is never stale. There are always new projects and challenges to tackle\n",
    "\n",
    "::::::::::::::::::::::::::::::::::::::::::::::::::::::::::::::::::::\n",
    "\n",
    "Why should I enroll?\n",
    "\n",
    "Getting into the Business Analysis field was one of the best decisions of my life! Unfortunately for me, the road was a little rocky as I had to learn techniques and skills the hard way, through project misses and failures. I am here to help you and make the path to becoming a successful Business Analyst less painful. This course will provide you with all of the details you need to not only become a Business Analyst, but to also be successful at it!\n",
    "\n",
    "\n",
    "::::::::::::::::::::::::::::::::::::::::::::::::::::::::::::::::::::\n",
    "\n",
    "What bonuses are included?\n",
    "\n",
    "\n",
    "Access to the searchable Business Analyst Glossary. The Business Analysis field is inundated with complex terms and acronyms. This searchable glossary is a critical tool for you to learn and understand what those terms and abbreviations mean.\n",
    "A Business Requirements Document (BRD) example template that you can utilize to practice your requirement documentation skills.\n",
    "Outside of these bonuses, you also gain access to to an industry expert! I am not just the instructor of this course, I am also a resource and a mentor to give you guidance and tips to begin or advance your career.\n",
    "\n",
    "::::::::::::::::::::::::::::::::::::::::::::::::::::::::::::::::::::\n",
    "\n",
    "Still Unsure? Hear What Our Other Students Are Saying:\n",
    "\n",
    "\"Very good course and delivery style. 100% recommended for new and experienced BAs\" -Ike E.\n",
    "\n",
    "\"This course is simply brilliant! Very informative, good examples and importantly well dispatched. Thanks Jeremy.\" -Godwin D.\n",
    "\n",
    "\"I thank you for sharing your knowledge and appreciate your guidance.\" -Mohit\n",
    "\n",
    "\"The pace of the lectures is perfect. Jeremy keeps the lectures interesting, engaging and knowledgeable at the same time. Great work.\" -Sumit L.\n",
    "\n",
    "::::::::::::::::::::::::::::::::::::::::::::::::::::::::::::::::::::\n",
    "\n",
    "You have nothing to lose! This course comes with a 30 day money back guarantee. If you are not completely satisfied with your purchase, you'll be given a refund. No questions asked! \n",
    "\n",
    "Invest in your future! Enroll today!\n",
    "\n",
    "What are the requirements?\n",
    "\n",
    "This course covers all of the fundamentals. No prior knowledge is required.\n",
    "Interest in the field of Business Analysis\n",
    "What am I going to get from this course?\n",
    "\n",
    "Gain a solid foundation of Business Analysis knowledge\n",
    "Understand the roles a Business Analyst can play and the tasks they perform\n",
    "Learn the intricacies of the Software Development Life Cycles (SDLC) popular with businesses today\n",
    "Gain the practical knowledge to successfully initiate a project\n",
    "Ability to accurately and efficiently elicit requirements\n",
    "Learn about modeling techniques used to make requirements understandable by all business and technical stakeholders\n",
    "Understand the techniques used to remove ambiguity from requirements\n",
    "Have the confidence to successfully facilitate requirements approval meetings\n",
    "What is the target audience?\n",
    "\n",
    "Aspiring Business Analysts. Including those that are graduating from college and those that are looking to make a career change.\n",
    "Business Analysts new to the position\n",
    "Those interested in learning more about the Business Analyst position within organizations"
   ]
  },
  {
   "cell_type": "markdown",
   "metadata": {},
   "source": [
    "### Business Analyst: Essential Modeling Skills & Techniques, Udemy.com, April, 2018\n",
    "Certificate: https://drive.google.com/open?id=1-JvwKOiDvpF3bizvACZSNqUV11lbIrBD\n",
    "\n",
    "Learn to create Process Flowcharts, User Stories, Use Cases, SWOT Analysis, RACI Matrix, Scoring Matrices, and more!\n",
    "\n",
    "Prospective employers list modeling as one of the most in demand skills they look for in Business Analysts today. This course will provide you the knowledge, skills, and techniques to take advantage of that demand! \n",
    "\n",
    "Modeling is the concept of making complex thoughts, ideas, requirements, and processes easier to understand by putting them into a graphical format.Having the ability to articulate complex topics in a way that anyone can understand, regardless of their role or experience, is priceless. \n",
    "\n",
    "::::::::::::::::::::::::::::::::::::::::::::::::::::::::::::::::::::\n",
    "\n",
    "Hear What Our Students Are Saying:\n",
    "\n",
    "\"I have a better understanding of Business Analyst responsibilities and duties. The course was easy to understand due to the practical examples and student activities utilized to solidify the concepts presented. I am a \"learn by doing\" individual. I will be continuing delving into other Business Analyst related courses. I worked with and been subjected to the visual modeling concepts, but never had any formal training. Thank you.\" -Michelle B.\n",
    "\n",
    "\"Great combination of theory and examples\" -Gerald J.\n",
    "\n",
    "\"Another great course! Jeremy introduced visual modeling concepts I was unfamiliar with and expanded on others I had seen but never fully understood. I think this class along with his Business Analysis Fundamentals class compliment each other very well and provide the basics one would need to pursue a Business Analyst position.\" -Robert S.\n",
    "\n",
    "\"Really insightful, full of details, examples, and opportunities to apply newly gained knowledge.\" -Munzolli\n",
    "\n",
    "\"Useful information. Easy to understand. Practical applications. All good!\" -Kia M.\n",
    "\n",
    "::::::::::::::::::::::::::::::::::::::::::::::::::::::::::::::::::::\n",
    "\n",
    "What visual models are included in this course?\n",
    "\n",
    "This single course will teach you EIGHT of the most popular modeling techniques! \n",
    "\n",
    "Process Flowcharts\n",
    "SWOT Analysis\n",
    "Use Cases\n",
    "User Stories\n",
    "Stakeholder Maps\n",
    "RACI Matrices\n",
    "Scoring Matrices\n",
    "Organizational Charts\n",
    "::::::::::::::::::::::::::::::::::::::::::::::::::::::::::::::::::::\n",
    "\n",
    "\n",
    "This course is taught with The BA Guide's TEACH, SHOW, DO.\n",
    "\n",
    "TEACH - First, you learn a concept. You'll learn not only what it is but also how and when to use it.\n",
    "SHOW - Once you understand the concept, we enhance your understanding by walking you through real-world examples to give it some context.\n",
    "DO - You then put your new knowledge to the test by completing activities and quizzes. This will not only validate you fully understand the concept, but it will also greatly increase your ability to retain the information.\n",
    "\"Tell me and I forget. Teach me and I remember. Involve me and I learn.\" - Benjamin Franklin\n",
    "\n",
    "::::::::::::::::::::::::::::::::::::::::::::::::::::::::::::::::::::\n",
    "\n",
    "Why should I enroll?\n",
    "\n",
    "The visual modeling techniques taught in this course are taught with no fluff added. I respect your time and want to teach you what you need to know to successfully utilize the model, without bogging down in the unnecessary details or theory. \n",
    "\n",
    "If you are an aspiring Business Analyst these skills will provide a huge boost to your resume and provide you the knowledge to confidently answer any related interview questions.\n",
    "\n",
    "If you are a current Business Analyst these skills will lead to more successful projects as stakeholders will have a clearer understanding of your vision.\n",
    "\n",
    "You have nothing to lose! This course comes with a 30 day money back guarantee. If you are not completely satisfied with your purchase, you'll be given a refund. No questions asked!\n",
    "\n",
    "::::::::::::::::::::::::::::::::::::::::::::::::::::::::::::::::::::\n",
    "\n",
    "What bonuses are included?\n",
    "\n",
    "This course gives you access to numerous modeling templates. You are free to download these and use them within your current and future projects.\n",
    "\n",
    "SWOT Analysis Template\n",
    "Scoring Matrix Template\n",
    "Stakeholder Map Template\n",
    "RACI Matrix Template\n",
    "Org Chart Template\n",
    "Use Case Template\n",
    "User Story Template\n",
    "Outside of the templates, you also gain access to to an industry expert! I am not just the instructor of this course, I am also a resource and a mentor to give you guidance and tips to begin and advance your Business Analyst career.\n",
    "\n",
    "::::::::::::::::::::::::::::::::::::::::::::::::::::::::::::::::::::\n",
    "\n",
    "Invest in your future. Enroll today!\n",
    "\n",
    "What are the requirements?\n",
    "\n",
    "This course covers each visual modeling technique from the ground floor. No prior experience is necessary.\n",
    "The course is spoken from a Business Analyst perspective, but the visual models are instrumental from many different job titles.\n",
    "The various visual models will be made with a combination of Microsoft Excel and Microsoft Visio. Having access to these programs is suggested, but not required.\n",
    "What am I going to get from this course?\n",
    "\n",
    "Create SEVEN different visual models including Process Flowcharts, Use Cases, SWOT Analysis, RACI Matrix, Org Charts, Scoring Matrix, Stakeholder Maps, and more!\n",
    "Understand how visual modeling can help in daily requirement activities.\n",
    "Ability to read and create important business and technical visual models.\n",
    "Utilize visual modeling to make requirements come alive.\n",
    "Ability to choose the best visual model to aid in various situations.\n",
    "Increase your project success by giving your stakeholders a clearer understanding of your vision.\n",
    "Confidently explain and demonstrate the uses of visual models in an interview.\n",
    "What is the target audience?\n",
    "\n",
    "Aspiring Business Analysts wanting to increase their ability to land that Business Analyst job.\n",
    "Current Business Analysts looking to increase their value and general more successful projects.\n",
    "Anyone who analyzes, elicits, or documents requirements.\n",
    "Developers who want to better understand and have the ability to create various visual models."
   ]
  },
  {
   "cell_type": "markdown",
   "metadata": {},
   "source": [
    "### Business Analytics Foundations: Predictive, Prescriptive, and Experimental Analytics, Lynda.com, April, 2018\n",
    "Certificate: https://drive.google.com/open?id=11g3P648Scy90JpFqMANsTSPHKqLvWfyv\n",
    "\n",
    "Business analytics encompasses a set of tools, technologies, processes, and best practices that are required to derive knowledge from data. It's an iterative and methodical exploration of data to derive insights from it—and, in turn, make smarter, more strategic decisions that are grounded in facts. In this course, learn about the stages in business analytics that are used to predict and build the future—predictive analytics, prescriptive analytics, and experimental analytics. This course dives into each stage, discussing the tools and techniques used for each, as well as best practices leveraged in the field. In addition, the course lends a real-world context to these concepts by using a use case to demonstrate how to execute analytics in each stage.\n",
    "Topics include:\n",
    "- What is business analytics?\n",
    "- How business analytics compares to business intelligence and data science\n",
    "- Business analytics process\n",
    "- Predictive analytics tools and techniques\n",
    "- Best practices for prescriptive analytics\n",
    "- Scope and process of experimental analytics"
   ]
  },
  {
   "cell_type": "markdown",
   "metadata": {},
   "source": [
    "### GDPR Compliance: Essential Training, Lynda.com, April, 2018\n",
    "Certificate: https://drive.google.com/open?id=1HOq6EGo49df1tuqkvuKwOEd1bUJRhcGP\n",
    "\n",
    "The General Data Protection Regulation (GDPR) is a new privacy-related regulation in the EU that will become active and enforceable in May of 2018. GDPR requires US companies doing business in the EU to protect citizen privacy, and companies who do not comply will face heavy fines. This course is intended to outline who needs to do this, what they need to do, and how they need to do it. Learn about the scope of GDPR, the definition of a personal data breach, the rights of data subjects, incident response requirements under GDPR, and more.\n",
    "\n",
    "DISCLAIMER: Neither LinkedIn nor the instructor represents you, and they are not giving legal advice. The information conveyed through this course is not intended to give legal advice, but instead to communicate information to help viewers understand the basics of the topic presented. Certain concepts may not apply in all countries. The views (and legal interpretations) presented in this course do not necessarily represent the views of LinkedIn or Lynda.com.\n",
    "Topics include:\n",
    "- Compliance deadlines and penalties\n",
    "- Data controllers and data processors under GDPR\n",
    "- Exploring the role of the data protection office\n",
    "- Technical measures outlined in the GDPR\n",
    "- Reviewing the right to be forgotten and the situations that allow erasure\n",
    "- Rules for children under the age of 16\n",
    "- Breach notification"
   ]
  },
  {
   "cell_type": "markdown",
   "metadata": {},
   "source": [
    "### Google Analytics for Beginners, Analytics Academy, April, 2018\n",
    "Certificate: https://drive.google.com/open?id=13n-zWvYZ8UJtdpAVs5vxK4muA7fDFyIs \n",
    "\n",
    "(Expires April 11, 2020)\n",
    "\n",
    "Google Analytics for Beginners shows new users how to create an account, implement tracking code, and set up data filters. You'll learn how to navigate the Google Analytics interface and reports, and set up dashboards and shortcuts. The course will also demonstrate how to analyze basic Audience, Acquisition, and Behavior reports, and set up goals and campaign tracking."
   ]
  },
  {
   "cell_type": "markdown",
   "metadata": {},
   "source": [
    "### Instructional Design: Needs Analysis, Lynda.com, April, 2018\n",
    "Certificate: https://drive.google.com/open?id=1q9_Ng2lnha1m-CAlAwbmpR-OixSSjhlr\n",
    "\n",
    "Need to understand the training requirements of your learners? A needs analysis is the first step of any ADDIE-aligned instructional design process. Join Jeff Toister in this installment of Instructional Design Essentials and learn the three-step process to conducting a needs analysis that will accurately capture and define the goals of your project. Jeff brings his 20+ years of instructional design experience to bear, and helps you set clear goals with project sponsors, gather data from participants quickly, and analyze the data to identify gaps in your current system and goals for your future one.\n",
    "Topics include:\n",
    "- Setting project objectives\n",
    "- Identifying the target audience for training\n",
    "- Selecting data sources\n",
    "- Facilitating focus groups and interviews\n",
    "- Designing effective surveys\n",
    "- Identifying participant needs\n",
    "- Defining learning outcomes\n",
    "- Presenting results to project sponsors"
   ]
  },
  {
   "cell_type": "markdown",
   "metadata": {},
   "source": [
    "### Leading Effectively, Lynda.com, April, 2018\n",
    "Certificate: https://drive.google.com/open?id=1s6lkTzC3TtwSnLqzpLQ3QbgLpMBw-2mt\n",
    "\n",
    "Leaders all face the same challenge: too much to do and not enough time to do it. In this course, leadership consultant Mike Figliuolo introduces the concept of \"leadership capital,\" which is the finite amount of time and energy you have available to lead, manage, and develop your team members. He outlines the four ways leaders invest their leadership capital: directing people, making sure the work gets done, making sure the work is delivered, and developing talent. He then helps you assess whether you are using your leadership capital wisely by looking at team results: the quantity of work, the quality of work, timeliness, and impacts on morale and relationships. At the end, he explains how to reallocate your leadership capital and change both your behavior and your team's in order to improve performance.\n",
    "Topics include:\n",
    "- Leadership capital explained\n",
    "- Investing leadership capital\n",
    "- Doing the work\n",
    "- Developing your people\n",
    "- Getting team member results\n",
    "- Building team morale\n",
    "- Assessing results\n",
    "- Comparing investments and returns"
   ]
  },
  {
   "cell_type": "markdown",
   "metadata": {},
   "source": [
    "### Leading with Emotional Intelligence, Lynda.com, April, 2018\n",
    "Certificate: https://drive.google.com/open?id=1F-c9gAyWSOOWDThDd0skhofVZbxF-GUM\n",
    "\n",
    "Emotions are all around us in the office, and it's important for leaders to understand how to harness them to cultivate productivity and positive relationships. In this course, lynda.com director of learning and development Britt Andreatta shows how to develop emotional intelligence to better lead teams, work with peers, and manage up.\n",
    "\n",
    "Learn what emotional intelligence is and how it factors in at work and discover concrete techniques for raising your own emotional quotient (EQ). This includes perceiving yourself accurately, exercising emotional self-control, practicing resilience, and developing empathy. Then turn those lessons around to build your awareness of others and learn to inspire helpful communication and manage conflict.\n",
    "\n",
    "Lynda.com is a PMI Registered Education Provider. This course qualifies for professional development units (PDUs). To view the activity and PDU details for this course, click here.\n",
    "\n",
    "The PMI Registered Education Provider logo is a registered mark of the Project Management Institute, Inc.\n",
    "Topics include:\n",
    "- What is emotional intelligence?\n",
    "- Cultivating emotional intelligence\n",
    "- Exercising emotional self-control\n",
    "- Working with your triggers\n",
    "- Getting to know others\n",
    "- Maximizing team performance\n",
    "- Building influence<br><br>\n",
    "- The PMI Registered Education Provider logo is a registered mark of the Project Management Institute, Inc."
   ]
  },
  {
   "cell_type": "markdown",
   "metadata": {},
   "source": [
    "### Learning Data Modeling, Udemy.com, April, 2018\n",
    "Certificate: https://drive.google.com/open?id=1aBjOtXzrzoInaV82yGTff_a_BSQfmkSn\n",
    "\n",
    "A step by step guide to data modeling concepts and best practices underpinning sound database design.\n",
    "\n",
    "Truly effective database design depends on having a coherent data model to work from. This course will help you learn the theory and process of creating data models suitable for everything from small business to enterprise and data center environments. Michael Blaha will teach you how to plan and construct data models, as well as build upon those models through an actual database. You will start by learning about the data modeling development process, then jump into basic and advanced data modeling. From there, Michael will teach you how to create a UML data model, including finding classes, adding attributes, and simplifying the model.\n",
    "\n",
    "This video tutorial also covers how to translate a UML data model into an IE data model, model quality, the different kinds of data models, and database design. You will also learn how to create an SQL server database, an MS-Access database, and develop frameworks. Finally, Michael will teach you about data modeling patterns and database reverse engineering. Once you have completed this computer based training course, you will be fully capable of creating your own data models.\n",
    "\n",
    "What are the requirements?\n",
    "\n",
    "some knowledge of programming principles is strongly recommended.\n",
    "What am I going to get from this course?\n",
    "\n",
    "conceptually plan a coherent data model to plan and design enterprise-quality databases.\n",
    "differentiate between UML and IE data models.\n",
    "create databases with SQL and Microsoft Access.\n",
    "What is the target audience?\n",
    "\n",
    "developers and IT professionals who want a thorough understanding of formal data concepts and models as they relate to database design."
   ]
  },
  {
   "cell_type": "markdown",
   "metadata": {},
   "source": [
    "### Learning Infographic Design, Lynda.com, April, 2018\n",
    "Certificate: https://drive.google.com/open?id=1jycZmierKxvNa686zggal-VRYsZjfshB\n",
    "\n",
    "Over 10,000 infographics are released online everyday, but less than 1% see any real success. To create a successful infographic, you can't combine any text and imagery and call it a day. Infographics aren't just eye candy! It's when designers truly understand the power of visual communication that their infographics break through. Using a few basic design guidelines, they can illustrate big problems in clear language, distill complex ideas, and call attention to overlooked issues.\n",
    "\n",
    "In this course, Amy Balliett, CEO of Killer Infographics, shows members how to create engaging and successful infographics that will stand out from the crowd. She explains the science behind good visual communication, reviews the different types of infographics, and introduces design principles and techniques that will help you build engaging and successful infographics.\n",
    "Topics include:\n",
    "- Why visual communication matters\n",
    "- Types of infographics\n",
    "- Focusing on message and accuracy\n",
    "- Researching the infographic\n",
    "- Building a wireframe design\n",
    "- Working in Adobe Illustrator\n",
    "- Publishing and marketing your infographic"
   ]
  },
  {
   "cell_type": "markdown",
   "metadata": {},
   "source": [
    "### Learning Salesforce, Lynda.com, April, 2018\n",
    "Certificate: https://drive.google.com/open?id=1utXDW-QD5ROz_-RL01xI3_EqMPsflL9j\n",
    "\n",
    "Large Fortune 500 companies and small startup businesses alike turn to Salesforce for their customer relationship management (CRM) needs. This course shows you how to start using Salesforce for managing all of your customer data, beyond email addresses and phone numbers. You can track each interaction, event, task, and more. Learn how to set up your profile, navigate the main tabs, search, and customize your dashboard. See how to create accounts, add your contacts, and convert leads into opportunities. Discover how to use reports to make informed decisions and close more deals. Get ready to conquer the basics and become comfortable with using this professional CRM tool.\n",
    "\n",
    "Lynda.com is a PMI Registered Education Provider. This course qualifies for professional development units (PDUs). To view the activity and PDU details for this course, click here.\n",
    "\n",
    "The PMI Registered Education Provider logo is a registered mark of the Project Management Institute, Inc.\n",
    "Topics include:\n",
    "- Navigating Salesforce\n",
    "- Setting up your profile\n",
    "- Creating accounts\n",
    "- Adding contacts and leads\n",
    "- Converting leads into opportunities\n",
    "- Logging tasks, meetings, and activities\n",
    "- Running a search\n",
    "- Monitoring your dashboard\n",
    "- Customizing reports"
   ]
  },
  {
   "cell_type": "markdown",
   "metadata": {},
   "source": [
    "### Measuring Business Performance, Lynda.com, April, 2018\n",
    "Certificate: https://drive.google.com/open?id=1cc4ksYXuVqicgKIDurb3-v7z5WZLhfZv\n",
    "\n",
    "All organizations are looking for that perfect metric—the one data point that will tell them everything they need to be successful. Companies can make a ton of errors in measuring themselves, but developing better metrics can be challenging. In this course, instructor Eddie Davila explains why it's important to measure performance and highlights some of the most common errors in measuring your own company's performance. He explains what makes a good metric, how to evaluate your current measurement system to see if it aligns with your organization's goals, and how you can develop and test a system of measurement from scratch. Along the way, he also covers the importance of data visualization tools such as dashboards and infographics.\n",
    "\n",
    "Lynda.com is a PMI Registered Education Provider. This course qualifies for professional development units (PDUs). To view the activity and PDU details for this course, click here.\n",
    "\n",
    "The PMI Registered Education Provider logo is a registered mark of the Project Management Institute, Inc.\n",
    "Topics include:\n",
    "- Metrics and human behavior\n",
    "- Common corporate errors in measuring\n",
    "- Developing a good metric\n",
    "- Using the performance measurement tune-up\n",
    "- Avoiding redundancy\n",
    "- Using dashboards, infographics, and other data visualization tools"
   ]
  },
  {
   "cell_type": "markdown",
   "metadata": {},
   "source": [
    "### Requirements Elicitation for Business Analysts: Interviews, April, 2018\n",
    "Certificate: https://drive.google.com/open?id=1v9bT3l9kqF2Kth82wmRE_CVm6jgm39C-\n",
    "\n",
    "Interviews are the most popular way to elicit project requirements. They also help business analysts and project managers understand the project from the user's point of view. This course reviews interview techniques that help build relationships with project stakeholders and obtain accurate information about the project needs. Angela Wick helps you identify when to use interviews for requirements gathering, who to interview, and how to plan, conduct, and follow up on interviews.\n",
    "\n",
    "Lynda.com is a PMI Registered Education Provider. This course qualifies for professional development units (PDUs). To view the activity and PDU details for this course, click here.\n",
    "\n",
    "The PMI Registered Education Provider logo is a registered mark of the Project Management Institute, Inc.\n",
    "Topics include:\n",
    "- Choosing to use interviews\n",
    "- Selecting the right person to interview\n",
    "- Planning interview questions\n",
    "- Building rapport in an interview\n",
    "- Choosing probing questions\n",
    "- Listening and taking notes\n",
    "- Analyzing and reviewing notes before following up"
   ]
  },
  {
   "cell_type": "markdown",
   "metadata": {},
   "source": [
    "### SAP BI/SAP Business Objects Web Intelligence, Udemy.com, April, 2018\n",
    "Certificate: https://drive.google.com/open?id=15ODiZAhH1wxOf_X0Xdx2Q2umPEYRzWhR\n",
    "\n",
    "SAP BO 4.1 Web Intelligence course gives you the comprehensive reporting knowledge and real-project perspective!\n",
    "\n",
    "One of the most significant thing in a real project is positioning the proper product according to needs of your companies.\n",
    "\n",
    "Therefore during this course you will firstly learn fundamental concepts and discrepancies of Business Objects products.\n",
    "\n",
    "Afterwards you will learn the basics and most-commonly used features of SAP Business Objects Web Intelligence.\n",
    "\n",
    "In this course you will :\n",
    "\n",
    "-Learn how to create a web Intelligence document and share your analysis with other users\n",
    "-Learn how to organize ,manage and distribute documents using BI Launch Pad\n",
    "-Learn how to run existing reports and export the data to text files\n",
    "-Describe semantic layer of SAP Business Objects\n",
    "-Retrieve and collect data from different data sources\n",
    "-Learn advanced tips&tricks of reporting layer\n",
    "-Design sample reports which commonly used in real projects\n",
    "\n",
    "This course focuses on learning through step by step examples rather than bogging you down with theory.\n",
    "\n",
    "FOOTNOTE !\n",
    "\n",
    "The mainly important achievement of this course is not only will we specify reporting demands that looks like real project business questions we will also answer these questions by using advanced reporting techniques with practical examples.\n",
    "\n",
    "What are the requirements?\n",
    "\n",
    "General knowledge about Business Intelligence\n",
    "What am I going to get from this course?\n",
    "\n",
    "Over 26 lectures and 5 hours of content!\n",
    "Enhance your SAP Business Objects knowledge\n",
    "Create your own Web Intelligence report by using different data sources\n",
    "Analyse business needings and design your reports according to new demands\n",
    "What is the target audience?\n",
    "\n",
    "Everyone interested in SAP Business Objects"
   ]
  },
  {
   "cell_type": "markdown",
   "metadata": {},
   "source": [
    "### Setting Business Unit Goals, Lynda.com, April, 2018\n",
    "Certificate: https://drive.google.com/open?id=1uyrsQeUoZuAqXUOeCniYQSzqtX7h_TlU\n",
    "\n",
    "Effective goal setting requires leaders to translate high-level corporate goals down to the business unit, and then break them down even further into team and individual goals. That way, employees can understand how their performance connects to company strategy, financial results, and incentives. In this course, leadership consultant Mike Figliuolo outlines how to set different types of business goals: quantitative, qualitative, commit, and stretch goals. In addition to linking goals to strategy, he emphasizes the importance of setting achievable goals, communicating them clearly, and providing resources so goals can be accomplished. Last, he provides guidance on managing goal performance and adjusting goals as business needs and resources change.\n",
    "Topics include:\n",
    "- Setting quantitative and qualitative goals\n",
    "- Setting commit and stretch goals\n",
    "- Linking goals to strategy\n",
    "- Reality checking goals\n",
    "- Communicating goals\n",
    "- Measuring goal performance\n",
    "- Revising goals"
   ]
  },
  {
   "cell_type": "markdown",
   "metadata": {},
   "source": [
    "### Tableau 10 Essential Training, Lynda.com, April, 2018\n",
    "Certificate: https://drive.google.com/open?id=19LxOOBfXzRRpdNv5LWxDp_UNnKgV4biE\n",
    "\n",
    "Tableau is the widely used data analytics and visualization tool that many consider indispensable for data-science-related work. Its drag-and-drop interface makes it easy to sort, compare, and analyze data from multiple sources, including Excel, SQL Server, and cloud-based data repositories. Tableau 10: Essential Training explains everything you need to know to analyze and display data using Tableau Desktop—and make better, more data-driven decisions for your company. After completing the course, you'll be able to install Tableau, connect to data sources, summarize data, and create, manipulate, and share data visualizations, including highlight tables, charts, scatter plots, histograms, maps, dashboards, and more.\n",
    "Topics include:\n",
    "- Managing data sources and visualizations\n",
    "- Managing Tableau worksheets and workbooks\n",
    "- Creating custom calculations and fields\n",
    "- Analyzing data using statistical tools\n",
    "- Sorting and filtering Tableau data\n",
    "- Defining groups and sets\n",
    "- Creating and pivoting crosstabs\n",
    "- Formatting Tableau visualizations\n",
    "- Creating basic charts\n",
    "- Annotating and formatting charts\n",
    "- Mapping geographic data\n",
    "- Creating dashboard and actions"
   ]
  },
  {
   "cell_type": "markdown",
   "metadata": {},
   "source": [
    "### Understanding & Prioritizing Data Privacy, Lynda.com, April, 2018\n",
    "Certificate: https://drive.google.com/open?id=1sna29u0BQAbIwm-Rj699JNi-6RX2DXnA\n",
    "\n",
    "Get an introduction to the basics of data privacy: what it is, why it matters, and who it impacts, from consumers and private citizens to policymakers and C-suite business leaders. Michelle Dennedy, one of the data privacy community's strongest advocates, uses straight talk and engrossing stories and scenarios to illustrate why data privacy is becoming one of the most critical technology issues in our world today. Find out how organizations can build more robust systems, and extract maximum value from the data we do have access to. Explore what happens when data gets into the wrong hands, and learn what we need to know in order to protect ourselves in the face of a data-driven future.\n",
    "Topics include:\n",
    "- What is data privacy?\n",
    "- Privacy vs. secrecy\n",
    "- Trust and integrity\n",
    "- What consumers expect\n",
    "- Privacy solutions"
   ]
  },
  {
   "cell_type": "markdown",
   "metadata": {},
   "source": [
    "### Using Customer Surveys to Improve Service, Lynda.com, April, 2018\n",
    "Certificate: https://drive.google.com/open?id=1iILV3GCc0Led1PWVjLt_8aJGk8ZzMkWC\n",
    "\n",
    "Customer surveys are rich sources of information and essential guides to areas where customer service teams can improve their focus. In this course, Jeff Toister provides step-by-step instructions for designing and implementing effective surveys and analyzing the results. He'll give you tips on increasing response rates, writing effective questions, and turning the data into actions that can improve service quality."
   ]
  },
  {
   "cell_type": "markdown",
   "metadata": {},
   "source": [
    "### UX Design: 1 Overview, Lynda.com, April, 2018\n",
    "Certificate: https://drive.google.com/open?id=11QSXfErLIq08qnMiMbf_pA1l8_PtzeHA\n",
    "\n",
    "Following a user-centered design technique puts you more in touch with your users' true needs, which helps you develop solutions that really work for your intended audience. The approaches described in this course help development teams pool their diverse perspectives and collaborate to understand how to turn thoughts, feelings, frustrations, and desires of users into the design for a product.\n",
    "\n",
    "Join Chris Nodder as he provides a road map to his series, UX Design Techniques. Each technique in this series builds on the data and output from the previous techniques. The user data from observations is used to identify user pain points and create personas. The pain points and personas are used during the ideation phase to create multiple possible solutions. Scenarios and storyboards take these multiple possible solutions and narrow them down to a working set, from which you build a paper prototype that you can usability test with some more representative users. At any point, you can follow the trail all the way back to data you gathered from your initial observations.\n",
    "Topics include:\n",
    "- Understanding the benefits of user-centered design\n",
    "- Following the data trail\n",
    "- Getting your team on board\n",
    "- Analyzing user data\n",
    "- Creating personas\n",
    "- Understanding ideation\n",
    "- Working with scenarios and storyboards\n",
    "- Creating paper prototypes\n",
    "- Building products with user-centered design"
   ]
  },
  {
   "cell_type": "markdown",
   "metadata": {},
   "source": [
    "### UX Design: 2 Analyzing User Data, Lynda.com, April, 2018\n",
    "Certificate: https://drive.google.com/open?id=16nOZSG5vvDHnSx4BxGUBCaOv72BO18jS\n",
    "\n",
    "Who are your users? What are their challenges? How can your design solve their needs? UX research can help you answer these questions, and many more. In this installment of UX Design Techniques, Chris Nodder walks through the process of acquiring user data and transforming that data into actionable project ideas. Learn how to observe users interacting with a prototype or simply performing tasks, build experience maps that depict those interactions, analyze the data, and extract ideas for new products and features.\n",
    "Topics include:\n",
    "- Getting data to analyze\n",
    "- Observing users\n",
    "- Building an experience map\n",
    "- Setting goals\n",
    "- Developing metrics"
   ]
  },
  {
   "cell_type": "markdown",
   "metadata": {},
   "source": [
    "### UX Design: 3 Creating Personas, Lynda.com, April, 2018\n",
    "Certificate: https://drive.google.com/open?id=1rshajFaIWUzP7UJEvw2PgBuZV3wsVksm\n",
    "\n",
    "Who are you developing for? How will they use your design? Building user personas can answer these important questions. In this course, Chris Nodder shows you how to create personas using information about the users most relevant to your business. He shows you how to gather and use data from interactions and site visits to define groups that represent a picture of your user types. These personas can help drive development and make sure your team is designing your product, application, or website with the same customer in mind, resulting in coherent, focused goals and an optimal user experience."
   ]
  },
  {
   "cell_type": "markdown",
   "metadata": {},
   "source": [
    "### UX Design: 4 Ideation, Lynda.com, April, 2018\n",
    "Certificate: https://drive.google.com/open?id=1HjoDeQPItWiYU-ReYofZBIyhRVMOg0pa\n",
    "\n",
    "Ideation helps your team generate a lot of different design ideas in a short amount of time. In UX design, your first idea is seldom your best. A broad set of ideas is more likely to lead to a more creative, more satisfactory solution for your users. The ideation phase of UX design is where you consider all the different ways you could possibly fix your users' pain points, and then narrow down to some practical, viable alternatives.\n",
    "\n",
    "In this installment of UX Design Techniques, Chris Nodder explores a variety of ideation techniques. Chris explains how to brainstorm in a way that lets all members of a team, not just the designers, contribute to a product's overall direction."
   ]
  },
  {
   "cell_type": "markdown",
   "metadata": {},
   "source": [
    "### UX Design: 5 Creating Scenarios and Storyboards, Lynda.com, April, 2018\n",
    "Certificate: https://drive.google.com/open?id=1Ye1_bhv01ye4piOWjy5b5-VdiajDaLJx\n",
    "\n",
    "Scenarios and storyboards provide a reality check for your designs, helping you identify design gaps and articulate exactly what features you need to build to make users happy. This course shows how to use these tools to map the concepts generated during the ideation phase of UX design to a user's real-world tasks. Author Chris Nodder explains how to write scenarios and transform them into visual storyboards that show elements that are hard to describe with words alone, such as emotion, action, detail, and progression.\n",
    "\n",
    "By the end, you'll have clear documentation to lead you through prototyping and implementation. Explore these phases and more in UX Design Techniques series on Chris's author page."
   ]
  },
  {
   "cell_type": "markdown",
   "metadata": {},
   "source": [
    "### UX Design: 6 Paper Prototyping, Lynda.com, April, 2018\n",
    "Certificate: https://drive.google.com/open?id=1ifg3lpasaXe2HExvc1RVfQDoZVUArSxU\n",
    "\n",
    "In this installment of UX Design Techniques, learn how to make paper prototypes so you can validate your ideas before you write any code. This method of prototyping is fast and inexpensive, allowing you to test design ideas early using simple materials: paper, Post-it notes, index cards, and Sharpies. Chris Nodder takes you through the process, including making separate sketches of each interface element, highlighting areas where there would be interaction between a system and a user, and then running through user testing so you can observe the user's experience, reposition elements, and make adjustments.\n",
    "Topics include:\n",
    "- Paper prototyping in user-centered design (UCD)\n",
    "- Making paper prototypes\n",
    "- Observing user interactions\n",
    "- Adjusting designs based on feedback\n",
    "- Testing using paper prototypes of interfaces"
   ]
  },
  {
   "cell_type": "markdown",
   "metadata": {},
   "source": [
    "### UX Design: 7 Implementation Planning, Lynda.com, April, 2018\n",
    "Certificate: https://drive.google.com/open?id=1Albq-gSV9-OtakHuJ8fAbeUFCIpeH8X2\n",
    "\n",
    "User-centered design (UCD) artifacts aren't just for the visual aspect of design. In this final installment of UX Design Techniques—a series designed to teach you how to make your development process more user centered—learn how to use artifacts from each of the UCD techniques to help plan the implementation of your design.\n",
    "\n",
    "Implementation planning happens at the end of the initial UCD cycle. First, you observe users, and then you create an experience map to extract pain points, goals, and personas. This gives you the information needed to do ideation exercises. After ideation, bring things back to reality by creating scenarios, which you use to build a prototype UI for planning purposes. By investing time in these UCD activities, you'll enter the development phase of your project with a much better understanding of what you need to build to delight your users. Having a set of measurable goals and a prototype interface makes it easier to plan your implementation and set interim deliverables that you know will deliver value to your users.\n",
    "Topics include:\n",
    "- Utilizing user-centered design (UCD) artifacts\n",
    "- Creating an implementation plan\n",
    "- Creating a story map\n",
    "- Laying out the interface\n",
    "- Prioritizing items on the story map\n",
    "- Setting metrics for story map items"
   ]
  },
  {
   "cell_type": "markdown",
   "metadata": {},
   "source": [
    "### UX Research Methods: Interviewing, Lynda.com, April, 2018\n",
    "Certificate: https://drive.google.com/open?id=1D16PzqVeWe-d5NT6l6EbKsO0bEOuezjf\n",
    "\n",
    "By taking the time to understand the needs and motivations of your users, you can develop better products that actually resonate with your target audience. In this course, learn the fundamentals of a core UX research method—interviewing—that can help you better understand the needs of your users.\n",
    "\n",
    "Amanda Stockwell explains what UX interviewing is, when UX professionals use interviews, and what kind of information you'll gather. She also takes you through how to prepare for interviews, moderate your sessions, and analyze your data. After you wrap up this course, you'll be prepared to conduct UX interviews on your own.\n",
    "Topics include:\n",
    "- What's a UX interview?\n",
    "- The pros and cons of in-person and remote interviews\n",
    "- Recruiting and selecting the right participants\n",
    "- Planning interviews\n",
    "- Crafting questions\n",
    "- Conducting interviews\n",
    "- Remaining neutral\n",
    "- Organizing and analyzing data\n",
    "- Summarizing findings"
   ]
  },
  {
   "cell_type": "markdown",
   "metadata": {},
   "source": [
    "## March, 2018"
   ]
  },
  {
   "cell_type": "markdown",
   "metadata": {},
   "source": [
    "### Data Analysis in R, the data.table Way, DataCamp.com, March, 2018\n",
    "Certificate: https://drive.google.com/open?id=1yYbkj4NYm7CXwVtodI9px3rvjkgJi3oH\n",
    "\n",
    "The R data.table package is rapidly making its name as the number one choice for handling large datasets in R. This online data.table tutorial will bring you from data.table novice to expert in no time. Once you are introduced to the general form of a data.table query, you will learn the techniques to subset your data.table, how to update by reference and how you can use data.table’s set()-family in your workflow. The course finishes with more complex concepts such as indexing, keys and fast ordered joins. Upon completion of the course, you will be able to use data.table in R for a more efficient manipulation and analysis process. Enjoy!"
   ]
  },
  {
   "cell_type": "markdown",
   "metadata": {},
   "source": [
    "### Data Manipulation with R Track, DataCamp.com, March, 2018\n",
    "Certificate: https://drive.google.com/open?id=1IWWmz__XJsa1KAFXoMDSoFqSiW8uu29s\n",
    "\n",
    "Master advanced concepts in data manipulation using powerful tools like dplyr and data.table to make your data science projects faster and more readable."
   ]
  },
  {
   "cell_type": "markdown",
   "metadata": {},
   "source": [
    "### Exploratory Data Analysis in R: Case Study, DataCamp.com, March, 2018\n",
    "Certificate: https://drive.google.com/open?id=1wr4yBp6YsSS8N_91ARmtrzT-S-S9aIEx\n",
    "\n",
    "Once you've started learning tools for data manipulation and visualization like dplyr and ggplot2, this course gives you a chance to use them in action on a real dataset. You'll explore the historical voting of the United Nations General Assembly, including analyzing differences in voting between countries, across time, and among international issues. In the process you'll gain more practice with the dplyr and ggplot2 packages, learn about the broom package for tidying model output, and experience the kind of start-to-finish exploratory analysis common in data science."
   ]
  },
  {
   "cell_type": "markdown",
   "metadata": {},
   "source": [
    "### Intro to SQL for Data Science, DataCamp.com, March, 2018\n",
    "Certificate: https://drive.google.com/open?id=1znu8GtDTNoP9oscH2TpqIEr1k2TKn89D\n",
    "\n",
    "The role of a data scientist is to turn raw data into actionable insights. Much of the world's raw data—from electronic medical records to customer transaction histories—lives in organized collections of tables called relational databases. Therefore, to be an effective data scientist, you must know how to wrangle and extract data from these databases using a language called SQL (pronounced ess-que-ell, or sequel). This course teaches you everything you need to know to begin working with databases today!"
   ]
  },
  {
   "cell_type": "markdown",
   "metadata": {},
   "source": [
    "### Joining Data in PostgreSQL, DataCamp.com, March, 2018\n",
    "Certificate: https://drive.google.com/open?id=1dPmI7sPog0vvqwH_LRBBtYsr_jmrnJ_B\n",
    "\n",
    "Now that you've learned the basics of SQL in our Intro to SQL for Data Science course, it's time to supercharge your queries using joins and relational set theory! In this course you'll learn all about the power of joining tables while exploring interesting features of countries and their cities throughout the world. You will master inner and outer joins, as well as self-joins, semi-joins, anti-joins and cross joins - fundamental tools in any PostgreSQL wizard's toolbox. You'll fear set theory no more, after learning all about unions, intersections, and except clauses through easy-to-understand diagrams and examples. Lastly, you'll be introduced to the power of through the challenging topic of subqueries. You will see a visual perspective to grasp the ideas throughout the course using the mediums of Venn diagrams and other linking illustrations."
   ]
  },
  {
   "cell_type": "markdown",
   "metadata": {},
   "source": [
    "### Joining Data in R with dplyr, DataCamp.com, March, 2018\n",
    "Certificate: https://drive.google.com/open?id=1wmGGTx_62BARZvDnGlQbeQQ19OvMjWW6\n",
    "\n",
    "This course builds on what you learned in Data Manipulation in R with dplyr by showing you how to combine data sets with dplyr's two table verbs. In the real world, data comes split across many data sets, but dplyr's core functions are designed to work with single tables of data. In this course, you'll learn the best ways to combine data sets into single tables. You'll learn how to augment columns from one data set with columns from another with mutating joins, how to filter one data set against another with filtering joins, and how to sift through data sets with set operations. Along the way, you'll discover the best practices for building data sets and troubleshooting joins with dplyr. Afterwards, you’ll be well on your way to data manipulation mastery!"
   ]
  },
  {
   "cell_type": "markdown",
   "metadata": {},
   "source": [
    "## February, 2018"
   ]
  },
  {
   "cell_type": "markdown",
   "metadata": {},
   "source": [
    "### Cleaning Data in R, DataCamp.com, February, 2018\n",
    "Certificate: https://drive.google.com/open?id=1YM_LBCgzo34cSxYPcVxX8Jheez7fAwcm\n",
    "\n",
    "It's commonly said that data scientists spend 80% of their time cleaning and manipulating data and only 20% of their time actually analyzing it. For this reason, it is critical to become familiar with the data cleaning process and all of the tools available to you along the way. This course provides a very basic introduction to cleaning data in R using the tidyr, dplyr, and stringr packages. After taking the course you'll be able to go from raw data to awesome insights as quickly and painlessly as possible!"
   ]
  },
  {
   "cell_type": "markdown",
   "metadata": {},
   "source": [
    "### Correlation and Regression, DataCamp.com, February, 2018\n",
    "Certificate: https://drive.google.com/open?id=152AESU2vjLXFhbPAZR-RgryFGpx7nVGx\n",
    "\n",
    "Ultimately, data analysis is about understanding relationships among variables. Exploring data with multiple variables requires new, more complex tools, but enables a richer set of comparisons. In this course, you will learn how to describe relationships between two numerical quantities. You will characterize these relationships graphically, in the form of summary statistics, and through simple linear regression models."
   ]
  },
  {
   "cell_type": "markdown",
   "metadata": {},
   "source": [
    "### Data Manipulation in R with dplyr, DataCamp.com, February, 2018\n",
    "Certificate: https://drive.google.com/open?id=18CQV8PXJy6vv8iDP9qe8lfdWy-M9NAwo\n",
    "\n",
    "In this interactive tutorial, you will learn how to perform sophisticated dplyr techniques to carry out your data manipulation with R. First you will master the five verbs of R data manipulation with dplyr: select, mutate, filter, arrange and summarise. Next, you will learn how you can chain your dplyr operations using the pipe operator of the magrittr package. In the final section, the focus is on practicing how to subset your data using the group_by function, and how you can access data stored outside of R in a database. All said and done, you will be familiar with data manipulation tools and techniques that will allow you to efficiently manipulate data."
   ]
  },
  {
   "cell_type": "markdown",
   "metadata": {},
   "source": [
    "### Exploratory Data Analysis, DataCamp.com, February, 2018\n",
    "Certificate: https://drive.google.com/open?id=1vw0RgNRCK_lWl6y0m1tvdMdNUUwAdAnL\n",
    "\n",
    "When your dataset is represented as a table or a database, it's difficult to observe much about it beyond its size and the types of variables it contains. In this course, you'll learn how to use graphical and numerical techniques to begin uncovering the structure of your data. Which variables suggest interesting relationships? Which observations are unusual? By the end of the course, you'll be able to answer these questions and more, while generating graphics that are both insightful and beautiful."
   ]
  },
  {
   "cell_type": "markdown",
   "metadata": {},
   "source": [
    "### Foundations of Inference, DataCamp.com, February, 2018\n",
    "Certificate: https://drive.google.com/open?id=1_hnEh6AHhEMmZgZgwmvn4EuYp5UBxIW4\n",
    "\n",
    "One of the foundational aspects of statistical analysis is inference, or the process of drawing conclusions about a larger population from a sample of data. Although counter intuitive, the standard practice is to attempt to disprove a research claim that is not of interest. For example, to show that one medical treatment is better than another, we can assume that the two treatments lead to equal survival rates only to then be disproved by the data. Additionally, we introduce the idea of a p-value, or the degree of disagreement between the data and the hypothesis. We also dive into confidence intervals, which measure the magnitude of the effect of interest (e.g. how much better one treatment is than another)."
   ]
  },
  {
   "cell_type": "markdown",
   "metadata": {},
   "source": [
    "### Importing & Cleaning Data in R: Case Studies, DataCamp.com, February, 2018\n",
    "Certificate: https://drive.google.com/open?id=1nfPgZ_N0aS1axfbzRxx9euk0iq1im9Xj\n",
    "\n",
    "Running exciting analyses on interesting datasets is the dream of every data scientist. But first, some importing and cleaning must be done. In this series of four case studies, you'll revisit key concepts from our courses on importing and cleaning data in R."
   ]
  },
  {
   "cell_type": "markdown",
   "metadata": {},
   "source": [
    "### Importing Data in R (Part 1), DataCamp.com, February, 2018\n",
    "Certificate: https://drive.google.com/open?id=1XjxcC8yfWm516ekbg-ymoITAuotFmN4X\n",
    "\n",
    "Importing data into R to start your analyses—it should be the easiest step. Unfortunately, this is almost never the case. Data come in all sorts of formats, ranging from CSV and text files and statistical software files to databases and HTML data. Knowing which approach to use is key to getting started with the actual analysis.\n",
    "\n",
    "In this course, you will get started with learning how to read CSV and text files in R. You will then cover the readr and data.table packages to easily and efficiently import flat file data. After that you will learn how to read XLS files in R using readxl and gdata."
   ]
  },
  {
   "cell_type": "markdown",
   "metadata": {},
   "source": [
    "### Importing Data in R (Part 2), DataCamp.com, February, 2018\n",
    "Certificate: https://drive.google.com/open?id=1dt-HcHMaFroPBfgjp2lC8ITAYpf6q-2z\n",
    "\n",
    "In this second part to Importing Data in R, you will take a deeper dive into the wide range of data formats out there. More specifically, you'll learn how to import data from relational databases and how to import and work with data coming from the web. Finally, you'll get hands-on experience with importing data from statistical software packages such SAS, STATA and SPSS."
   ]
  },
  {
   "cell_type": "markdown",
   "metadata": {},
   "source": [
    "### Importing & Cleaning Data in R Track, DataCamp.com, February, 2018\n",
    "Certificate: https://drive.google.com/open?id=1M-poYAVbpLCS3zlncYKLPZ4aysb8TMZI\n",
    "\n",
    "Learn how to parse data in any format. Whether it's flat files, statistical software, databases, or web data, you'll learn to handle it all. https://www.datacamp.com/tracks/importing-cleaning-data-with-r"
   ]
  },
  {
   "cell_type": "markdown",
   "metadata": {},
   "source": [
    "### Intermediate R, DataCamp.com, February, 2018\n",
    "Certificate: https://drive.google.com/open?id=1_onq1epfdY8eIoaxoqE5tfMVU1qguSwr\n",
    "\n",
    "The intermediate R course is the logical next stop on your journey in the R programming language. In this R training you will learn about conditional statements, loops and functions to power your own R scripts. Next, you can make your R code more efficient and readable using the apply functions. Finally, the utilities chapter gets you up to speed with regular expressions in the R programming language, data structure manipulations and times and dates. This R tutorial will allow you to learn R and take the next step in advancing your overall knowledge and capabilities while programming in R."
   ]
  },
  {
   "cell_type": "markdown",
   "metadata": {},
   "source": [
    "### Intro to Statistics with R Track, DataCamp.com, February, 2018\n",
    "Certificate: https://drive.google.com/open?id=17_Duojr3QqyDSCfVc5WY8hi3L_eR2lXr\n",
    "\n",
    "Learn key statistical concepts and techniques like exploratory data analysis, correlation, regression, and inference. https://www.datacamp.com/tracks/statistics-with-r"
   ]
  },
  {
   "cell_type": "markdown",
   "metadata": {},
   "source": [
    "### Introduction to Data, DataCamp.com, February, 2018\n",
    "Certificate: https://drive.google.com/open?id=1JjilLTof_yauPucJpOi-u30o2E8odRc7\n",
    "\n",
    "Scientists seek to answer questions using rigorous methods and careful observations. These observations—collected from the likes of field notes, surveys, and experiments—form the backbone of a statistical investigation and are called data. Statistics is the study of how best to collect, analyze, and draw conclusions from data. It is helpful to put statistics in the context of a general process of investigation: 1) identify a question or problem; 2) collect relevant data on the topic; 3) analyze the data; and 4) form a conclusion. In this course, you'll focus on the first two steps of the process."
   ]
  },
  {
   "cell_type": "markdown",
   "metadata": {},
   "source": [
    "### Introduction to the Tidyverse, DataCamp.com, February, 2018\n",
    "Certificate: https://drive.google.com/open?id=16nM9477y3PEsFZ_AHtCPMSvJlR5dtg9j\n",
    "\n",
    "This is an introduction to the programming language R, focused on a powerful set of tools known as the \"tidyverse\". In the course you'll learn the intertwined processes of data manipulation and visualization through the tools dplyr and ggplot2. You'll learn to manipulate data by filtering, sorting and summarizing a real dataset of historical country data in order to answer exploratory questions. You'll then learn to turn this processed data into informative line plots, bar plots, histograms, and more with the ggplot2 package. This gives a taste both of the value of exploratory data analysis and the power of tidyverse tools. This is a suitable introduction for people who have no previous experience in R and are interested in learning to perform data analysis."
   ]
  },
  {
   "cell_type": "markdown",
   "metadata": {},
   "source": [
    "### Multiple and Logistic Regression, DataCamp.com, February, 2018\n",
    "Certificate: https://drive.google.com/open?id=1oGGTBi3E--YgvyOCgsqkdxc1n1NG0NvP\n",
    "\n",
    "In this course you'll take your skills with simple linear regression to the next level. By learning multiple and logistic regression techniques you will gain the skills to model and predict both numeric and categorical outcomes using multiple input variables. You'll also learn how to fit, visualize, and interpret these models. Then you'll apply your skills to learn about Italian restaurants in New York City!"
   ]
  },
  {
   "cell_type": "markdown",
   "metadata": {},
   "source": [
    "### Working with Geospatial Data in R, DataCamp.com, February, 2018\n",
    "Certificate: https://drive.google.com/open?id=1esH2HINyoX19loV29LBjU6KZZgazAeoV\n",
    "\n",
    "Where should you buy a house to get the most value for your money? Your first step might be to make a map, but spatial analysis in R can be intimidating because of the complicated objects the data often live in.\n",
    "\n",
    "This course will introduce you to spatial data by starting with objects you already know about, data frames, before introducing you to the special objects from the sp and raster packages used to represent spatial data for analysis in R. You'll learn to read, explore, and manipulate these objects with the big payoff of being able to use the tmap package to make maps.\n",
    "\n",
    "By the end of the course you will have made maps of property sales in a small town, populations of the countries of the world, the distribution of people in the North East of the USA, and median income in the neighborhoods of New York City."
   ]
  },
  {
   "cell_type": "markdown",
   "metadata": {},
   "source": [
    "## January, 2018"
   ]
  },
  {
   "cell_type": "markdown",
   "metadata": {},
   "source": [
    "### Amazon Web Services Essential Training, Lynda.com, January, 2018\n",
    "Certificate: https://drive.google.com/open?id=13sDvHXSg0EHQ6WFLPIWoqTyYDIcSH7Zy \n",
    "\n",
    "Amazon Web Services (AWS) is one of the most widely used cloud platforms, and the go-to for many organizations looking to reduce costs by adopting a cloud infrastructure strategy. This course starts by examining cloud concepts and best practices. Next, it walks you through how to design your infrastructure to prevent failure. Then, you'll discover how to implement elasticity with automation, and strategies to decouple application components. Then, learn how to optimize for performance and for cost. Last, put concepts into practice by setting up the server-based architectures for a web application in addition to implementing a serverless approach using AWS API Gateway and Lambda.\n",
    "\n",
    "Topics include:\n",
    "\n",
    "- Benefits of cloud services\n",
    "- Making architectures scalable\n",
    "- Examining cloud constraints\n",
    "- Virtual servers, EC2, and Elastic IP\n",
    "- Using the Amazon machine image\n",
    "- Elastic load balancing\n",
    "- Using CloudWatch for monitoring\n",
    "- Security Models\n",
    "- Elastic block storage\n",
    "- S3, CloudFront, and Elastic Beanstalk\n",
    "- Handling queues, workflows, and notifications\n",
    "- Caching options and services\n",
    "- Identity and access management\n",
    "- Creating a custom server image\n",
    "- Application deployment strategies\n",
    "- Serverless architectures\n"
   ]
  },
  {
   "cell_type": "markdown",
   "metadata": {},
   "source": [
    "### Amazon Web Services: Data Services, Lynda.com, January, 2018\n",
    "Certificate: https://drive.google.com/open?id=1UymcqwIFHjz_FhbwYRm-5vSpku_fxARp\n",
    "\n",
    "Why use Amazon Web Services for data storage? AWS provides big data at a small cost, offering one of the most full-featured and scalable data solutions around. Start here to explore your storage and framework options when working with data services on the Amazon cloud. Your guide, Lynn Langit, a working big data architect, helps you parse through the storage of files, relational data, semistructured data (in NoSQL), data warehousing, graph databases, and Hadoop. Plus, discover how these solutions translate to real-world scenarios involving businesses of different sizes and needs, including startups and enterprise clients.\n",
    "\n",
    "Topics include:\n",
    "\n",
    "- Why cloud tools matter\n",
    "- Storage choices on AWS\n",
    "- RDBMSs such as Core RDS, Aurora, and Oracle\n",
    "- Working with semistructured data in NoSQL\n",
    "- Connecting to data warehouses such as AWS Redshift and Snowflake\n",
    "- Graph databases and AWS Machine Learning\n",
    "- Working with Hadoop\n",
    "- Common data scenarios and architectures\n"
   ]
  },
  {
   "cell_type": "markdown",
   "metadata": {},
   "source": [
    "### Amazon Web Services: Deploying and Provisioning, Lynda.com, January, 2018\n",
    "Certificate: https://drive.google.com/open?id=1_o4R5FAr3vkaEVkMQso-kb0loKPW4ZjN\n",
    "\n",
    "AWS is an exciting proposition for DevOps. Yes, it's amazing to be able to build a virtual data center with ease, but that is just the beginning: wait until you start using AWS to deploy software. Watch this course to learn how to use AWS tools to provision hosts and deploy apps that take advantage of its elastic, cost-effective, and scalable infrastructure. IT architect and instructor Brandon Rich shows how to start up new computing resources with EC2, provision them, and deploy applications in a fast, automated, and consistent way. Discover how to manage infrastructure as code with CloudFormation, rapidly build an app stack with Elastic Beanstalk, perform provisioning and deployment with OpsWorks, and automate code pushes with CodeDeploy. These lessons help you do more with AWS than you might have ever thought possible on the cloud.\n",
    "\n",
    "This course is also part of a series designed to help you prepare for the AWS Certified SysOps Administrator – Associate certification exam.\n",
    "\n",
    "Topics include:\n",
    "\n",
    "- Understanding AWS EC2\n",
    "- Creating an EC2 instance\n",
    "- Provisioning with CloudFormation\n",
    "- Architecting apps for horizontal scaling\n",
    "- Creating an Elastic Beanstalk environment and app\n",
    "- Using OpsWorks\n",
    "- Deploying apps with CodeDeploy\n"
   ]
  },
  {
   "cell_type": "markdown",
   "metadata": {},
   "source": [
    "### Apache Spark Essential Training, Lynda.com, January, 2018\n",
    "Certificate: https://drive.google.com/open?id=1Obu9SQZcSdt8E1QgeBijDkD19QhcjEwi\n",
    "\n",
    "Apache Spark is a powerful platform that provides users with new ways to store and make use of big data. In this course, get up to speed with Spark, and discover how to leverage this popular processing engine to deliver effective and comprehensive insights into your data. Instructor Ben Sullins provides an overview of the platform, going into the different components that make up Apache Spark. He shows how to analyze data in Spark using PySpark and Spark SQL, explores running machine learning algorithms using MLib, demonstrates how to create a streaming analytics application using Spark Streaming, and more.\n",
    "\n",
    "Topics include:\n",
    "\n",
    "- Understanding Spark\n",
    "- Reviewing Spark components\n",
    "- Where Spark shines\n",
    "- Understanding data interfaces\n",
    "- Working with text files\n",
    "- Loading CSV data into DataFrames\n",
    "- Using Spark SQL to analyze data\n",
    "- Running machine learning algorithms using MLib\n",
    "- Querying streaming data\n",
    "- Connecting BI tools to Spark\n"
   ]
  },
  {
   "cell_type": "markdown",
   "metadata": {},
   "source": [
    "### IoT Foundations: Fundamentals, Lynda.com, January, 2018\n",
    "Certificate: https://drive.google.com/open?id=1v7vkvlaCWoAEo6TWeADGrdFSNEUBzxdF\n",
    "\n",
    "The Internet of Things (IoT) is more than just smart or connected devices. In this course, learn what IoT is, and how it works from a technical standpoint. Bruce Sinclair provides a broad overview of IoT, explaining each of its main components. He also goes into the software-defined product—the digital twin of the physical product—as well as the hardware-defined product, explaining how sensors and embedded systems help to gather data. Plus, he dives into the network fabric, and explains what external systems are and why it's important to consider them when designing an IoT product.\n",
    "\n",
    "Topics include:\n",
    "\n",
    "- IoT value modeling\n",
    "- The software-defined product\n",
    "- The hardware-defined product\n",
    "- Embedded systems\n",
    "- Connected sensors\n",
    "- The network fabric\n",
    "- OT IT and fog networks\n",
    "- Analytics and big data\n",
    "- Data services\n"
   ]
  },
  {
   "cell_type": "markdown",
   "metadata": {},
   "source": [
    "### IoT Foundations: Monetizing IoT, Lynda.com, January, 2018\n",
    "Certificate: https://drive.google.com/open?id=1PgLzYnymlzefZ6iZQWmMOPQlW5oXt_V8\n",
    "\n",
    "The Internet of Things (IoT) presents an array of fascinating possibilities—but is there money to be made? In this course, Bruce Sinclair discusses the business of IoT, and provides you with the vocabulary to talk about how to leverage this technology to make money. Bruce covers the four main ways of creating value with IoT, and explores various ways to monetize that value. He familiarizes you with the five main IoT business models on the IoT business model continuum: product, product service, service, service outcome, and outcome. Plus, he discusses how IoT can help you establish more meaningful relationships with your customers.\n",
    "\n",
    "Topics include:\n",
    "\n",
    "- Creating value with IoT\n",
    "- Value modeling\n",
    "- Operating products better\n",
    "- Monetizing value with IoT\n",
    "- Using IoT to become closer to the customer\n",
    "- Product business model\n",
    "- Increasing customer lifetime value\n"
   ]
  },
  {
   "cell_type": "markdown",
   "metadata": {},
   "source": [
    "### Learning Amazon Lightsail, Lynda.com, January, 2018\n",
    "Certificate: https://drive.google.com/open?id=1yafhicQLn-NF7TX8rzFevGwYA_qDjVGk\n",
    "\n",
    "Amazon Lightsail is a member of the Amazon Web Services (AWS) Compute family. It simplifies the process of deploying a virtual private server using preconfigured templates for a Linux distribution, application, or dev stack—including WordPress, Magento, and LAMP. This short course provides an overview of Lightsail to help you get up and running in this service. Sharif Nijim discusses how it compares with the AWS cloud platform, as well as the kinds of servers you can create in Lightsail, operational metrics for Lightsail servers, data protection, and how to connect Lightsail with AWS through VPC peering. Sharif wraps up the course by touching on advanced concepts, including APIs, SDKs, and the Lightsail CLI.\n",
    "\n",
    "Topics include:\n",
    "\n",
    "- WordPress on Lightsail\n",
    "- Connecting to WordPress\n",
    "- Lightsail metrics and networking\n",
    "- Lightsail snapshots\n",
    "- Lightsail VPC peering\n",
    "- DNS and advanced concepts\n"
   ]
  },
  {
   "cell_type": "markdown",
   "metadata": {},
   "source": [
    "### Learning Hadooop, Lynda.com, January, 2018\n",
    "Certificate: https://drive.google.com/open?id=1v_-IZx2BDXs5-pQazjOllaKJ2p3C3bNq\n",
    "\n",
    "Hadoop is indispensible when it comes to processing big data—as necessary to understanding your information as servers are to storing it. This course is your introduction to Hadoop, its file system (HDFS), its processing engine (MapReduce), and its many libraries and programming tools. Developer and big-data consultant Lynn Langit shows how to set up a Hadoop development environment, run and optimize MapReduce jobs, code basic queries with Hive and Pig, and build workflows to schedule jobs. Plus, get a sneak peek at some up-and-coming libraries like Impala and the lightning-fast Spark.\n",
    "\n",
    "Topics include:\n",
    "\n",
    "- Understanding Hadoop core components: HDFS and MapReduce\n",
    "- Setting up your Hadoop development environment\n",
    "- Working with the Hadoop file system\n",
    "- Running and tracking Hadoop jobs\n",
    "- Tuning MapReduce\n",
    "- Understanding Hive and HBase\n",
    "- Exploring Pig tools\n",
    "- Building workflows\n",
    "- Using other libraries, such as Impala, Mahout, and Storm\n",
    "- Understanding Spark\n",
    "- Visualizing Hadoop output\n"
   ]
  },
  {
   "cell_type": "markdown",
   "metadata": {},
   "source": [
    "### Learning Public Data Sets, Lynda.com, January, 2018\n",
    "Certificate: https://drive.google.com/open?id=10uwlA8VukRaKS3_wOrmX0Zw5Hisl-g4f\n",
    "\n",
    "Up and Running with Public Data Sets shows how to find free, public sources of data on a variety of business, education, and health issues and download the data for your own analysis. Author Curt Frye introduces resources from the US government (from census to trademark data), international agencies such as the World Bank and United Nations, search engines, web services, and even language resources like the Ngram Viewer for Google Books. He'll also show how to import the data into an Excel spreadsheet for visualization and analysis.\n",
    "\n",
    "Topics include:\n",
    "\n",
    "- Working with US census data\n",
    "- Using data from the Securities and Exchange Commission\n",
    "- Accessing data from other US agencies\n",
    "- Finding international sources of data\n",
    "- Gathering data from web-based search engines and data portals\n",
    "- Visualizing and analyzing public data sets in Excel\n"
   ]
  },
  {
   "cell_type": "markdown",
   "metadata": {},
   "source": [
    "### Planning an AWS Solution, Lynda.com, January, 2018\n",
    "Certificate: https://drive.google.com/open?id=1VLSzaHY3weh_Tg-mSasW899Kzs1uJ2vN\n",
    "\n",
    "Are you an IT professional considering making a move to the cloud? If so, this course can help you get up to speed with one of the most popular and powerful cloud solutions on the market—Amazon Web Services (AWS). Instructor Ryan Spence helps to acquaint you with the benefits and drawbacks of AWS, and takes a deep dive into the services it offers. He explores how to use AWS for big data work, including the AWS options for warehouse services. He also showcases the platform's backup and recovery options; discusses its mobile service solutions; and covers bringing IoT solutions together with the AWS IoT platform.\n",
    "\n",
    "Topics include:\n",
    "\n",
    "- Comparing AWS to previous IT solutions\n",
    "- Benefits of AWS\n",
    "- AWS security and pricing\n",
    "- Building big data on AWS\n",
    "- Cloud storage and databases\n",
    "- Data warehousing\n",
    "- Backing up data\n",
    "- AWS for mobile services\n",
    "- IoT approaches"
   ]
  },
  {
   "cell_type": "markdown",
   "metadata": {},
   "source": [
    "## December, 2017"
   ]
  },
  {
   "cell_type": "markdown",
   "metadata": {},
   "source": [
    "### Analyzing Finanical Statements for Non-financial Professionals, CoursePark.com, December, 2017\n",
    "Certificate: https://drive.google.com/file/d/1ZNLiUQs-FALtLoLXTCf6wARcfrPSacvn/view \n",
    "\n",
    "Financial statements of an organization often conceal more than they reveal. Being able to analyze them and extract meaningful information is an essential skill that financial as well as non-financial professionals should have. Ratio analysis can be used to determine relationships between two elements of the same financial statement or between one element of one financial statement and another element of a different financial statement. This type of analysis can also be used to compare your companys performance to a number or key indicators, including your competitors, industry averages and benchmarks. This course presents and discusses many methods for analyzing financial statements from a non-financial professional's perspective. It determines and interprets the key profitability, efficiency, liquidity, and solvency ratios using scenarios. It also explains horizontal and vertical analysis of the financial statements using real life examples.\n",
    "\n",
    "Audience:\n",
    "\n",
    "- Individuals who want to gain understanding or refresh their knowledge of financial statements analysis techniques\n",
    "\n",
    "Objectives:\n",
    "\n",
    "- Analyzing Financial Statements for Non-financial Professionals\n",
    "- determine the value of a company's key profitability and efficiency ratios in a scenario\n",
    "- calculate liquidity and solvency ratios\n",
    "- classify examples as reflecting the use of horizontal or vertical analysis\n",
    "\n",
    "Duration: 1\n"
   ]
  },
  {
   "cell_type": "markdown",
   "metadata": {},
   "source": [
    "### Extreme Gradient Boosting with XGBoost, DataCamp.com, December, 2017\n",
    "Certificate: https://drive.google.com/open?id=1IcnHQQP7hwlnyIjNTPGBsoW1FSGMPAwC\n",
    "\n",
    "Do you know the basics of supervised learning and want to learn to use state-of-the-art models on real-world datasets? Gradient boosting is currently one of the most popular techniques for efficient modeling of tabular datasets of all sizes. XGboost is a very fast, scalable implementation of gradient boosting that has taken data science by storm, with models using XGBoost regularly winning many online data science competitions and used at scale across different industries. In this course, you'll learn how to use this powerful library alongside pandas and scikit-learn to build and tune supervised learning models. You'll work with real-world datasets to solve classification as well as regression problems."
   ]
  },
  {
   "cell_type": "markdown",
   "metadata": {},
   "source": [
    "### Introduction to R, DataCamp.com, December, 2017\n",
    "Certificate: https://drive.google.com/open?id=1n7jarsWQnueoQm2pLTC4LuPQvqHvQcLC\n",
    "\n",
    "In this introduction to R, you will master the basics of this beautiful open source language, including factors, lists and data frames. With the knowledge gained in this course, you will be ready to undertake your first very own data analysis. With over 2 million users worldwide R is rapidly becoming the leading programming language in statistics and data science. Every year, the number of R users grows by 40% and an increasing number of organizations are using it in their day-to-day activities. Leverage the power of R by completing this free R online course today!"
   ]
  },
  {
   "cell_type": "markdown",
   "metadata": {},
   "source": [
    "### Introduction to Shell for Data Science, DataCamp.com, December, 2017\n",
    "Certificate: https://drive.google.com/open?id=1O4JHkbp8Z5xBwjcS0vQjq-4qbaIKQhU9\n",
    "\n",
    "The Unix command line has survived and thrived for almost fifty years because it lets people do complex things with just a few keystrokes. Sometimes called \"the universal glue of programming\", it helps users combine existing programs in new ways, automate repetitive tasks, and run programs on clusters and clouds that may be halfway around the world. This course will introduce its key elements and show you how to use them efficiently."
   ]
  },
  {
   "cell_type": "markdown",
   "metadata": {},
   "source": [
    "### Natural Language Processing Fundamentals in Python, DataCamp.com, December, 2017\n",
    "Certificate: https://drive.google.com/open?id=1VQ2dQfIjC4LCEwucwI0gz0EK-zLZZSYS\n",
    "\n",
    "In this course, you'll learn Natural Language Processing (NLP) basics, such as how to identify and separate words, how to extract topics in a text, and how to build your own fake news classifier. You'll also learn how to use basic libraries such as NLTK, alongside libraries which utilize deep learning to solve common NLP problems. This course will give you the foundation to process and parse text as you move forward in your Python learning."
   ]
  },
  {
   "cell_type": "markdown",
   "metadata": {},
   "source": [
    "## November, 2017"
   ]
  },
  {
   "cell_type": "markdown",
   "metadata": {},
   "source": [
    "### Data Scientist with Python (Career Track), DataCamp.com, November, 2017\n",
    "Certificate: https://drive.google.com/open?id=1XLXQ1fq_Jnck47i7luO4cwdAHZICPWxM\n",
    "\n",
    "Data Scientist combines statistical and machine learning techniques with Python programming to analyze and interpret complex data. https://www.datacamp.com/tracks/data-scientist-with-python"
   ]
  },
  {
   "cell_type": "markdown",
   "metadata": {},
   "source": [
    "### Machine Learning with Python Track, DataCamp.com, November, 2017\n",
    "Certificate: https://drive.google.com/open?id=1pr99GfpfCEoTtnsmHPVUutKPHDcNo3ko\n",
    "\n",
    "Machine learning is changing the world and if you want to be a part of the ML revolution, this is a great place to start! In this track, you’ll learn the fundamental concepts in Machine Learning. https://www.datacamp.com/tracks/machine-learning-with-python"
   ]
  },
  {
   "cell_type": "markdown",
   "metadata": {},
   "source": [
    "### Data Manipulation with Python Track, DataCamp.com, November, 2017\n",
    "Certificate: https://drive.google.com/open?id=1jQAN3hKs1vFznQc1Epny1-704DI28w9B\n",
    "\n",
    "Harness the power of tools such as pandas and SQLAlchemy so you can extract, filter, and transform your data quickly and efficiently. https://www.datacamp.com/tracks/data-manipulation-with-python"
   ]
  },
  {
   "cell_type": "markdown",
   "metadata": {},
   "source": [
    "### Importing & Cleaning Data with Python Track, DataCamp.com, November, 2017\n",
    "Certificate: https://drive.google.com/open?id=1Eb3_iojpwj6mBfLaF08O-oMifL9uMqUk\n",
    "\n",
    "Learn to import data from various sources, such as Excel, SQL, SAS, and right from the web. From there, learn to efficiently prepare and clean your data so it is ready to by analyzed. https://www.datacamp.com/tracks/importing-cleaning-data-with-python"
   ]
  },
  {
   "cell_type": "markdown",
   "metadata": {},
   "source": [
    "### Deep Learning in Python, DataCamp.com, November, 2017\n",
    "Certificate: https://drive.google.com/open?id=10SrQFI6Ckt6Jm632NUHIeOK9x-a3FFW2\n",
    "\n",
    "Deep learning is the machine learning technique behind the most exciting capabilities in diverse areas like robotics, natural language processing, image recognition and artificial intelligence (including the famous AlphaGo). In this course, you'll gain hands-on, practical knowledge of how to use deep learning with Keras 2.0, the latest version of a cutting edge library for deep learning in Python."
   ]
  },
  {
   "cell_type": "markdown",
   "metadata": {},
   "source": [
    "### Interactive Data Visualization with Bokeh, DataCamp.com, November, 2017\n",
    "Certificate: https://drive.google.com/open?id=1bh1YR30HhOr89hzhnE0VQsfMc-8AjnRq\n",
    "\n",
    "Bokeh is an interactive data visualization library for Python (and other languages!) that targets modern web browsers for presentation. It can create versatile, data-driven graphics, and connect the full power of the entire Python data-science stack to rich, interactive visualizations."
   ]
  },
  {
   "cell_type": "markdown",
   "metadata": {},
   "source": [
    "### Introduction to Data Visualization with Python, DataCamp.com, November, 2017\n",
    "Certificate: https://drive.google.com/open?id=1_AV02IWAq5KNHuhvdeiJ1QcK3e8GSmkt\n",
    "\n",
    "This course extends Intermediate Python for Data Science to provide a stronger foundation in data visualization in Python. The course provides a broader coverage of the Matplotlib library and an overview of Seaborn (a package for statistical graphics). Topics covered include customizing graphics, plotting two-dimensional arrays (e.g., pseudocolor plots, contour plots, images, etc.), statistical graphics (e.g., visualizing distributions & regressions), and working with time series and image data."
   ]
  },
  {
   "cell_type": "markdown",
   "metadata": {},
   "source": [
    "### Introduction to Databases in Python, DataCamp.com, November, 2017\n",
    "Certificate: https://drive.google.com/open?id=1Cki56z6zFqn6SZUFsB54PCfju6a0kLEm\n",
    "\n",
    "In this Python SQL course, you'll learn the basics of using Structured Query Language (SQL) with Python. This will be useful since whether you like it or not, databases are ubiquitous and, as a data scientist, you'll need to interact with them constantly. The Python SQL toolkit SQLAlchemy provides an accessible and intuitive way to query, build & write to SQLite, MySQL and Postgresql databases (among many others), all of which you will encounter in the daily life of a data scientist."
   ]
  },
  {
   "cell_type": "markdown",
   "metadata": {},
   "source": [
    "### Machine Learning with the Experts: School Budgets, DataCamp.com, November, 2017\n",
    "Certificate: https://drive.google.com/open?id=1HBOPO_7sMGvWOc_RZ4u5CJ-D_kbtM4Aw\n",
    "\n",
    "Data science isn't just for predicting ad-clicks-it's also useful for social impact! This course is a case study from a machine learning competition on DrivenData. You'll explore a problem related to school district budgeting. By building a model to automatically classify items in a school's budget, it makes it easier and faster for schools to compare their spending with other schools. In this course, you'll begin by building a baseline model that is a simple, first-pass approach. In particular, you'll do some natural language processing to prepare the budgets for modeling. Next, you'll have the opportunity to try your own techniques and see how they compare to participants from the competition. Finally, you'll see how the winner was able to combine a number of expert techniques to build the most accurate model."
   ]
  },
  {
   "cell_type": "markdown",
   "metadata": {},
   "source": [
    "### Manipulating DataFrames with pandas, DataCamp.com, November, 2017\n",
    "Certificate: https://drive.google.com/open?id=0B4COB52qGHUNSlY3elYyWFkzZHc\n",
    "\n",
    "In this course, you'll learn how to leverage pandas' extremely powerful data manipulation engine to get the most out of your data. It is important to be able to extract, filter, and transform data from DataFrames in order to drill into the data that really matters. The pandas library has many techniques that make this process efficient and intuitive. You will learn how to tidy, rearrange, and restructure your data by pivoting or melting and stacking or unstacking DataFrames. These are all fundamental next steps on the road to becoming a well-rounded Data Scientist, and you will have the chance to apply all the concepts you learn to real-world datasets."
   ]
  },
  {
   "cell_type": "markdown",
   "metadata": {},
   "source": [
    "### Merging DataFrames with pandas, DataCamp.com, November, 2017\n",
    "Certificate: https://drive.google.com/open?id=1YpEj_26283SstqDk8Tonq8AOt1y8v5Xt\n",
    "\n",
    "As a Data Scientist, you'll often find that the data you need is not in a single file. It may be spread across a number of text files, spreadsheets, or databases. You want to be able to import the data of interest as a collection of DataFrames and figure out how to combine them to answer your central questions. This course is all about the act of combining, or merging, DataFrames, an essential part of any working Data Scientist's toolbox. You'll hone your pandas skills by learning how to organize, reshape, and aggregate multiple data sets to answer your specific questions."
   ]
  },
  {
   "cell_type": "markdown",
   "metadata": {},
   "source": [
    "### Network Analysis in Python (Part 1), DataCamp.com, November, 2017\n",
    "Certificate: https://drive.google.com/open?id=1ftt39kaP3PYmk9ZHHnG1WgYQpR7pWIdl\n",
    "\n",
    "From online social networks such as Facebook and Twitter to transportation networks such as bike sharing systems, networks are everywhere, and knowing how to analyze this type of data will open up a new world of possibilities for you as a Data Scientist. This course will equip you with the skills to analyze, visualize, and make sense of networks. You'll apply the concepts you learn to real-world network data using the powerful NetworkX library. With the knowledge gained in this course, you'll develop your network thinking skills and be able to start looking at your data with a fresh perspective!"
   ]
  },
  {
   "cell_type": "markdown",
   "metadata": {},
   "source": [
    "### Statistical Thinking in Python (Part 1), DataCamp.com, November, 2017\n",
    "Certificate: https://drive.google.com/open?id=115jRtZ56Em15swwKCd2WhkqAgLyece1t\n",
    "\n",
    "After all of the hard work of acquiring data and getting them into a form you can work with, you ultimately want to make clear, succinct conclusions from them. This crucial last step of a data analysis pipeline hinges on the principles of statistical inference. In this course, you will start building the foundation you need to think statistically, to speak the language of your data, to understand what they are telling you. The foundations of statistical thinking took decades upon decades to build, but they can be grasped much faster today with the help of computers. With the power of Python-based tools, you will rapidly get up to speed and begin thinking statistically by the end of this course."
   ]
  },
  {
   "cell_type": "markdown",
   "metadata": {},
   "source": [
    "### Statistical Thinking in Python (Part 2), DataCamp.com, November, 2017\n",
    "Certificate: https://drive.google.com/open?id=1PhTBAOcNqWDTJu2JOlxXrot-21baXVbx\n",
    "\n",
    "After completing Statistical Thinking in Python (Part 1), you have the probabilistic mindset and foundational hacker stats skills to dive into data sets and extract useful information from them. In this course, you will do just that, expanding and honing your hacker stats toolbox to perform the two key tasks in statistical inference, parameter estimation and hypothesis testing. You will work with real data sets as you learn, culminating with analysis of measurements of the beaks of the Darwin's famous finches. You will emerge from this course with new knowledge and lots of practice under your belt, ready to attack your own inference problems out in the world."
   ]
  },
  {
   "cell_type": "markdown",
   "metadata": {},
   "source": [
    "### Supervised Learning with scikit-learn, DataCamp.com, November, 2017\n",
    "Certificate: https://drive.google.com/open?id=1nb7vLVYqxUiLi9n9tqBRoyNtcLSz-OdK\n",
    "\n",
    "At the end of day, the value of Data Scientists rests on their ability to describe the world and to make predictions. Machine Learning is the field of teaching machines and computers to learn from existing data to make predictions on new data - will a given tumor be benign or malignant? Which of your customers will take their business elsewhere? Is a particular email spam or not? In this course, you'll learn how to use Python to perform supervised learning, an essential component of Machine Learning. You'll learn how to build predictive models, how to tune their parameters and how to tell how well they will perform on unseen data, all the while using real world datasets. You'll do so using scikit-learn, one of the most popular and user-friendly machine learning libraries for Python."
   ]
  },
  {
   "cell_type": "markdown",
   "metadata": {},
   "source": [
    "### Unsupervised Learning in Python, DataCamp.com, November, 2017\n",
    "Certificate: https://drive.google.com/open?id=1SUhNuChGE1uFPXD_dcqRNh-29kwMTsNh\n",
    "\n",
    "Say you have a collection of customers with a variety of characteristics such as age, location, and financial history, and you wish to discover patterns and sort them into clusters. Or perhaps you have a set of texts, such as wikipedia pages, and you wish to segment them into categories based on their content. This is the world of unsupervised learning, called as such because you are not guiding, or supervising, the pattern discovery by some prediction task, but instead uncovering hidden structure from unlabeled data. Unsupervised learning encompasses a variety of techniques in machine learning, from clustering to dimension reduction to matrix factorization. In this course, you'll learn the fundamentals of unsupervised learning and implement the essential algorithms using scikit-learn and scipy. You will learn how to cluster, transform, visualize, and extract insights from unlabeled datasets, and end the course by building a recommender system to recommend popular musical artists."
   ]
  },
  {
   "cell_type": "markdown",
   "metadata": {},
   "source": [
    "## October, 2017"
   ]
  },
  {
   "cell_type": "markdown",
   "metadata": {},
   "source": [
    "### Cleaning Data in Python, DataCamp.com, October, 2017\n",
    "Certificate: https://drive.google.com/open?id=0B4COB52qGHUNTFFjSUt6cHUySW8\n",
    "\n",
    "A vital component of data science involves acquiring raw data and getting it into a form ready for analysis. In fact, it is commonly said that data scientists spend 80% of their time cleaning and manipulating data, and only 20% of their time actually analyzing it. This course will equip you with all the skills you need to clean your data in Python, from learning how to diagnose your data for problems to dealing with missing values and outliers. At the end of the course, you'll apply all of the techniques you've learned to a case study in which you'll clean a real-world Gapminder dataset!"
   ]
  },
  {
   "cell_type": "markdown",
   "metadata": {},
   "source": [
    "### Data Science & Analytics, Career Paths & Certifications: First Steps, Lynda.com, October, 2017\n",
    "Certificate: https://drive.google.com/open?id=0B4COB52qGHUNOS1ZUU4zeXJvUHM \n",
    "\n",
    "The career opportunities in data science, big data, and analytics are growing dramatically. These are among the most sought-after jobs in the tech world today. If you're interested in changing career paths, determining the right course of study, or deciding if certification is worth your time, this course is for you.\n",
    "\n",
    "Jungwoo Ryoo is a professor of information science and technology at Penn State. Here he reviews the history of data science and analytics, explores which markets are using big data the most, and reveals the five main skills areas: data mining, machine learning, natural language processing (NLP), statistics, and visualization. This leads to a discussion of the five biggest career opportunities, the four leading industry-recognized certifications available, and the most exciting emerging technologies. Along the way, Jungwoo discusses the importance of ethics and professional development, and provides pointers to online resources for learning more.\n",
    "Topics include:\n",
    "\n",
    "- A history of data science\n",
    "- Why analytics is important\n",
    "- How data science is used in social media, climate research, and more\n",
    "- Data science skills\n",
    "- Data science certifications\n",
    "- The future of big data"
   ]
  },
  {
   "cell_type": "markdown",
   "metadata": {},
   "source": [
    "### Data Science Foundations: Data Mining, Lynda.com, October, 2017\n",
    "Certificate: https://drive.google.com/open?id=0B4COB52qGHUNdHdxeTNGdXc3dzQ \n",
    "\n",
    "All data science begins with good data. Data mining is a framework for collecting, searching, and filtering raw data in a systematic matter, ensuring you have clean data from the start. It also helps you parse large data sets, and get at the most meaningful, useful information. This course, Data Science Foundations: Data Mining, is designed to provide a solid point of entry to all the tools, techniques, and tactical thinking behind data mining.\n",
    "\n",
    "Barton Poulson covers data sources and types, the languages and software used in data mining (including R and Python), and specific task-based lessons that help you practice the most common data-mining techniques: text mining, data clustering, association analysis, and more. This course is an absolute necessity for those interested in joining the data science workforce, and for those who need to obtain more experience in data mining.\n",
    "Topics include:\n",
    "\n",
    "- Prerequisites for data mining\n",
    "- Data mining using R, Python, Orange, and RapidMiner\n",
    "- Data reduction\n",
    "- Data clustering\n",
    "- Anomaly detection\n",
    "- Association analysis\n",
    "- Regression analysis\n",
    "- Sequence mining\n",
    "- Text mining"
   ]
  },
  {
   "cell_type": "markdown",
   "metadata": {},
   "source": [
    "### Data Science Foundations: Fundamentals, Lynda.com, October, 2017\n",
    "Certificate: https://drive.google.com/open?id=0B4COB52qGHUNVm9wbnZvUV9wN2M \n",
    "\n",
    "Introduction to Data Science provides a comprehensive overview of modern data science: the practice of obtaining, exploring, modeling, and interpreting data. While most only think of the \"big subject,\" big data, there are many more fields and concepts to explore. Here Barton Poulson explores disciplines such as programming, statistics, mathematics, machine learning, data analysis, visualization, and (yes) big data. He explains why data scientists are now in such demand, and the skills required to succeed in different jobs. He shows how to obtain data from legitimate open-source repositories via web APIs and page scraping, and introduces specific technologies (R, Python, and SQL) and techniques (support vector machines and random forests) for analysis. By the end of the course, you should better understand data science's role in making meaningful insights from the complex and large sets of data all around us.\n",
    "Topics include:\n",
    "\n",
    "- The demand for data science\n",
    "- Roles and careers\n",
    "- Ethical issues in data science\n",
    "- Sourcing data\n",
    "- Exploring data through graphs and statistics\n",
    "- Programming with R, Python, and SQL\n",
    "- Data science in math and statistics\n",
    "- Data science and machine learning\n",
    "- Communicating with data"
   ]
  },
  {
   "cell_type": "markdown",
   "metadata": {},
   "source": [
    "### Importing Data in Python (Part 1), DataCamp.com, October, 2017\n",
    "Certificate: https://drive.google.com/open?id=0B4COB52qGHUNMVhtZXhxUWtBaTg\n",
    "\n",
    "As a Data Scientist, on a daily basis you will need to clean data, wrangle and munge it, visualize it, build predictive models and interpret these models. Before doing any of these, however, you will need to know how to get data into Python. In this course, you'll learn the many ways to import data into Python: (i) from flat files such as .txts and .csvs; (ii) from files native to other software such as Excel spreadsheets, Stata, SAS and MATLAB files; (iii) from relational databases such as SQLite & PostgreSQL."
   ]
  },
  {
   "cell_type": "markdown",
   "metadata": {},
   "source": [
    "### Importing Data in Python (Part 2), DataCamp.com, October, 2017\n",
    "Certificate: https://drive.google.com/open?id=0B4COB52qGHUNMHpGS0YzcWdkZnM\n",
    "\n",
    "As a Data Scientist, on a daily basis you will need to clean data, wrangle and munge it, visualize it, build predictive models and interpret these models. Before doing any of these, however, you will need to know how to get data into Python. In the prequel to this course, you have already learnt many ways to import data into Python: (i) from flat files such as .txts and .csvs; (ii) from files native to other software such as Excel spreadsheets, Stata, SAS and MATLAB files; (iii) from relational databases such as SQLite & PostgreSQL. In this course, you'll extend this knowledge base by learning to import data (i) from the web and (ii) a special and essential case of this: pulling data from Application Programming Interfaces, also known as APIs, such as the Twitter streaming API, which allows us to stream real-time tweets."
   ]
  },
  {
   "cell_type": "markdown",
   "metadata": {},
   "source": []
  },
  {
   "cell_type": "markdown",
   "metadata": {},
   "source": [
    "### Intermediate Python for Data Science, DataCamp.com, October, 2017\n",
    "Certificate: https://drive.google.com/open?id=0B4COB52qGHUNLThIV01ram5ueTA \n",
    "\n",
    "The intermediate python course is crucial to your data science curriculum. Learn to visualize real data with matplotlib's functions and get to know new data structures such as the dictionary and the Pandas DataFrame. After covering key concepts such as boolean logic, control flow and loops in Python, you're ready to blend together everything you've learned to solve a case study using hacker statistics."
   ]
  },
  {
   "cell_type": "markdown",
   "metadata": {},
   "source": [
    "### Learning Data Governance, Lynda.com, October, 2017\n",
    "Certificate: https://drive.google.com/open?id=0B4COB52qGHUNMDQ1dkFJZGc0Tjg \n",
    "\n",
    "In the era of big data and data science, most businesses and institutions realize the power of data. Yet far too many fail to appreciate the legal and fiscal responsibilities and liabilities associated with it. The stakes are high, but a well-rounded data governance process can help ensure the consistent quality, availability, integrity, and usability of your data.\n",
    "\n",
    "Here Dr. Jonathan Reichental explains how to begin to implement a data governance program within any organization. Learn the components of data governance, its strategic value, the roles and responsibilities of stakeholders, and the overall steps that an organization needs to take to manage, monitor, and measure the program. Plus, get guidance on a set of next steps for building skills. As the data science domain grows, so does the demand for data governance expertise. Start here for your first look at this in-demand skill.\n",
    "Topics include:\n",
    "\n",
    "- What is data governance?\n",
    "- Why do organizations need data governance?\n",
    "- Who owns the data?\n",
    "- Designing the data governance process\n",
    "- Managing, maintaining, monitoring, and measuring your program"
   ]
  },
  {
   "cell_type": "markdown",
   "metadata": {},
   "source": [
    "### pandas Foundations, DataCamp.com, October, 2017\n",
    "Certificate: https://drive.google.com/open?id=0B4COB52qGHUNTzZ0eVlmYzZ0Rkk\n",
    "\n",
    "Many real-world data sets contain strings, integers, time-stamps and unstructured data. How do you store data like this so that you can manipulate it and easily retrieve important information? The answer is in a pandas DataFrame! In this course, you'll learn how to use the industry-standard pandas library to import, build, and manipulate DataFrames. With pandas, you'll always be able to convert your data into a form that permits you to analyze it easily. You'll also learn more about NumPy, how it stores data, and its relation to the pandas DataFrame."
   ]
  },
  {
   "cell_type": "markdown",
   "metadata": {},
   "source": [
    "### Python Data Science Toolbox (Part 1), DataCamp.com, October, 2017\n",
    "Certificate: https://drive.google.com/open?id=0B4COB52qGHUNMTRiZnItN2o3QUE\n",
    "\n",
    "It's now time to push forward and develop your Python chops even further. There are lots and lots of fantastic functions in Python and its library ecosystem. However, as a Data Scientist, you'll constantly need to write your own functions to solve problems that are dictated by your data. The art of function writing is what you'll learn in this first Python Data Science toolbox course. You'll come out of this course being able to write your very own custom functions, complete with multiple parameters and multiple return values, along with default arguments and variable-length arguments. You'll gain insight into scoping in Python and be able to write lambda functions and handle errors in your very own function writing practice. On top of this, you'll wrap up each Chapter by diving into using your acquired skills to write functions that analyze twitter DataFrames and are generalizable to broader Data Science contexts."
   ]
  },
  {
   "cell_type": "markdown",
   "metadata": {},
   "source": [
    "### Python Data Science Toolbox (Part 2), DataCamp.com, October, 2017\n",
    "Certificate: https://drive.google.com/open?id=0B4COB52qGHUNNV9oSDRZWDQ5ekE\n",
    "\n",
    "In this second course in the Python Data Science Toolbox, you'll continue to build your Python Data Science skills. First you'll enter the wonderful world of iterators, objects that you have already encountered in the context of for loops without having necessarily known it. You'll then learn about list comprehensions, which are extremely handy tools that form a basic component in the toolbox of all modern Data Scientists working in Python. You'll end the course by working through a case study in which you'll apply all of the techniques you learned both in this course as well as the prequel. If you're looking to make it as a Pythonista Data Science ninja, you have come to the right place."
   ]
  },
  {
   "cell_type": "markdown",
   "metadata": {},
   "source": [
    "### Python Programming Track, DataCamp.com, October, 2017\n",
    "Certificate: https://drive.google.com/open?id=1AVLnbLjG45zeIxqxxU9raqvjm9ZEEgnk\n",
    "\n",
    "Discover important data structures like dictionaries and DataFrames, visualize real word data with matplotlib, and learn the art of writing your own Python functions. https://www.datacamp.com/tracks/python-programming"
   ]
  },
  {
   "cell_type": "markdown",
   "metadata": {},
   "source": [
    "## September, 2017"
   ]
  },
  {
   "cell_type": "markdown",
   "metadata": {},
   "source": [
    "### Access 2016 Essential Training, Lynda.com, September, 2017\n",
    "Certificate: https://drive.google.com/open?id=0B4COB52qGHUNYWpYR2dVbXoxb00 \n",
    "\n",
    "Learn how to build databases to store and retrieve your data more efficiently with Access 2016. Adam Wilbert shows how to use the powerful program to wrangle your data and create your first table, and highlights smart strategies to edit and modify fields and records.\n",
    "\n",
    "The course also shows you how to build queries and action queries, create and design forms, use macros, integrate Access with the rest of the Office 2016 suite, and maintain your databases over time.\n",
    "Topics include:\n",
    "\n",
    "- Creating a new database\n",
    "- Creating tables and new data types\n",
    "- Importing and entering data\n",
    "- Setting up relationships and primary keys\n",
    "- Adding validation rules\n",
    "- Sorting and filtering table data\n",
    "- Building queries\n",
    "- Designing forms\n",
    "- Creating reports\n",
    "- Attaching macros to buttons and tables\n",
    "- Working with Excel and Outlook data\n",
    "- Maintaining an Access database"
   ]
  },
  {
   "cell_type": "markdown",
   "metadata": {},
   "source": [
    "### Advanced SQL for Data Scientists, Lynda.com, September, 2017\n",
    "Certificate: https://drive.google.com/open?id=0B4COB52qGHUNa0VMOWpxd3RPZzQ \n",
    "\n",
    "There is an increasing need for data scientists and analysts to understand relational data stores. Organizations have long used SQL databases to store transactional data as well as business intelligence related data. If you need to work with SQL databases, this course is designed to help you learn how to perform common data science tasks, including finding, exploration, and extraction within relational databases. \n",
    "\n",
    "The course begins with a brief overview of SQL. Then the five major topics a data scientist should understand when working with relational databases: basic statistics in SQL, data preparation in SQL, advanced filtering and data aggregation, window functions, and preparing data for use with analytics tools.\n",
    "Topics include:\n",
    "\n",
    "- Data manipulation\n",
    "- ANSI standards\n",
    "- SQL and variations\n",
    "- Statistical functions in SQL\n",
    "- String, numeric, and regular expression functions in SQL\n",
    "- Advanced filtering techniques\n",
    "- Advanced aggregation techniques\n",
    "- Windowing functions for working with ordered data sets"
   ]
  },
  {
   "cell_type": "markdown",
   "metadata": {},
   "source": [
    "### Data Reduction Techniques Using Excel and R: Business Analytics Deep Dive, Lynda.com, September, 2017\n",
    "Certificate: https://drive.google.com/open?id=0B4COB52qGHUNR0tyTjBpNVlmRjg \n",
    "\n",
    "With businesses having to grapple with increasing amounts of data, the need for data reduction has intensified in recent years. To make sense of an overabundance of information, you can use cluster analysis—which allows you to develop inferences about a handful of groups instead of an entire population of individuals—as well as principal components analysis, which exposes latent variables. \n",
    "\n",
    "In this course, Conrad Carlberg explains how to carry out cluster analysis and principal components analysis using Microsoft Excel, which tends to show more clearly what's going on in the analysis. Then he explains how to carry out the same analysis using R, the open-source statistical computing software, which is faster and richer in analysis options than Excel. Plus, he walks through how to merge the results of cluster analysis and factor analysis to help you break down a few underlying factors according to individuals' membership in just a few clusters.\n",
    "Topics include:\n",
    "\n",
    "- Reviewing the problems created by an overabundance of data\n",
    "- Understanding the rationale for clustering and principal components analysis\n",
    "- Using Excel to extract principal components\n",
    "- Using R to extract principal components\n",
    "- Using R for cluster analysis\n",
    "- Using Excel for cluster analysis\n",
    "- Setting up confusion tables in Excel\n",
    "- Using cluster analysis and factor analysis in concert"
   ]
  },
  {
   "cell_type": "markdown",
   "metadata": {},
   "source": [
    "### Data Wrangling in R, Lynda.com, September, 2017\n",
    "Certificate: https://drive.google.com/open?id=0B4COB52qGHUNNlRvYThjMlJ3WGc \n",
    "\n",
    "Tidy data is a data format that provides a standardized way of organizing data values within a dataset. By leveraging tidy data principles, statisticians, analysts, and data scientists can spend less time cleaning data and more time tackling the more compelling aspects of data analysis. In this course, learn about the principles of tidy data, and discover how to create and manipulate data tibbles—transforming them from source data into tidy formats. Instructor Mike Chapple uses the R programming language and the tidyverse packages to teach the concept of data wrangling—the data cleaning and data transformation tasks that consume a substantial portion of analysts' time. He wraps up with three hands-on case studies that help to reinforce the data wrangling principles and tactics covered in this course.\n",
    "Topics include:\n",
    "\n",
    "- What's tidy data?\n",
    "- Using the tidyverse\n",
    "- Working with tibbles\n",
    "- Subsetting and filtering tibbles\n",
    "- Importing data into R\n",
    "- Making wide datasets long with gather()\n",
    "- Making long datasets wide with spread()\n",
    "- Converting data types in R\n",
    "- Detecting outliers\n",
    "- Manipulating strings in R with stringr"
   ]
  },
  {
   "cell_type": "markdown",
   "metadata": {},
   "source": [
    "### Descriptive Healthcare Analytics In R, Lynda.com, September, 2017\n",
    "Certificate: https://drive.google.com/open?id=0B4COB52qGHUNZG5qd3hLYXVHN00 \n",
    "\n",
    "Analyze behavior and risk using R, the open-source statistical computing software. R provides an environment and a language you can use to analyze data, including the publicly available Behavioral Risk Factor Surveillance Survey (BRFSS) dataset. This course teaches core healthcare data science skills, including epidemiology, as well as how to perform a cross-sectional analysis, set up a data dictionary, develop metadata, determine confounders, apply exclusions, create diagrams, generate continuous and categorical outcome variables, and more. Join biotech expert and epidemiologist Monika Wahi as she first discusses design and ethical considerations, and then takes you through the steps of conducting a descriptive analysis.\n",
    "\n",
    "This detailed, practical course is designed to help those in the field of public health, medicine, and data science to edit, analyze, and interpret data. Learn how to code new variables, use the forward-stepwise modeling process, and document your decisions. Find out how to visualize results by generating charts and graphics, and how to add tables and figures to your documentation. This course helps equip you to independently design, develop, and execute a full BRFSS analysis, and even publish your results in scientific publications or journals.\n",
    "Topics include:\n",
    "\n",
    "- Reviewing survey data and documentation\n",
    "- Conducting a BRFSS analysis\n",
    "- Understanding naming conventions\n",
    "- Editing variables\n",
    "- Reviewing distributions\n",
    "- Generating an analytic dataset\n",
    "- Developing descriptive statistics to answer prespecified hypotheses\n",
    "- Preparing publication-worthy tables and plots"
   ]
  },
  {
   "cell_type": "markdown",
   "metadata": {},
   "source": [
    "### Healthcare Analytics: Regression In R, Lynda.com, September, 2017\n",
    "Certificate: https://drive.google.com/open?id=0B4COB52qGHUNaVl2dV94MTZsVU0 \n",
    "\n",
    "Linear and logistic regression models can be created using R, the open-source statistical computing software. In this course, biotech expert and epidemiologist Monika Wahi uses the publicly available Behavioral Risk Factor Surveillance Survey (BRFSS) dataset to show you how to perform a forward stepwise modeling process. Monika shows you how to design your research by considering scientific plausibility selecting a hypothesis. Then, she takes you through the steps of preparing, developing, and finalizing both a linear regression model and a logistic regression model. She also shares techniques for how to interpret diagnostic plots, improve model fit, compare models, and more.\n",
    "Topics include:\n",
    "\n",
    "- Dealing with scientific plausibility\n",
    "- Selecting a hypothesis\n",
    "- Interpreting diagnostic plots\n",
    "- Working with indexes and model metadata\n",
    "- Working with quartiles and ranking\n",
    "- Making a working model\n",
    "- Improving model fit\n",
    "- Performing linear regression modeling\n",
    "- Performing logistic regression modeling\n",
    "- Performing forward stepwise regression\n",
    "- Estimating parameters\n",
    "- Interpreting an odds ratio\n",
    "- Adding odds ratios to models\n",
    "- Comparing nested models\n",
    "- Presenting and interpreting the final model"
   ]
  },
  {
   "cell_type": "markdown",
   "metadata": {},
   "source": [
    "### Intro to Python for Data Science, DataCamp.com, September, 2017\n",
    "Certificate: https://drive.google.com/open?id=0B4COB52qGHUNNFJHaGVRa1pyVlE \n",
    "\n",
    "Python is a general-purpose programming language that is becoming more and more popular for doing data science. Companies worldwide are using Python to harvest insights from their data and get a competitive edge. Unlike any other Python tutorial, this course focuses on Python specifically for data science. In our Intro to Python class, you will learn about powerful ways to store and manipulate data as well as cool data science tools to start your own analyses. Enter DataCamp’s online Python curriculum."
   ]
  },
  {
   "cell_type": "markdown",
   "metadata": {},
   "source": [
    "### IoT Foundations: Standards and Ecosystems, Lynda.com, September, 2017\n",
    "Certificate: https://drive.google.com/open?id=0B4COB52qGHUNLUJHQWxyaEtEMVU \n",
    "\n",
    "The continuous development of IoT ecosystems promises a future in which our homes, cars, and cities are more connected. But as this technology evolves, it has become increasingly important to tackle the communication and compatibility challenges facing the billions of connected devices already out in the world. In this course, learn about IoT standards and ecosystems. Instructor Zahraa Khalil provides a high-level look at the IoT ecosystem, discussing IoT markets, technology, and standards. She also goes over the challenges facing the development of IoT—including security, privacy, and legal issues—the IoT standards development process, and IoT protocols for device management. Plus, she shares examples of IoT ecosystems in action by exploring case studies of smart cities.\n",
    "Topics include:\n",
    "\n",
    "- IoT architecture models and components\n",
    "- IoT ecosystem\n",
    "- IoT technology, markets, and standards\n",
    "- IoT technology\n",
    "- Security, privacy, and legal issues\n",
    "- IoT device management\n",
    "- IoT protocols for device management\n",
    "- IoT device management challenges and applications\n",
    "- Smart cities"
   ]
  },
  {
   "cell_type": "markdown",
   "metadata": {},
   "source": [
    "### Julia for Data Scientists First Look, Lynda.com, September, 2017\n",
    "Certificate: https://drive.google.com/open?id=0B4COB52qGHUNME9XY1JLdjlsSms \n",
    "\n",
    "Get a first look at Julia, the powerful and fast programming language for data science and analytics. Julia is growing quickly in popularity and many data science practitioners are interested in learning more. This fast-paced course provides a general introduction to the language's functionality, power, and limitations. Discover how Julia compares to C, R, and Python and how to call those languages in, how to format data with the different data types, how to perform math and vectorized operations, how to create expressions and run macros, and more. You can decide whether to incorporate Julia into your data science workflow or follow the next steps to learn more."
   ]
  },
  {
   "cell_type": "markdown",
   "metadata": {},
   "source": [
    "### Learning Microsoft SQL Server 2016, Lynda.com, September, 2017\n",
    "Certificate: https://drive.google.com/open?id=0B4COB52qGHUNZ2FzMTBWaUxLRjQ \n",
    "\n",
    "SQL Server can be intimidating, especially for people who have never worked with databases before. A quick overview can go a long way to making you feel more comfortable digging into its powerful capabilities.\n",
    "\n",
    "This course introduces the most important features of SQL Server 2016, and is designed to act as the student's very first look at how the server operates. Adam Wilbert shows how to install a local copy of SQL Server; demonstrates the working environment, SQL Server Management Studio; and walks students through their first hour creating tables, defining relationships, and writing and running queries with Transact-SQL commands. Everything you need to accomplish to create your first database is covered in just 80 minutes. Start watching to get up and running with this professional-grade database management system.\n",
    "Topics include:\n",
    "\n",
    "- What is SQL Server?\n",
    "- Configuring the server\n",
    "- Creating a new database and data tables\n",
    "- Joining tables with keys\n",
    "- Creating a SELECT statement\n",
    "- Writing an UPDATE statement\n",
    "- Adding data with the INSERT statement"
   ]
  },
  {
   "cell_type": "markdown",
   "metadata": {},
   "source": [
    "### Learning NVivio, Lynda.com, September, 2017\n",
    "Certificate: https://drive.google.com/open?id=0B4COB52qGHUNeV9Pd3NISzZleTg  \n",
    "\n",
    "NVivo is the leading tool for qualitative analysis. Qualitative data is difficult to gather and process, but with NVivo Starter 11 for Windows, you have powerful tools at your disposal. This course explores how to leverage NVivo Starter for collecting and analyzing text-based research data. David Rivers shows how to create a new project and add nodes—the containers that keep your NVivo data organized. Then learn how to import data, documents, and notes; code content; analyze data with queries; and visualize your results with NVivo's charts and diagrams.\n",
    "Topics include:\n",
    "\n",
    "- What is NVivo?\n",
    "- Creating a new project\n",
    "- Creating new nodes\n",
    "- Importing and organizing data\n",
    "- Taking notes\n",
    "- Analyzing data\n",
    "- Displaying data in charts and diagrams"
   ]
  },
  {
   "cell_type": "markdown",
   "metadata": {},
   "source": [
    "### Learning Oracle Database 12c, Lynda.com, September, 2017\n",
    "Certificate: https://drive.google.com/open?id=0B4COB52qGHUNZGo1YXV1cWJ4Z2s \n",
    "\n",
    "In this course, Oracle expert and author Bob Bryla goes beyond the fundamentals of administering an Oracle database, and dives deep into the skills an Oracle power user needs to know. Bob reviews the database architecture and shows how a database administrator (DBA) can more effectively manage and configure an Oracle database. At the same time, he explains the database's features that enable a business intelligence (BI) developer to effectively write applications using Oracle Database 12c.\n",
    "Topics include:\n",
    "\n",
    "- Design methodology and tools\n",
    "- SQL query basics\n",
    "- Advanced data manipulation\n",
    "- Modifying and creating a database object\n",
    "- Database architecture\n",
    "- DBA configuration tools\n",
    "- Managing tablespaces and disk space\n",
    "- Table compression\n",
    "- Manage system-related tablespaces\n",
    "- Database monitoring"
   ]
  },
  {
   "cell_type": "markdown",
   "metadata": {},
   "source": [
    "### Learning SQL Programming, Lynda.com, September, 2017\n",
    "Certificate: https://drive.google.com/open?id=0B4COB52qGHUNVDF2WWk5R00wRXc \n",
    "\n",
    "SQL (Structured Query Language) is a common tool for retrieving data from relational databases such as SQL Server, MySQL, MariaDB, and PostgreSQL. This course provides an introduction to this core programming language. Learn how to request data from a server, limit and sort the responses, aggregate data from multiple tables with joins, and edit and delete data. Instructor Scott Simpson also shows how to perform simple math operations and transform data into different formats.\n",
    "Topics include:\n",
    "\n",
    "- What is SQL?\n",
    "- Asking for data with SELECT\n",
    "- Limiting database responses\n",
    "- Organizing responses\n",
    "- Asking for data from two or more tables\n",
    "- Understanding join types and data types\n",
    "- Transforming data\n",
    "- Performing math\n",
    "- Adding and modifying data in a table"
   ]
  },
  {
   "cell_type": "markdown",
   "metadata": {},
   "source": [
    "### Logistic Regression in R and Excel, Lynda.com, September, 2017\n",
    "Certificate: https://drive.google.com/open?id=0B4COB52qGHUNNVJJd0NSeUxJbGs \n",
    "\n",
    "Business decisions are often binary: take on this project or put it off for a year; extend credit to this customer or insist on cash; open a new retail outlet in a particular location or find another spot. When an outcome is a continuous variable such as revenue, ordinary regression is often a good technique, but when there are only two outcomes, logistic regression usually offers better tools.\n",
    "\n",
    "Learn how to use R and Excel to analyze data in this course with Conrad Carlberg. He takes you through advanced logistic regression, starting with odds and logarithms and then moving on into binomial distribution and converting predicted odds back to probabilities. After this foundation is established, he shifts the focus to inferential statistics, likelihood ratios, and multinomial regression. Conrad's comprehensive coverage of how to perform logistic regression includes tackling common problems, explaining relationships, reviewing outcomes, and interpreting results.\n",
    "Topics include:\n",
    "\n",
    "- Recognizing the problems with ordinary regression on a binary outcome\n",
    "- Quantifying errors in forecasts\n",
    "- Managing different slopes\n",
    "- Forecasting odds instead of probabilities\n",
    "- Limiting probabilities on the upside and downside\n",
    "- Working with exponents and bases\n",
    "- Predicting the logit\n",
    "- Working with original data and coefficients\n",
    "- Establishing the Log Likelihood\n",
    "- Interpreting -2LL or deviance\n",
    "- Establishing a data frame with XLGetRange\n",
    "- Using the R functions mlogit or and glm\n",
    "- Understanding long versus wide shapes in data sets"
   ]
  },
  {
   "cell_type": "markdown",
   "metadata": {},
   "source": [
    "### Open Data: Unleashing Hidden Value, Lynda.com, September, 2017\n",
    "Certificate: https://drive.google.com/open?id=0B4COB52qGHUNdW1DWWRnWmZHY1U \n",
    "\n",
    "Governments around the world are discovering the value and responsibility in making the data they collect and store easily available to anyone who wants to access it. Making the decision to open up data sets is a strategic choice that requires detailed tactics. There are processes and technologies to make data accessible while minimizing risk. If you want to start opening up your organization's data to enable transparency and catalyze innovation, or use open data to drive analysis and make more informed decisions, this course is for you.\n",
    "\n",
    "Dr. Jonathan Reichental introduces real-world use cases for open data, as well as the steps you need to take to develop and operationalize an open data program. He also explains how data scientists use open data to tell stories and drive data visualizations. Along the way, he provides numerous examples of open data in action: improving government, empowering citizens, creating opportunity, and solving public problems.\n",
    "Topics include:\n",
    "\n",
    "- Understanding what open data really is\n",
    "- Current open data efforts around the globe\n",
    "- Open data in action\n",
    "- Designing an open data governance process, including policies\n",
    "- Monetizing open data\n",
    "- Storytelling with open data\n",
    "- Selling the value of open data\n",
    "- Measuring the value of open data"
   ]
  },
  {
   "cell_type": "markdown",
   "metadata": {},
   "source": [
    "### Pandas for Data Science, Lynda.com, September, 2017\n",
    "Certificate: https://drive.google.com/open?id=0B4COB52qGHUNb0JKY1NaclFtNnM\n",
    "\n",
    "Pandas for Data Science is an introduction to one of the hottest new tools available to data science and business analytics specialists. Pandas is an open-source library that provides high-performance, easy-to-use data structures and data analysis tools. While Python has excellent capabilities for data manipulation and data preparation, Pandas adds data analysis and modeling tools so that users can perform entire data science workflows.\n",
    "\n",
    "Watch this course to gain an overview of Pandas. Charles Kelly helps you get started with time series, data frames, panels, plotting, and visualization. All you need is a copy of the free and interactive Jupyter Notebook app to practice and follow along.\n",
    "Topics include:\n",
    "\n",
    "- Using the Markdown language and Jupyter Notebook\n",
    "- Creating objects\n",
    "- Selecting objects\n",
    "- Using operations\n",
    "- Merging data\n",
    "- Grouping\n",
    "- Creating series\n",
    "- Creating data frames\n",
    "- Creating panels\n",
    "- Plotting\n",
    "- Annotating plots and data frame plots"
   ]
  },
  {
   "cell_type": "markdown",
   "metadata": {},
   "source": [
    "### PowerPoint 2016 Essential Training, Lynda.com, September, 2017\n",
    "Certificate: https://drive.google.com/open?id=0B4COB52qGHUNSUVDWloza1ZpLTg \n",
    "\n",
    "Learn how to best create, edit, and share presentations with PowerPoint 2016, the popular presentation platform. Jess Stratton shows how to build a slideshow from scratch or leverage PowerPoint templates and themes for quick construction. Jess then demonstrates how to add and edit text, images, graphs, video, and animation; format slides for consistency; and add speaker notes and transitions to ensure a smooth delivery. Plus, discover how to collaborate on changes and then share the final presentation via print, PDF, or a recorded slideshow.\n",
    "Topics include:\n",
    "\n",
    "- Connecting PowerPoint to OneDrive\n",
    "- Creating presentations from themes and templates\n",
    "- Using and editing slide masters\n",
    "- Changing the layout or theme\n",
    "- Adding pictures and objects\n",
    "- Working with bullet points, text boxes, and tables\n",
    "- Adding shapes, diagrams, and charts\n",
    "- Incorporating video, audio, and animation\n",
    "- Adding speaker notes and comments\n",
    "- Running a slideshow\n",
    "- Reusing and sharing PowerPoint presentations"
   ]
  },
  {
   "cell_type": "markdown",
   "metadata": {},
   "source": [
    "### Python: Data Analysis, Lynda.com, September, 2017\n",
    "Certificate: https://drive.google.com/open?id=0B4COB52qGHUNdmxPT25YQ0s2STA \n",
    "\n",
    "If you're going to work with big data, you'll probably be using R or Python. And if you're using Python, you'll be definitely using Pandas and NumPy, the third-party packages designed specifically for data analysis. This course provides an opportunity to learn about them. Michele Vallisneri shows how to set up your analysis environment and provides a refresher on the basics of working with data containers in Python. Then he jumps into the big stuff: the power of arrays, indexing, and DataFrames in NumPy and Pandas. He also walks through two sample big-data projects: one using NumPy to analyze weather patterns and the other using Pandas to analyze the popularity of baby names over the last century. Challenges issued along the way help you practice what you've learned.\n",
    "Topics include:\n",
    "\n",
    "- Writing and running Python in iPython\n",
    "- Using Python lists and dictionaries\n",
    "- Creating NumPy arrays\n",
    "- Indexing and slicing in NumPy\n",
    "- Downloading and parsing data files into NumPy and Pandas\n",
    "- Using multilevel series in Pandas\n",
    "- Aggregating data in Pandas"
   ]
  },
  {
   "cell_type": "markdown",
   "metadata": {},
   "source": [
    "### Python for Data Science Essential Training, Lynda.com, September, 2017\n",
    "Certificate: https://drive.google.com/open?id=0B4COB52qGHUNNUNlc1E1UTV1d3c \n",
    "\n",
    "By using Python to glean value from your raw data, you can simplify the often complex journey from data to value. In this practical, hands-on course, learn how to use Python for data preparation, data munging, data visualization, and predictive analytics. Instructor Lillian Pierson, P.E. covers the essential Python methods for preparing, cleaning, reformatting, and visualizing your data for use in analytics and data science. She helps to provide you with a working understanding of machine learning, as well as outlier analysis, cluster analysis, and network analysis. Plus, Lillian explains how to create web-based data visualizations with Plot.ly, and how to use Python to scrape the web and capture your own data sets.\n",
    "Topics include:\n",
    "\n",
    "- Getting started with Jupyter Notebooks\n",
    "- Visualizing data: basic charts, time series, and statistical plots\n",
    "- Preparing for analysis: treating missing values and data transformation\n",
    "- Data analysis basics: arithmetic, summary statistics, and correlation analysis\n",
    "- Outlier analysis: univariate, multivariate, and linear projection methods\n",
    "- Introduction to machine learning\n",
    "- Basic machine learning methods: linear and logistic regression, Naïve Bayes\n",
    "- Reducing dataset dimensionality with PCA\n",
    "- Clustering and classification: k-means, hierarchical, and k-NN\n",
    "- Simulating a social network with NetworkX\n",
    "- Creating Plot.ly charts\n",
    "- Scraping the web with Beautiful Soup"
   ]
  },
  {
   "cell_type": "markdown",
   "metadata": {},
   "source": [
    "### Service Innovation, Lynda.com, September, 2017\n",
    "Certificate: https://drive.google.com/open?id=0B4COB52qGHUNU0w1eC1TNjBzcDQ \n",
    "\n",
    "Service innovation means changing the way you serve your customers to create greater value for them and deliver more revenue for your organization. IMD Professor of Service Management Stefan Michel shows you how to identify service innovations—whether they are process innovations, new services, or new service-driven business models—and then embed them into your business.\n",
    "\n",
    "Once you understand service innovation in its different forms, you can design and implement your own innovations. Each chapter combines real-world case studies with a methodological framework to help you become a better \"idea hunter\" for service innovation. After you identify an innovative model, you will learn how to align and execute your innovation by applying the customer star model and by embedding your innovation approach in your overall business strategy.\n",
    "Topics include:\n",
    "\n",
    "- What is service innovation?\n",
    "- Innovating by relieving and enabling customers\n",
    "- Linking attributes, benefits, and values\n",
    "- Innovating value constellations\n",
    "- Innovating outside your firm\n",
    "- Designing around the customer's need with customer stars"
   ]
  },
  {
   "cell_type": "markdown",
   "metadata": {},
   "source": [
    "### Service Metrics for Customer Service, Lynda.com, September, 2017\n",
    "Certificate: https://drive.google.com/open?id=0B4COB52qGHUNd3lfRlVpMFdXYmc\n",
    "\n",
    "Establishing the right metrics to support effective customer service requires a solid understanding of how metrics work, how metrics are interrelated, and what the uses and limitations of metrics are. Wisely employed, the right metrics help guide decisions, support collaboration, and encourage better performance. But metrics that are incomplete, unfair, or misapplied can send the wrong messages, negatively impact customers and employees, and lead to inefficiencies.\n",
    "\n",
    "This course covers, in a step-by-step fashion, why metrics are important, which metrics matter the most, how to interpret results, and examples of how successful organizations leverage metrics to improve decisions and performance. Whether your service operation includes face-to-face services, contact centers, social media, self-service, or any combination, this course provides practical know-how, real-life examples, and guidance for implementing and using the right metrics and establishing meaningful goals.\n",
    "Topics include:\n",
    "\n",
    "- Identifying customer expectations\n",
    "- Avoiding pitfalls\n",
    "- Essential metrics for the service operation\n",
    "- Identifying alternatives for measuring engagement\n",
    "- Engaging support that drives the right behaviors\n",
    "- Key areas of focus for individuals\n",
    "- Assessing service interactions\n",
    "- Calibration and coaching\n",
    "- Clarifying responsibilities"
   ]
  },
  {
   "cell_type": "markdown",
   "metadata": {},
   "source": [
    "### Smart Cities: Solving Urban Problems Using Technologies, Lynda.com, September, 2017\n",
    "Certificate: https://drive.google.com/open?id=0B4COB52qGHUNZzVEMVpvSk9zOEE \n",
    "\n",
    "Cities are changing rapidly—growing in size and density, creating more waste, and using more resources. To solve the problems these pressures create, city governments need to think different. Enter smart cities—cities that use 21st century thinking and technology to enable a better quality of life for their citizens. Hosted by Jonathan Reichental (named one of the world's top 100 CIOs in 2017), this short documentary profiles the City of Palo Alto, California. There forward-thinking officials are coming up with creative solutions to problems like traffic and air pollution—and opening up their doors and their data so that community members can get involved. Learn how sensors that bridge the physical and digital worlds and open-data policies are making government more agile and more innovative. Plus, find out how smart cities' technology investments will power a new job market for technical and creative professionals who want to do meaningful work for their communities."
   ]
  },
  {
   "cell_type": "markdown",
   "metadata": {},
   "source": [
    "### Smarter Cities: Using Data to Drive Urban Innovation, Lynda.com, September, 2017\n",
    "Certificate: https://drive.google.com/open?id=0B4COB52qGHUNMlg0UUFCWnZBV1U \n",
    "\n",
    "By 2050, over 70% of us will live in cities. But are our cities ready? Today, cities face challenges such as aging infrastructure, inadequate transportation, and inefficient bureaucratic processes. We must rethink how cities operate and deliver services, and turn to digital tools, data, and intelligent connected systems. Our cities must grow smarter—and we're going to need a whole new generation of people with entirely new skills to help. Find out where the best opportunities are for making a meaningful difference. This course is designed to introduce those with an interest in the future of cities to the idea of urban innovation. Top Chief Information Officer (CIO) Dr. Jonathan Reichental introduces the roles and skills needed to enter in this exciting new field. He illustrates the concepts using examples from successful smart cities across the globe. If you want to understand how you can begin or advance a career in this area, or are simply interested in the future of your community, then this is the right introductory course for you.\n",
    "Topics include:\n",
    "\n",
    "- The challenges of rapid urban development\n",
    "- Understanding the basic functions and needs of 21st century cities\n",
    "- Exploring what makes a smart city smart\n",
    "- How smart cities are planned and maintained\n",
    "- The role of big data in driving urban innovation\n",
    "- Open data and smart cities\n",
    "- Smart cities and the Internet of Things"
   ]
  },
  {
   "cell_type": "markdown",
   "metadata": {},
   "source": [
    "### SPSS Statistics Essential Training, Lynda.com, September, 2017\n",
    "Certificate: https://drive.google.com/open?id=0B4COB52qGHUNUXVzQXNWbGdScTQ  \n",
    "\n",
    "SPSS is a statistics and data analysis program for businesses, governments, research institutes, and academic organizations. In these tutorials, author Barton Poulson takes a practical, visual, and non-mathematical approach to SPSS. From importing spreadsheets to creating regression models, to exporting charts, this course covers all the basics, with an emphasis on clarity, interpretation, communicability, and application. Barton will help you:\n",
    "\n",
    "- Build charts, scatterplots, and box plots\n",
    "- Calculate descriptive statistics such as means and standard deviations\n",
    "- Use inferential statistics such as t-tests and chi-squares\n",
    "- Enter and read data\n",
    "- Create new variables and crosstabulations\n",
    "- Model associations with correlations, contingency tables, and multiple-regression analysis\n",
    "- Format and export presentations to share your data\n",
    "\n",
    "Plus, learn how to extend the power of SPSS with Python and R. This course is ideal for first-time researchers and those who want to make the most of data in their professional and academic work."
   ]
  },
  {
   "cell_type": "markdown",
   "metadata": {},
   "source": [
    "### SQL: Data Reporting and Analysis, Lynda.com, September, 2017\n",
    "Certificate: https://drive.google.com/open?id=0B4COB52qGHUNR0JoZ1h3LXhUX1U \n",
    "\n",
    "Do you rely on IT to get you the data you need? Do you wish you could retrieve it yourself? SQL for Data Reporting and Analysis teaches you how to get the data you want by writing a bit of SQL code. You won't just be able to pull data out of the database; you'll be able to manipulate it: merging it, multiplying it, grouping it, and relabeling it to get just the report you want.\n",
    "\n",
    "Join Emma Saunders as she shows you how to design and write simple SQL queries for data reporting and analysis. Review the different types of SQL, and then learn how to filter, group, and sort data, using built-in SQL functions to format or calculate results. Learn a bit about data types and database design. Discover how to perform more complex queries, such as joining data together from different database tables. Last but not least, Emma shows how to save your queries as views, so you can run them again and again.\n",
    "Topics include:\n",
    "\n",
    "- Using different versions of SQL\n",
    "- Retrieving data with SELECT statements\n",
    "- Filtering and sorting your results\n",
    "- Transforming results with built-in SQL functions\n",
    "- Grouping SQL results\n",
    "- Merging data from multiple tables\n",
    "- Identifying data types, and how to make sense of your database design\n",
    "- Saving SQL queries"
   ]
  },
  {
   "cell_type": "markdown",
   "metadata": {},
   "source": [
    "### Statistics Foundations: 1, Lynda.com, September, 2017\n",
    "Certificate: https://drive.google.com/open?id=0B4COB52qGHUNYTE1dE81MnUwMHM \n",
    "\n",
    "Statistics is not just the realm of data scientists. All types of jobs use statistics. Statistics are important for making decisions, new discoveries, investments, and predictions. Whether the subject is political races, sports rankings, shopping trends, or healthcare advancements, statistics is an instrument for understanding your favorite topic at a deeper level. With these beginner-level lessons, you too can master the terms, formulas, and techniques needed to perform the most common types of statistics.\n",
    "\n",
    "Professor Eddie Davila covers statistics basics, like calculating averages, medians, modes, and standard deviations. He shows how to use probability and distribution curves to inform decisions, and how to detect false positives and misleading data. Each concept is covered in simple language, with detailed examples that show how statistics are used in real-world scenarios from the worlds of business, sports, education, entertainment, and more. These techniques will help you understand your data, prove theories, and save time, money, and other valuable resources—all by understanding the numbers.\n",
    "Topics include:\n",
    "\n",
    "- Why statistics matter\n",
    "- Evaluating your data sets\n",
    "- Finding means, medians, and modes\n",
    "- Calculating standard deviation\n",
    "- Measuring distribution and relative position\n",
    "- Understanding probability and multiple-event probability\n",
    "- Describing permutations: the order of things\n",
    "- Calculating discrete and continuous probability distributions"
   ]
  },
  {
   "cell_type": "markdown",
   "metadata": {},
   "source": [
    "### Statistics Foundations: 2, Lynda.com, September, 2017\n",
    "Certificate: https://drive.google.com/open?id=0B4COB52qGHUNNHpWRkhsVURzX1k \n",
    "\n",
    "Statistics are a core skill for many careers. Basic stats are critical for making decisions, new discoveries, investments, and even predictions. But sometimes you need to move beyond the basics. Statistics Fundamentals – Part 2 takes business users and data science mavens into practical, example-based learning of the intermediate skills associated with statistics: samples and sampling, confidence intervals, and hypothesis testing.\n",
    "\n",
    "Eddie Davila first provides a bridge from Part 1, reviewing introductory concepts such as data and probability, and then moves into the topics of sampling, random samples, sample sizes, sampling error and trustworthiness, the central unit theorem, t-distribution, confidence intervals (including explaining unexpected outcomes), and hypothesis testing. This course is a must for those working in data science, business, and business analytics—or anyone else who wants to go beyond means and medians and gain a deeper understanding of how statistics work in the real world.\n",
    "Topics include:\n",
    "\n",
    "- Data and distributions\n",
    "- Sample size considerations\n",
    "- Random sampling\n",
    "- Confidence intervals\n",
    "- Hypothesis testing"
   ]
  },
  {
   "cell_type": "markdown",
   "metadata": {},
   "source": [
    "### Statistics Foundations: 3, Lynda.com, September, 2017\n",
    "Certificate: https://drive.google.com/open?id=0B4COB52qGHUNakg4cVQweHlrRUE \n",
    "\n",
    "Statistics are everywhere, in every industry, but they're a must for anyone working in data science, business, or business analytics. If you're in one of these specialized fields, chances are you need an advanced understanding of statistics. Complete your mastery in this course, part 3 of our Statistics Fundamentals series. Eddie Davila covers concepts such as small sample sizes, t-distribution, degrees of freedom, chi-square testing, and more. This advanced skills training moves learners into the practical study and application of experimental design, analysis of variance, population comparison, and regression analysis. Use these lessons to go beyond the basics and dive deeper into the specific factors that influence your own calculations and results.\n",
    "Topics include:\n",
    "\n",
    "- Working with small sample sizes\n",
    "- Using t-statistic vs. z-statistic\n",
    "- Calculating confidence intervals with t-scores\n",
    "- Comparing two populations (proportions)\n",
    "- Comparing two population means\n",
    "- Chi-square testing\n",
    "- ANOVA testing\n",
    "- Regression testing"
   ]
  },
  {
   "cell_type": "markdown",
   "metadata": {},
   "source": [
    "### SurveyMonkey Essential Training, Lynda.com, September, 2017\n",
    "Certificate: https://drive.google.com/open?id=0B4COB52qGHUNVWpWcUJiYVIwMmM \n",
    "\n",
    "SurveyMonkey is a hugely popular survey platform that you can use for free, or with additional tools that you can purchase. In this course, discover how to generate surveys on SurveyMonkey. Instructor David Rivers begins by outlining how SurveyMonkey works, and how online surveys can help your business. Next, he walks through the steps of creating an online survey, explaining how to choose a template, add questions, and customize your design. He also offers tips that can help to improve response rates. Then, David explains how to collect survey results, including choosing a collection method, using the Email Invitation Collector, and collecting responses via LinkedIn and other websites. Finally, David covers how to analyze your survey results by viewing individual responses, exploring question summaries, and exporting your question data. He also shows how to share your data with colleagues.\n",
    "Topics include:\n",
    "\n",
    "- Building a business case for online surveys\n",
    "- Creating a new survey\n",
    "- Building an online survey\n",
    "- Editing and reordering questions\n",
    "- Customizing the design of a survey\n",
    "- Choosing a collection method\n",
    "- Collecting and analyzing survey results\n",
    "- Filtering and customizing results\n",
    "- Sharing results"
   ]
  },
  {
   "cell_type": "markdown",
   "metadata": {},
   "source": [
    "### The Data Science of Marketing, Lynda.com, September, 2017\n",
    "Certificate: https://drive.google.com/open?id=0B4COB52qGHUNOTdYbmVRbUNwTDQ \n",
    "\n",
    "Marketing is changing right in front of our eyes, and that transformation is being led by data. Modern marketers have to understand data and analysis like never before, and be able to work with data scientists in multidisciplinary settings. Similarly, professionals with data science training need to learn how to maximize their contributions when working with marketing and sales specialists.\n",
    "\n",
    "In this course, discover how to gain valuable insights from large data sets using specific languages and tools. Follow Chris DallaVilla as he walks through how to use R, Python, and Tableau to perform data modeling and assess performance. As Chris dives into these concepts, he shares specific case studies that come directly from his own work with clients. Plus, he shares three essential—and practical—best practices for data-driven marketing that you can use to bolster your organization's marketing performance.\n",
    "Topics include:\n",
    "\n",
    "- Installing R, Python, and Tableau\n",
    "- Navigating the UI for R, Python, and Tableau\n",
    "- Using R, Python, and Tableau\n",
    "- Exploratory analysis\n",
    "- Performing regression analysis\n",
    "- Performing a cluster analysis\n",
    "- Performing a conjoint assessment\n",
    "- Stakeholder alignment"
   ]
  },
  {
   "cell_type": "markdown",
   "metadata": {},
   "source": [
    "### The Data Science of Media and Entertainment with Barton Poulson, Lynda.com, September, 2017\n",
    "Certificate: https://drive.google.com/open?id=0B4COB52qGHUNZnVkUE8zZ3FJbm8 \n",
    "\n",
    "Music, theater, dance, and film may not seem like data-driven businesses, but they can benefit from data science just as much as ecommerce or finance. Join data science professor, researcher, and consultant Barton Poulson as he explores the fascinating ways in which the media and entertainment industries around us are affected—and have been substantially changed—by ubiquitous data and the science of data and analytics.\n",
    "\n",
    "This course is a nontechnical overview that helps creative organizations use the principles of data science in practical ways. It's required viewing for those working in media, but is also appealing to anyone interested in how technology affects the world around us. Learn how to use data science to assess your target audience, optimize pricing and scheduling for events and digital products, identify piracy, protect your intellectual property, reward employees, and maximize your ROI. Incorporating some simple analytics can lead to broader audiences and richer experiences for your next creative endeavor.\n",
    "Topics include:\n",
    "\n",
    "- Assessing the audience for performing art and live digital media\n",
    "- Optimizing prices for products and performances\n",
    "- Splitting limited time, money, and staffing among different outreach and sales efforts\n",
    "- Honoring the requirements of government grants and private donors\n",
    "- Maximizing the social nature of live events like concerts and performances\n",
    "- Using competitive and predictive analytics to schedule performances for greatest audience reach and potential revenue\n",
    "- Understanding how data science can identify piracy and reduce lost revenue\n",
    "- Incentivizing and rewarding staff and performers without incurring additional costs\n",
    "\n",
    " "
   ]
  },
  {
   "cell_type": "markdown",
   "metadata": {},
   "source": [
    "### The Essential Elements of Predictive Analytics and Data Mining, Lynda.com, September, 2017\n",
    "Certificate: https://drive.google.com/open?id=0B4COB52qGHUNMDlfMVBxM0c0RFk \n",
    "\n",
    "A proper predictive analytics and data-mining project can involve many people and many weeks. There are also many potential errors to avoid. A \"big picture\" perspective is necessary to keep the project on track. This course provides that perspective through the lens of a veteran practitioner who has completed dozens of real-world projects. Keith McCormick is an independent data miner and author who specializes in predictive models and segmentation analysis, including classification trees, cluster analysis, and association rules. Here he shares his knowledge with you. Walk through each step of a typical project, from defining the problem and gathering the data and resources, to putting the solution into practice. Keith also provides an overview of CRISP-DM (the de facto data-mining methodology) and the nine laws of data mining, which will keep you focused on strategy and business value.\n",
    "Topics include:\n",
    "\n",
    "- What makes a successful predictive analytics project?\n",
    "- Defining the problem\n",
    "- Selecting the data\n",
    "- Acquiring resources: team, budget, and SMEs\n",
    "- Dealing with missing data\n",
    "- Finding the solution\n",
    "- Putting the solution to work\n",
    "- Overview of CRISP-DM"
   ]
  },
  {
   "cell_type": "markdown",
   "metadata": {},
   "source": [
    "### Urbanized, Lynda.com, September, 2017\n",
    "Certificate: https://drive.google.com/open?id=0B4COB52qGHUNYjQ5RkNnWmg3VVk \n",
    "\n",
    "\n",
    "\n",
    "Urbanized, a documentary about the design of cities, looks at the issues and strategies behind urban design and features some of the world's foremost architects, planners, policy makers, builders, and thinkers. It considers the questions: Who shapes our cities, and how do they do it? \n",
    "\n",
    "Unlike many other fields of design, cities aren't created by any one specialist or expert. There are many contributors to urban change, including ordinary citizens who can have a great impact on improving the cities in which they live. By exploring a diverse range of urban design projects around the world, Urbanized frames a global discussion on the future of cities.\n",
    "\n",
    "lynda.com is proud to offer this film to our members, along with over one hour of bonus content. Make sure to check out the Extras chapter for these online-exclusive movies."
   ]
  },
  {
   "cell_type": "markdown",
   "metadata": {},
   "source": [
    "## August, 2017"
   ]
  },
  {
   "cell_type": "markdown",
   "metadata": {},
   "source": [
    "### Google Analytics Essential Training, Lynda.com, August, 2017\n",
    "Certificate: https://drive.google.com/open?id=0B4COB52qGHUNeS0yWDJ3ai1UNUk \n",
    "\n",
    "Whether you're managing a website for a large corporation or a small business, Google Analytics—the industry standard for web analytics—can help you find out how your website is performing. This powerful platform provides you with the tools you need to measure site traffic, conversions, and ad performance, and understand how people use your website.\n",
    "\n",
    "In this course, Brad Batesole explains how to get set up in Google Analytics and glean insights from each of the reports. He covers the out-of-the-box functionality—from account creation to reporting fundamentals—and explains how to interpret your results, create and track goals, and use options like dimensions and segments for deeper insights. Each tutorial is practical and succinct, touching on the features you'll use most in your day-to-day analytics workflow.\n",
    "Topics include:\n",
    "\n",
    "- Setting up an account\n",
    "- Installing tracking tags\n",
    "- Understanding reports\n",
    "- Using the data table\n",
    "- Using annotations\n",
    "- Utilizing segmentation for deeper analysis\n",
    "- Viewing shared content and referrals with social reports\n",
    "- Tracking engagement with behavior reports\n",
    "- Using Site Content reports\n",
    "- Reviewing site speed\n",
    "- Adding custom campaign tracking"
   ]
  },
  {
   "cell_type": "markdown",
   "metadata": {},
   "source": [
    "### Insights on Data Science: Lillian Pierson, Lynda.com, August, 2017\n",
    "Certificate: https://drive.google.com/open?id=0B4COB52qGHUNc0pld1hGMGtpdEU \n",
    "\n",
    "Data science is a rapidly expanding field offering a wealth of possibilities for viewing the world around us through a more accurate lens. But for many of those whose imagination is sparked by big data—but who have already started pursuing a career in another field—the dream of becoming a data scientist can feel far-fetched. Lillian Pierson, P.E.—a leading expert in the field of big data and data science—aims to prove that notion wrong. In this course, she shares observations and tips to help you embark on a career in this exciting field, regardless of your starting point.\n",
    "\n",
    "Lillian began her career not as a data scientist, but as an environmental engineer. Here, she shares her story, discussing how she taught herself to code in Python and R, and work with data science methodologies. As a result of her own experiences, Lillian is passionate about helping those interested in data science—but who may lack a four-year degree in the discipline—get started in the field. She shares practical ways to acquire the skills and experience needed to become a data scientist, and best practices for landing a job. Lillian also dives into grappling with the challenges that occur in rapidly evolving tech workforces. Plus, she discusses the industry itself, covering recent changes in the field and areas of need, and clearing up a few common misconceptions.\n",
    "Topics include:\n",
    "\n",
    "- Practical ways to acquire data science skills and experience\n",
    "- Which courses should you take to become a data scientist?\n",
    "- What challenges should people be prepared to encounter?\n",
    "- Best practices for landing a job in data science\n",
    "- Common misconceptions\n",
    "- What key personality traits are common among successful data scientists?\n",
    "- How has the industry changed in recent years?\n",
    "- Practical advice for minorities and women pursuing a career in data science"
   ]
  },
  {
   "cell_type": "markdown",
   "metadata": {},
   "source": [
    "### Learning Data Science: Ask Great Questions, Lynda.com, August, 2017\n",
    "Certificate: https://drive.google.com/open?id=0B4COB52qGHUNZE9ILUVIU2t5eVk \n",
    "\n",
    "Great data science discoveries are often traced back to someone asking a critical question. That's why it's important for your team to use critical thinking to come up with astute, meaningful questions that add real value. A well-crafted question can prevent your team from getting sidetracked on bad assumptions and false conclusions. In this course, author Doug Rose explores the key components of critical reasoning and how to pan for gold in streams of data to search for new questions. You'll learn how to work together as a team to run question meetings, organize important ideas into question trees, and generate quality questions by clarifying key terms, challenging evidence, uncovering misleading statistics, and more.\n",
    "Topics include:\n",
    "\n",
    "- Harnessing the power of questions\n",
    "- Testing your reasoning\n",
    "- Identifying question types\n",
    "- Organizing questions\n",
    "- Rooting out assumptions\n",
    "- Finding errors\n",
    "- Highlighting missing data\n",
    "- Overcoming question bias"
   ]
  },
  {
   "cell_type": "markdown",
   "metadata": {},
   "source": [
    "### Learning Data Science: Tell Stories With Data, Lynda.com, August, 2017\n",
    "Certificate:https://drive.google.com/open?id=0B4COB52qGHUNU0t0ekhtMzhqUUE \n",
    "\n",
    "Many anthropologists believe our early ancestors built societies around campfire stories about justice, leadership, and government. Your data science teams will also have complex ideas about their data and results. That's why it takes a well-structured story to communicate these insights to the rest of your organization. It's not simply a matter of creating the perfect Excel sheet or a beautiful graph. You need to tell a story that captures your audience's imagination and encourages them to take some action. In this course, instructor Doug Rose explains how to weave together a great data science story and draw your audience into the story to communicate complex ideas and motivate everyone to make real changes.\n",
    "Topics include:\n",
    "\n",
    "- Structuring a data science story\n",
    "- Defining plot, conflict, and details\n",
    "- Going beyond reporting\n",
    "- Knowing your audience\n",
    "- Working with data\n",
    "- Introducing visuals\n",
    "- Eliminating distractions\n",
    "- Incorporating metaphors\n",
    "- Motivating the audience\n",
    "- Avoiding pitfalls"
   ]
  },
  {
   "cell_type": "markdown",
   "metadata": {},
   "source": [
    "### Learning Data Science: Using Agile Methodology, Lynda.com, August, 2017\n",
    "Certificate: https://drive.google.com/open?id=0B4COB52qGHUNUzdfOXRFNDZnYjA \n",
    "\n",
    "A data science team asks great questions, explores the data, and delivers key insights. But at the end of the day your team needs to add real business value. Even the best data science teams won't last long in your organization if they can't generate revenue or lower expenses. The best way to generate business value is to deliver a constant stream of key insights in short two-week sprints. These short sprints give you real-time feedback to help keep your team on track. A short sprint will also help your team pivot so they can ask new questions based on what they learn from the data.\n",
    "\n",
    "This course shows how to structure your work within a two-week sprint. See how to work within a data science life cycle (DSLC)—a methodology for cycling through questions, research, and reporting every two weeks. Explore key practices to help your team break down the work so it fits within a two-week sprint. Learn how to use tools like question boards to encourage discussion and find essential questions. And most importantly, learn how to grow your team's shared knowledge and avoid common pitfalls.\n",
    "Topics include:\n",
    "\n",
    "- Defining data science success\n",
    "- Determining project challenges and criteria for success\n",
    "- Using a DSLC\n",
    "- Iterating through DSLC sprints\n",
    "- Creating a question board\n",
    "- Breaking down your work\n",
    "- Adding to organizational knowledge\n",
    "- Avoiding pitfalls"
   ]
  },
  {
   "cell_type": "markdown",
   "metadata": {},
   "source": [
    "### Learning Python, Lynda.com, August, 2017\n",
    "Certificate: https://drive.google.com/open?id=0B4COB52qGHUNQ3hXUjhKSzM5U0k  \n",
    "\n",
    "Get a quick intro to Python, the popular and highly readable object-oriented language. Joe Marini provides an overview of the installation process, basic Python syntax, and an example of how to construct and run a simple Python program. Learn to work with dates and times, read and write files, and retrieve and parse HTML, JSON, and XML data from the web.\n",
    "Topics include:\n",
    "\n",
    "- Installing Python\n",
    "- Choosing an editor/IDE\n",
    "- Working with variables and expressions\n",
    "- Writing loops\n",
    "- Using the date, time, and datetime classes\n",
    "- Reading and writing files\n",
    "- Fetching Internet data\n",
    "- Parsing and processing HTML"
   ]
  },
  {
   "cell_type": "markdown",
   "metadata": {},
   "source": [
    "### Learning Python for Data Science with Tim Fox and Elephant Scale, Lynda.com, August, 2017\n",
    "Certificate: https://drive.google.com/open?id=0B4COB52qGHUNanRydlpiWjkzYVE   \n",
    "\n",
    "This course shows how to review and derive information from datasets using Python. First, get an overview of data science and how it open source libraries like Python can be used for your data analysis need. Then, discover how to set up labs and data interpreters. Next, learn about how you can use pandas, NumPy, and SciPy for numerical processing, scientific programming, and extensive data exploration. With these options at your disposal, you'll be ready for the following chapter which focuses on making predictions using machine learning tools, data classifiers, and clusters. The course concludes with a look at big data and how PySpark can be used for computing.\n",
    "Topics include:\n",
    "\n",
    "- Configuring your system\n",
    "- Setting up labs\n",
    "- Using pandas, NumPy, and SciPy\n",
    "- Building a classifier\n",
    "- Clustering data\n",
    "- Working with big data and PySpark\n",
    "- Using MLlib\n",
    "- Beginning with Spark"
   ]
  },
  {
   "cell_type": "markdown",
   "metadata": {},
   "source": [
    "### Learning R, Lynda.com, August, 2017\n",
    "Certificate: https://drive.google.com/open?id=0B4COB52qGHUNbVprVlZCX0hkNTQ  \n",
    "\n",
    "Join author Barton Poulson as he introduces the R statistical processing language, including how to install R on your computer, read data from SPSS and spreadsheets, and use packages for advanced R functions.\n",
    "\n",
    "The course continues with examples on how to create charts and plots, check statistical assumptions and the reliability of your data, look for data outliers, and use other data analysis tools. Finally, learn how to get charts and tables out of R and share your results with presentations and web pages.\n",
    "Topics include:\n",
    "\n",
    "- What is R?\n",
    "- Installing R\n",
    "- Creating bar character for categorical variables\n",
    "- Building histograms\n",
    "- Calculating frequencies and descriptives\n",
    "- Computing new variables\n",
    "- Creating scatterplots\n",
    "- Comparing means"
   ]
  },
  {
   "cell_type": "markdown",
   "metadata": {},
   "source": [
    "### Quality Standards in Customer Service, Lynda.com, August, 2017\n",
    "Certificate: https://drive.google.com/open?id=0B4COB52qGHUNTXFMbkd3cWFsLXM    \n",
    "\n",
    "\"Customer service\" can mean many different things, but there are unifying principles across all customer-facing operations. Whether yours is a contact center, face-to-face retail, social media group handling service issues, or other type of organization, this course provides the practical know-how, real-life examples, and the direction you need to get the most out of your quality initiatives.\n",
    "\n",
    "Watch and learn how to establish quality standards in customer service, and improve loyalty, revenue, customer satisfaction, and employee engagement. Brad Cleveland divides the lessons into three chapters, covering quality and customer service definitions, quality standards for individuals, and quality standards for the overall organization. Along the way, he shows how to implement a process, measure progress, and effectively coach employees.\n",
    "Topics include:\n",
    "\n",
    "- Defining quality\n",
    "- Ensuring standards count\n",
    "- Measuring individual performance\n",
    "- Coaching customer service professionals\n",
    "- Creating quality standards for the service organization"
   ]
  },
  {
   "cell_type": "markdown",
   "metadata": {},
   "source": [
    "### R Statistics Essential Training, Lynda.com, August, 2017\n",
    "Certificate: https://drive.google.com/open?id=0B4COB52qGHUNTzlFcjB3MUNndnc \n",
    "\n",
    "R is the language of big data—a statistical programming language that helps describe, mine, and test relationships between large amounts of data. Author Barton Poulson shows how to use R to model statistical relationships using graphs, calculations, tests, and other analysis tools. Learn how to enter and modify data; create charts, scatter plots, and histograms; examine outliers; calculate correlations; and compute regressions, bivariate associations, and statistics for three or more variables. Challenge exercises with step-by-step solutions allow you to test your skills as you progress.\n",
    "Topics include:\n",
    "\n",
    "- Installing R on your computer\n",
    "- Using the built-in datasets\n",
    "- Importing data\n",
    "- Creating bar and pie charts for categorical variables\n",
    "- Creating histograms and box plots for quantitative variables\n",
    "- Calculating frequencies and descriptives\n",
    "- Transforming variables\n",
    "- Coding missing data\n",
    "- Analyzing by subgroups\n",
    "- Creating charts for associations\n",
    "- Calculating correlations\n",
    "- Creating charts and statistics for three or more variables\n",
    "- Creating crosstabs for categorical variables"
   ]
  },
  {
   "cell_type": "markdown",
   "metadata": {},
   "source": [
    "## July, 2017"
   ]
  },
  {
   "cell_type": "markdown",
   "metadata": {},
   "source": [
    "### PSM I (Professional Scrum Master I), Scrum.org, July, 2017\n",
    "Certificate: https://drive.google.com/open?id=0B4COB52qGHUNQ043LUxtQTJRb2M "
   ]
  }
 ],
 "metadata": {
  "kernelspec": {
   "display_name": "Python 3.6",
   "language": "python",
   "name": "python36"
  },
  "language_info": {
   "codemirror_mode": {
    "name": "ipython",
    "version": 3
   },
   "file_extension": ".py",
   "mimetype": "text/x-python",
   "name": "python",
   "nbconvert_exporter": "python",
   "pygments_lexer": "ipython3",
   "version": "3.6.3"
  }
 },
 "nbformat": 4,
 "nbformat_minor": 2
}
