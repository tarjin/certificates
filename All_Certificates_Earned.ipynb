{
 "cells": [
  {
   "cell_type": "markdown",
   "metadata": {},
   "source": [
    "# Certifications Earned Since July, 2017\n",
    "\n",
    "Below is a barplot illustrating my lifelong learning habits, meaured by acquiring certifications. \n",
    "The code generating the plot is written in Python."
   ]
  },
  {
   "cell_type": "code",
   "execution_count": 1,
   "metadata": {
    "scrolled": true
   },
   "outputs": [
    {
     "data": {
      "text/plain": [
       "Text(0.5,0,'Count')"
      ]
     },
     "execution_count": 1,
     "metadata": {},
     "output_type": "execute_result"
    },
    {
     "data": {
      "image/png": "[encoded data removed]",
      "text/plain": [
       "<matplotlib.figure.Figure at 0x7f5e01675da0>"
      ]
     },
     "metadata": {},
     "output_type": "display_data"
    }
   ],
   "source": [
    "import pandas as pd\n",
    "import matplotlib.pyplot as plt\n",
    "%matplotlib inline\n",
    "import seaborn as sns\n",
    "\n",
    "URL = 'https://raw.githubusercontent.com/tarjin/certificates/master/Certificates.csv'\n",
    "\n",
    "df = pd.read_csv(URL)\n",
    "\n",
    "plt.rcParams['figure.figsize']=(8,5)\n",
    "plt.figure()\n",
    "sns.set(font_scale=1.25)\n",
    "ax = sns.barplot(y=\"Month/Year\", x=\"Total Count\", data=df, palette=\"Blues_d\")\n",
    "ax.set_title('Total Certificates Earned Since July, 2017')\n",
    "plt.ylabel(' ')\n",
    "plt.xlabel('Count')\n"
   ]
  },
  {
   "cell_type": "markdown",
   "metadata": {
    "collapsed": true
   },
   "source": [
    "# Lifelong Learning: Earned Certificates & Course Descriptions"
   ]
  },
  {
   "cell_type": "markdown",
   "metadata": {},
   "source": [
    "## March, 2018"
   ]
  },
  {
   "cell_type": "markdown",
   "metadata": {},
   "source": [
    "### Exploratory Data Analysis in R: Case Study, DataCamp.com, March, 2018\n",
    "Certificate: https://drive.google.com/open?id=1wr4yBp6YsSS8N_91ARmtrzT-S-S9aIEx\n",
    "\n",
    "Once you've started learning tools for data manipulation and visualization like dplyr and ggplot2, this course gives you a chance to use them in action on a real dataset. You'll explore the historical voting of the United Nations General Assembly, including analyzing differences in voting between countries, across time, and among international issues. In the process you'll gain more practice with the dplyr and ggplot2 packages, learn about the broom package for tidying model output, and experience the kind of start-to-finish exploratory analysis common in data science."
   ]
  },
  {
   "cell_type": "markdown",
   "metadata": {},
   "source": [
    "## February, 2018"
   ]
  },
  {
   "cell_type": "markdown",
   "metadata": {},
   "source": [
    "### Cleaning Data in R, DataCamp.com, February, 2018\n",
    "Certificate: https://drive.google.com/open?id=1YM_LBCgzo34cSxYPcVxX8Jheez7fAwcm\n",
    "\n",
    "It's commonly said that data scientists spend 80% of their time cleaning and manipulating data and only 20% of their time actually analyzing it. For this reason, it is critical to become familiar with the data cleaning process and all of the tools available to you along the way. This course provides a very basic introduction to cleaning data in R using the tidyr, dplyr, and stringr packages. After taking the course you'll be able to go from raw data to awesome insights as quickly and painlessly as possible!"
   ]
  },
  {
   "cell_type": "markdown",
   "metadata": {},
   "source": [
    "### Correlation and Regression, DataCamp.com, February, 2018\n",
    "Certificate: https://drive.google.com/open?id=152AESU2vjLXFhbPAZR-RgryFGpx7nVGx\n",
    "\n",
    "Ultimately, data analysis is about understanding relationships among variables. Exploring data with multiple variables requires new, more complex tools, but enables a richer set of comparisons. In this course, you will learn how to describe relationships between two numerical quantities. You will characterize these relationships graphically, in the form of summary statistics, and through simple linear regression models."
   ]
  },
  {
   "cell_type": "markdown",
   "metadata": {},
   "source": [
    "### Data Manipulation in R with dplyr, DataCamp.com, February, 2018\n",
    "Certificate: https://drive.google.com/open?id=18CQV8PXJy6vv8iDP9qe8lfdWy-M9NAwo\n",
    "\n",
    "In this interactive tutorial, you will learn how to perform sophisticated dplyr techniques to carry out your data manipulation with R. First you will master the five verbs of R data manipulation with dplyr: select, mutate, filter, arrange and summarise. Next, you will learn how you can chain your dplyr operations using the pipe operator of the magrittr package. In the final section, the focus is on practicing how to subset your data using the group_by function, and how you can access data stored outside of R in a database. All said and done, you will be familiar with data manipulation tools and techniques that will allow you to efficiently manipulate data."
   ]
  },
  {
   "cell_type": "markdown",
   "metadata": {},
   "source": [
    "### Exploratory Data Analysis, DataCamp.com, February, 2018\n",
    "Certificate: https://drive.google.com/open?id=1vw0RgNRCK_lWl6y0m1tvdMdNUUwAdAnL\n",
    "\n",
    "When your dataset is represented as a table or a database, it's difficult to observe much about it beyond its size and the types of variables it contains. In this course, you'll learn how to use graphical and numerical techniques to begin uncovering the structure of your data. Which variables suggest interesting relationships? Which observations are unusual? By the end of the course, you'll be able to answer these questions and more, while generating graphics that are both insightful and beautiful."
   ]
  },
  {
   "cell_type": "markdown",
   "metadata": {},
   "source": [
    "### Foundations of Inference, DataCamp.com, February, 2018\n",
    "Certificate: https://drive.google.com/open?id=1_hnEh6AHhEMmZgZgwmvn4EuYp5UBxIW4\n",
    "\n",
    "One of the foundational aspects of statistical analysis is inference, or the process of drawing conclusions about a larger population from a sample of data. Although counter intuitive, the standard practice is to attempt to disprove a research claim that is not of interest. For example, to show that one medical treatment is better than another, we can assume that the two treatments lead to equal survival rates only to then be disproved by the data. Additionally, we introduce the idea of a p-value, or the degree of disagreement between the data and the hypothesis. We also dive into confidence intervals, which measure the magnitude of the effect of interest (e.g. how much better one treatment is than another)."
   ]
  },
  {
   "cell_type": "markdown",
   "metadata": {},
   "source": [
    "### Importing & Cleaning Data in R: Case Studies, DataCamp.com, February, 2018\n",
    "Certificate: https://drive.google.com/open?id=1nfPgZ_N0aS1axfbzRxx9euk0iq1im9Xj\n",
    "\n",
    "Running exciting analyses on interesting datasets is the dream of every data scientist. But first, some importing and cleaning must be done. In this series of four case studies, you'll revisit key concepts from our courses on importing and cleaning data in R."
   ]
  },
  {
   "cell_type": "markdown",
   "metadata": {},
   "source": [
    "### Importing Data in R (Part 1), DataCamp.com, February, 2018\n",
    "Certificate: https://drive.google.com/open?id=1XjxcC8yfWm516ekbg-ymoITAuotFmN4X\n",
    "\n",
    "Importing data into R to start your analyses—it should be the easiest step. Unfortunately, this is almost never the case. Data come in all sorts of formats, ranging from CSV and text files and statistical software files to databases and HTML data. Knowing which approach to use is key to getting started with the actual analysis.\n",
    "\n",
    "In this course, you will get started with learning how to read CSV and text files in R. You will then cover the readr and data.table packages to easily and efficiently import flat file data. After that you will learn how to read XLS files in R using readxl and gdata."
   ]
  },
  {
   "cell_type": "markdown",
   "metadata": {},
   "source": [
    "### Importing Data in R (Part 2), DataCamp.com, February, 2018\n",
    "Certificate: https://drive.google.com/open?id=1dt-HcHMaFroPBfgjp2lC8ITAYpf6q-2z\n",
    "\n",
    "In this second part to Importing Data in R, you will take a deeper dive into the wide range of data formats out there. More specifically, you'll learn how to import data from relational databases and how to import and work with data coming from the web. Finally, you'll get hands-on experience with importing data from statistical software packages such SAS, STATA and SPSS."
   ]
  },
  {
   "cell_type": "markdown",
   "metadata": {},
   "source": [
    "### Importing & Cleaning Data in R Track, DataCamp.com, February, 2018\n",
    "Certificate: https://drive.google.com/open?id=1M-poYAVbpLCS3zlncYKLPZ4aysb8TMZI\n",
    "\n",
    "Learn how to parse data in any format. Whether it's flat files, statistical software, databases, or web data, you'll learn to handle it all. https://www.datacamp.com/tracks/importing-cleaning-data-with-r"
   ]
  },
  {
   "cell_type": "markdown",
   "metadata": {},
   "source": [
    "### Intermediate R, DataCamp.com, February, 2018\n",
    "Certificate: https://drive.google.com/open?id=1_onq1epfdY8eIoaxoqE5tfMVU1qguSwr\n",
    "\n",
    "The intermediate R course is the logical next stop on your journey in the R programming language. In this R training you will learn about conditional statements, loops and functions to power your own R scripts. Next, you can make your R code more efficient and readable using the apply functions. Finally, the utilities chapter gets you up to speed with regular expressions in the R programming language, data structure manipulations and times and dates. This R tutorial will allow you to learn R and take the next step in advancing your overall knowledge and capabilities while programming in R."
   ]
  },
  {
   "cell_type": "markdown",
   "metadata": {},
   "source": [
    "### Introduction to Data, DataCamp.com, February, 2018\n",
    "Certificate: https://drive.google.com/open?id=1JjilLTof_yauPucJpOi-u30o2E8odRc7\n",
    "\n",
    "Scientists seek to answer questions using rigorous methods and careful observations. These observations—collected from the likes of field notes, surveys, and experiments—form the backbone of a statistical investigation and are called data. Statistics is the study of how best to collect, analyze, and draw conclusions from data. It is helpful to put statistics in the context of a general process of investigation: 1) identify a question or problem; 2) collect relevant data on the topic; 3) analyze the data; and 4) form a conclusion. In this course, you'll focus on the first two steps of the process."
   ]
  },
  {
   "cell_type": "markdown",
   "metadata": {},
   "source": [
    "### Introduction to the Tidyverse, DataCamp.com, February, 2018\n",
    "Certificate: https://drive.google.com/open?id=16nM9477y3PEsFZ_AHtCPMSvJlR5dtg9j\n",
    "\n",
    "This is an introduction to the programming language R, focused on a powerful set of tools known as the \"tidyverse\". In the course you'll learn the intertwined processes of data manipulation and visualization through the tools dplyr and ggplot2. You'll learn to manipulate data by filtering, sorting and summarizing a real dataset of historical country data in order to answer exploratory questions. You'll then learn to turn this processed data into informative line plots, bar plots, histograms, and more with the ggplot2 package. This gives a taste both of the value of exploratory data analysis and the power of tidyverse tools. This is a suitable introduction for people who have no previous experience in R and are interested in learning to perform data analysis."
   ]
  },
  {
   "cell_type": "markdown",
   "metadata": {},
   "source": [
    "### Multiple and Logistic Regression, DataCamp.com, February, 2018\n",
    "Certificate: https://drive.google.com/open?id=1oGGTBi3E--YgvyOCgsqkdxc1n1NG0NvP\n",
    "\n",
    "In this course you'll take your skills with simple linear regression to the next level. By learning multiple and logistic regression techniques you will gain the skills to model and predict both numeric and categorical outcomes using multiple input variables. You'll also learn how to fit, visualize, and interpret these models. Then you'll apply your skills to learn about Italian restaurants in New York City!"
   ]
  },
  {
   "cell_type": "markdown",
   "metadata": {},
   "source": [
    "### Statistics with R Track, DataCamp.com, February, 2018\n",
    "Certificate: https://drive.google.com/open?id=17_Duojr3QqyDSCfVc5WY8hi3L_eR2lXr\n",
    "\n",
    "Learn key statistical concepts and techniques like exploratory data analysis, correlation, regression, and inference. https://www.datacamp.com/tracks/statistics-with-r"
   ]
  },
  {
   "cell_type": "markdown",
   "metadata": {},
   "source": [
    "### Working with Geospatial Data in R, DataCamp.com, February, 2018\n",
    "Certificate: https://drive.google.com/open?id=1esH2HINyoX19loV29LBjU6KZZgazAeoV\n",
    "\n",
    "Where should you buy a house to get the most value for your money? Your first step might be to make a map, but spatial analysis in R can be intimidating because of the complicated objects the data often live in.\n",
    "\n",
    "This course will introduce you to spatial data by starting with objects you already know about, data frames, before introducing you to the special objects from the sp and raster packages used to represent spatial data for analysis in R. You'll learn to read, explore, and manipulate these objects with the big payoff of being able to use the tmap package to make maps.\n",
    "\n",
    "By the end of the course you will have made maps of property sales in a small town, populations of the countries of the world, the distribution of people in the North East of the USA, and median income in the neighborhoods of New York City."
   ]
  },
  {
   "cell_type": "markdown",
   "metadata": {},
   "source": [
    "## January, 2018"
   ]
  },
  {
   "cell_type": "markdown",
   "metadata": {},
   "source": [
    "### Amazon Web Services Essential Training, Lynda.com, January, 2018\n",
    "Certificate: https://drive.google.com/open?id=13sDvHXSg0EHQ6WFLPIWoqTyYDIcSH7Zy \n",
    "\n",
    "Amazon Web Services (AWS) is one of the most widely used cloud platforms, and the go-to for many organizations looking to reduce costs by adopting a cloud infrastructure strategy. This course starts by examining cloud concepts and best practices. Next, it walks you through how to design your infrastructure to prevent failure. Then, you'll discover how to implement elasticity with automation, and strategies to decouple application components. Then, learn how to optimize for performance and for cost. Last, put concepts into practice by setting up the server-based architectures for a web application in addition to implementing a serverless approach using AWS API Gateway and Lambda.\n",
    "\n",
    "Topics include:\n",
    "\n",
    "- Benefits of cloud services\n",
    "- Making architectures scalable\n",
    "- Examining cloud constraints\n",
    "- Virtual servers, EC2, and Elastic IP\n",
    "- Using the Amazon machine image\n",
    "- Elastic load balancing\n",
    "- Using CloudWatch for monitoring\n",
    "- Security Models\n",
    "- Elastic block storage\n",
    "- S3, CloudFront, and Elastic Beanstalk\n",
    "- Handling queues, workflows, and notifications\n",
    "- Caching options and services\n",
    "- Identity and access management\n",
    "- Creating a custom server image\n",
    "- Application deployment strategies\n",
    "- Serverless architectures\n"
   ]
  },
  {
   "cell_type": "markdown",
   "metadata": {},
   "source": [
    "### Amazon Web Services: Data Services, Lynda.com, January, 2018\n",
    "Certificate: https://drive.google.com/open?id=1UymcqwIFHjz_FhbwYRm-5vSpku_fxARp\n",
    "\n",
    "Why use Amazon Web Services for data storage? AWS provides big data at a small cost, offering one of the most full-featured and scalable data solutions around. Start here to explore your storage and framework options when working with data services on the Amazon cloud. Your guide, Lynn Langit, a working big data architect, helps you parse through the storage of files, relational data, semistructured data (in NoSQL), data warehousing, graph databases, and Hadoop. Plus, discover how these solutions translate to real-world scenarios involving businesses of different sizes and needs, including startups and enterprise clients.\n",
    "\n",
    "Topics include:\n",
    "\n",
    "- Why cloud tools matter\n",
    "- Storage choices on AWS\n",
    "- RDBMSs such as Core RDS, Aurora, and Oracle\n",
    "- Working with semistructured data in NoSQL\n",
    "- Connecting to data warehouses such as AWS Redshift and Snowflake\n",
    "- Graph databases and AWS Machine Learning\n",
    "- Working with Hadoop\n",
    "- Common data scenarios and architectures\n"
   ]
  },
  {
   "cell_type": "markdown",
   "metadata": {},
   "source": [
    "### Amazon Web Services: Deploying and Provisioning, Lynda.com, January, 2018\n",
    "Certificate: https://drive.google.com/open?id=1_o4R5FAr3vkaEVkMQso-kb0loKPW4ZjN\n",
    "\n",
    "AWS is an exciting proposition for DevOps. Yes, it's amazing to be able to build a virtual data center with ease, but that is just the beginning: wait until you start using AWS to deploy software. Watch this course to learn how to use AWS tools to provision hosts and deploy apps that take advantage of its elastic, cost-effective, and scalable infrastructure. IT architect and instructor Brandon Rich shows how to start up new computing resources with EC2, provision them, and deploy applications in a fast, automated, and consistent way. Discover how to manage infrastructure as code with CloudFormation, rapidly build an app stack with Elastic Beanstalk, perform provisioning and deployment with OpsWorks, and automate code pushes with CodeDeploy. These lessons help you do more with AWS than you might have ever thought possible on the cloud.\n",
    "\n",
    "This course is also part of a series designed to help you prepare for the AWS Certified SysOps Administrator – Associate certification exam.\n",
    "\n",
    "Topics include:\n",
    "\n",
    "- Understanding AWS EC2\n",
    "- Creating an EC2 instance\n",
    "- Provisioning with CloudFormation\n",
    "- Architecting apps for horizontal scaling\n",
    "- Creating an Elastic Beanstalk environment and app\n",
    "- Using OpsWorks\n",
    "- Deploying apps with CodeDeploy\n"
   ]
  },
  {
   "cell_type": "markdown",
   "metadata": {},
   "source": [
    "### Apache Spark Essential Training, Lynda.com, January, 2018\n",
    "Certificate: https://drive.google.com/open?id=1Obu9SQZcSdt8E1QgeBijDkD19QhcjEwi\n",
    "\n",
    "Apache Spark is a powerful platform that provides users with new ways to store and make use of big data. In this course, get up to speed with Spark, and discover how to leverage this popular processing engine to deliver effective and comprehensive insights into your data. Instructor Ben Sullins provides an overview of the platform, going into the different components that make up Apache Spark. He shows how to analyze data in Spark using PySpark and Spark SQL, explores running machine learning algorithms using MLib, demonstrates how to create a streaming analytics application using Spark Streaming, and more.\n",
    "\n",
    "Topics include:\n",
    "\n",
    "- Understanding Spark\n",
    "- Reviewing Spark components\n",
    "- Where Spark shines\n",
    "- Understanding data interfaces\n",
    "- Working with text files\n",
    "- Loading CSV data into DataFrames\n",
    "- Using Spark SQL to analyze data\n",
    "- Running machine learning algorithms using MLib\n",
    "- Querying streaming data\n",
    "- Connecting BI tools to Spark\n"
   ]
  },
  {
   "cell_type": "markdown",
   "metadata": {},
   "source": [
    "### IoT Foundations: Fundamentals, Lynda.com, January, 2018\n",
    "Certificate: https://drive.google.com/open?id=1v7vkvlaCWoAEo6TWeADGrdFSNEUBzxdF\n",
    "\n",
    "The Internet of Things (IoT) is more than just smart or connected devices. In this course, learn what IoT is, and how it works from a technical standpoint. Bruce Sinclair provides a broad overview of IoT, explaining each of its main components. He also goes into the software-defined product—the digital twin of the physical product—as well as the hardware-defined product, explaining how sensors and embedded systems help to gather data. Plus, he dives into the network fabric, and explains what external systems are and why it's important to consider them when designing an IoT product.\n",
    "\n",
    "Topics include:\n",
    "\n",
    "- IoT value modeling\n",
    "- The software-defined product\n",
    "- The hardware-defined product\n",
    "- Embedded systems\n",
    "- Connected sensors\n",
    "- The network fabric\n",
    "- OT IT and fog networks\n",
    "- Analytics and big data\n",
    "- Data services\n"
   ]
  },
  {
   "cell_type": "markdown",
   "metadata": {},
   "source": [
    "### IoT Foundations: Monetizing IoT, Lynda.com, January, 2018\n",
    "Certificate: https://drive.google.com/open?id=1PgLzYnymlzefZ6iZQWmMOPQlW5oXt_V8\n",
    "\n",
    "The Internet of Things (IoT) presents an array of fascinating possibilities—but is there money to be made? In this course, Bruce Sinclair discusses the business of IoT, and provides you with the vocabulary to talk about how to leverage this technology to make money. Bruce covers the four main ways of creating value with IoT, and explores various ways to monetize that value. He familiarizes you with the five main IoT business models on the IoT business model continuum: product, product service, service, service outcome, and outcome. Plus, he discusses how IoT can help you establish more meaningful relationships with your customers.\n",
    "\n",
    "Topics include:\n",
    "\n",
    "- Creating value with IoT\n",
    "- Value modeling\n",
    "- Operating products better\n",
    "- Monetizing value with IoT\n",
    "- Using IoT to become closer to the customer\n",
    "- Product business model\n",
    "- Increasing customer lifetime value\n"
   ]
  },
  {
   "cell_type": "markdown",
   "metadata": {},
   "source": [
    "### Learning Amazon Lightsail, Lynda.com, January, 2018\n",
    "Certificate: https://drive.google.com/open?id=1yafhicQLn-NF7TX8rzFevGwYA_qDjVGk\n",
    "\n",
    "Amazon Lightsail is a member of the Amazon Web Services (AWS) Compute family. It simplifies the process of deploying a virtual private server using preconfigured templates for a Linux distribution, application, or dev stack—including WordPress, Magento, and LAMP. This short course provides an overview of Lightsail to help you get up and running in this service. Sharif Nijim discusses how it compares with the AWS cloud platform, as well as the kinds of servers you can create in Lightsail, operational metrics for Lightsail servers, data protection, and how to connect Lightsail with AWS through VPC peering. Sharif wraps up the course by touching on advanced concepts, including APIs, SDKs, and the Lightsail CLI.\n",
    "\n",
    "Topics include:\n",
    "\n",
    "- WordPress on Lightsail\n",
    "- Connecting to WordPress\n",
    "- Lightsail metrics and networking\n",
    "- Lightsail snapshots\n",
    "- Lightsail VPC peering\n",
    "- DNS and advanced concepts\n"
   ]
  },
  {
   "cell_type": "markdown",
   "metadata": {},
   "source": [
    "### Learning Hadooop, Lynda.com, January, 2018\n",
    "Certificate: https://drive.google.com/open?id=1v_-IZx2BDXs5-pQazjOllaKJ2p3C3bNq\n",
    "\n",
    "Hadoop is indispensible when it comes to processing big data—as necessary to understanding your information as servers are to storing it. This course is your introduction to Hadoop, its file system (HDFS), its processing engine (MapReduce), and its many libraries and programming tools. Developer and big-data consultant Lynn Langit shows how to set up a Hadoop development environment, run and optimize MapReduce jobs, code basic queries with Hive and Pig, and build workflows to schedule jobs. Plus, get a sneak peek at some up-and-coming libraries like Impala and the lightning-fast Spark.\n",
    "\n",
    "Topics include:\n",
    "\n",
    "- Understanding Hadoop core components: HDFS and MapReduce\n",
    "- Setting up your Hadoop development environment\n",
    "- Working with the Hadoop file system\n",
    "- Running and tracking Hadoop jobs\n",
    "- Tuning MapReduce\n",
    "- Understanding Hive and HBase\n",
    "- Exploring Pig tools\n",
    "- Building workflows\n",
    "- Using other libraries, such as Impala, Mahout, and Storm\n",
    "- Understanding Spark\n",
    "- Visualizing Hadoop output\n"
   ]
  },
  {
   "cell_type": "markdown",
   "metadata": {},
   "source": [
    "### Learning Public Data Sets, Lynda.com, January, 2018\n",
    "Certificate: https://drive.google.com/open?id=10uwlA8VukRaKS3_wOrmX0Zw5Hisl-g4f\n",
    "\n",
    "Up and Running with Public Data Sets shows how to find free, public sources of data on a variety of business, education, and health issues and download the data for your own analysis. Author Curt Frye introduces resources from the US government (from census to trademark data), international agencies such as the World Bank and United Nations, search engines, web services, and even language resources like the Ngram Viewer for Google Books. He'll also show how to import the data into an Excel spreadsheet for visualization and analysis.\n",
    "\n",
    "Topics include:\n",
    "\n",
    "- Working with US census data\n",
    "- Using data from the Securities and Exchange Commission\n",
    "- Accessing data from other US agencies\n",
    "- Finding international sources of data\n",
    "- Gathering data from web-based search engines and data portals\n",
    "- Visualizing and analyzing public data sets in Excel\n"
   ]
  },
  {
   "cell_type": "markdown",
   "metadata": {},
   "source": [
    "### Planning an AWS Solution, Lynda.com, January, 2018\n",
    "Certificate: https://drive.google.com/open?id=1VLSzaHY3weh_Tg-mSasW899Kzs1uJ2vN\n",
    "\n",
    "Are you an IT professional considering making a move to the cloud? If so, this course can help you get up to speed with one of the most popular and powerful cloud solutions on the market—Amazon Web Services (AWS). Instructor Ryan Spence helps to acquaint you with the benefits and drawbacks of AWS, and takes a deep dive into the services it offers. He explores how to use AWS for big data work, including the AWS options for warehouse services. He also showcases the platform's backup and recovery options; discusses its mobile service solutions; and covers bringing IoT solutions together with the AWS IoT platform.\n",
    "\n",
    "Topics include:\n",
    "\n",
    "- Comparing AWS to previous IT solutions\n",
    "- Benefits of AWS\n",
    "- AWS security and pricing\n",
    "- Building big data on AWS\n",
    "- Cloud storage and databases\n",
    "- Data warehousing\n",
    "- Backing up data\n",
    "- AWS for mobile services\n",
    "- IoT approaches"
   ]
  },
  {
   "cell_type": "markdown",
   "metadata": {},
   "source": [
    "## December, 2017"
   ]
  },
  {
   "cell_type": "markdown",
   "metadata": {},
   "source": [
    "### Analyzing Finanical Statements for Non-financial Professionals, CoursePark.com, December, 2017\n",
    "Certificate: https://drive.google.com/file/d/1ZNLiUQs-FALtLoLXTCf6wARcfrPSacvn/view \n",
    "\n",
    "Financial statements of an organization often conceal more than they reveal. Being able to analyze them and extract meaningful information is an essential skill that financial as well as non-financial professionals should have. Ratio analysis can be used to determine relationships between two elements of the same financial statement or between one element of one financial statement and another element of a different financial statement. This type of analysis can also be used to compare your companys performance to a number or key indicators, including your competitors, industry averages and benchmarks. This course presents and discusses many methods for analyzing financial statements from a non-financial professional's perspective. It determines and interprets the key profitability, efficiency, liquidity, and solvency ratios using scenarios. It also explains horizontal and vertical analysis of the financial statements using real life examples.\n",
    "\n",
    "Audience:\n",
    "\n",
    "- Individuals who want to gain understanding or refresh their knowledge of financial statements analysis techniques\n",
    "\n",
    "Objectives:\n",
    "\n",
    "- Analyzing Financial Statements for Non-financial Professionals\n",
    "- determine the value of a company's key profitability and efficiency ratios in a scenario\n",
    "- calculate liquidity and solvency ratios\n",
    "- classify examples as reflecting the use of horizontal or vertical analysis\n",
    "\n",
    "Duration: 1\n"
   ]
  },
  {
   "cell_type": "markdown",
   "metadata": {},
   "source": [
    "### Extreme Gradient Boosting with XGBoost, DataCamp.com, December, 2017\n",
    "Certificate: https://drive.google.com/open?id=1IcnHQQP7hwlnyIjNTPGBsoW1FSGMPAwC\n",
    "\n",
    "Do you know the basics of supervised learning and want to learn to use state-of-the-art models on real-world datasets? Gradient boosting is currently one of the most popular techniques for efficient modeling of tabular datasets of all sizes. XGboost is a very fast, scalable implementation of gradient boosting that has taken data science by storm, with models using XGBoost regularly winning many online data science competitions and used at scale across different industries. In this course, you'll learn how to use this powerful library alongside pandas and scikit-learn to build and tune supervised learning models. You'll work with real-world datasets to solve classification as well as regression problems."
   ]
  },
  {
   "cell_type": "markdown",
   "metadata": {},
   "source": [
    "### Introduction to R, DataCamp.com, December, 2017\n",
    "Certificate: https://drive.google.com/open?id=1n7jarsWQnueoQm2pLTC4LuPQvqHvQcLC\n",
    "\n",
    "In this introduction to R, you will master the basics of this beautiful open source language, including factors, lists and data frames. With the knowledge gained in this course, you will be ready to undertake your first very own data analysis. With over 2 million users worldwide R is rapidly becoming the leading programming language in statistics and data science. Every year, the number of R users grows by 40% and an increasing number of organizations are using it in their day-to-day activities. Leverage the power of R by completing this free R online course today!"
   ]
  },
  {
   "cell_type": "markdown",
   "metadata": {},
   "source": [
    "### Introduction to Shell for Data Science, DataCamp.com, December, 2017\n",
    "Certificate: https://drive.google.com/open?id=1O4JHkbp8Z5xBwjcS0vQjq-4qbaIKQhU9\n",
    "\n",
    "The Unix command line has survived and thrived for almost fifty years because it lets people do complex things with just a few keystrokes. Sometimes called \"the universal glue of programming\", it helps users combine existing programs in new ways, automate repetitive tasks, and run programs on clusters and clouds that may be halfway around the world. This course will introduce its key elements and show you how to use them efficiently."
   ]
  },
  {
   "cell_type": "markdown",
   "metadata": {},
   "source": [
    "### Natural Language Processing Fundamentals in Python, DataCamp.com, December, 2017\n",
    "Certificate: https://drive.google.com/open?id=1VQ2dQfIjC4LCEwucwI0gz0EK-zLZZSYS\n",
    "\n",
    "In this course, you'll learn Natural Language Processing (NLP) basics, such as how to identify and separate words, how to extract topics in a text, and how to build your own fake news classifier. You'll also learn how to use basic libraries such as NLTK, alongside libraries which utilize deep learning to solve common NLP problems. This course will give you the foundation to process and parse text as you move forward in your Python learning."
   ]
  },
  {
   "cell_type": "markdown",
   "metadata": {},
   "source": [
    "## November, 2017"
   ]
  },
  {
   "cell_type": "markdown",
   "metadata": {},
   "source": [
    "### Data Scientist with Python (Career Track), DataCamp.com, November, 2017\n",
    "Certificate: https://drive.google.com/open?id=1XLXQ1fq_Jnck47i7luO4cwdAHZICPWxM\n",
    "\n",
    "Data Scientist combines statistical and machine learning techniques with Python programming to analyze and interpret complex data. https://www.datacamp.com/tracks/data-scientist-with-python"
   ]
  },
  {
   "cell_type": "markdown",
   "metadata": {},
   "source": [
    "### Machine Learning with Python Track, DataCamp.com, November, 2017\n",
    "Certificate: https://drive.google.com/open?id=1pr99GfpfCEoTtnsmHPVUutKPHDcNo3ko\n",
    "\n",
    "Machine learning is changing the world and if you want to be a part of the ML revolution, this is a great place to start! In this track, you’ll learn the fundamental concepts in Machine Learning. https://www.datacamp.com/tracks/machine-learning-with-python"
   ]
  },
  {
   "cell_type": "markdown",
   "metadata": {},
   "source": [
    "### Data Manipulation with Python Track, DataCamp.com, November, 2017\n",
    "Certificate: https://drive.google.com/open?id=1jQAN3hKs1vFznQc1Epny1-704DI28w9B\n",
    "\n",
    "Harness the power of tools such as pandas and SQLAlchemy so you can extract, filter, and transform your data quickly and efficiently. https://www.datacamp.com/tracks/data-manipulation-with-python"
   ]
  },
  {
   "cell_type": "markdown",
   "metadata": {},
   "source": [
    "### Importing & Cleaning Data with Python Track, DataCamp.com, November, 2017\n",
    "Certificate: https://drive.google.com/open?id=1Eb3_iojpwj6mBfLaF08O-oMifL9uMqUk\n",
    "\n",
    "Learn to import data from various sources, such as Excel, SQL, SAS, and right from the web. From there, learn to efficiently prepare and clean your data so it is ready to by analyzed. https://www.datacamp.com/tracks/importing-cleaning-data-with-python"
   ]
  },
  {
   "cell_type": "markdown",
   "metadata": {},
   "source": [
    "### Deep Learning in Python, DataCamp.com, November, 2017\n",
    "Certificate: https://drive.google.com/open?id=10SrQFI6Ckt6Jm632NUHIeOK9x-a3FFW2\n",
    "\n",
    "Deep learning is the machine learning technique behind the most exciting capabilities in diverse areas like robotics, natural language processing, image recognition and artificial intelligence (including the famous AlphaGo). In this course, you'll gain hands-on, practical knowledge of how to use deep learning with Keras 2.0, the latest version of a cutting edge library for deep learning in Python."
   ]
  },
  {
   "cell_type": "markdown",
   "metadata": {},
   "source": [
    "### Interactive Data Visualization with Bokeh, DataCamp.com, November, 2017\n",
    "Certificate: https://drive.google.com/open?id=1bh1YR30HhOr89hzhnE0VQsfMc-8AjnRq\n",
    "\n",
    "Bokeh is an interactive data visualization library for Python (and other languages!) that targets modern web browsers for presentation. It can create versatile, data-driven graphics, and connect the full power of the entire Python data-science stack to rich, interactive visualizations."
   ]
  },
  {
   "cell_type": "markdown",
   "metadata": {},
   "source": [
    "### Introduction to Data Visualization with Python, DataCamp.com, November, 2017\n",
    "Certificate: https://drive.google.com/open?id=1_AV02IWAq5KNHuhvdeiJ1QcK3e8GSmkt\n",
    "\n",
    "This course extends Intermediate Python for Data Science to provide a stronger foundation in data visualization in Python. The course provides a broader coverage of the Matplotlib library and an overview of Seaborn (a package for statistical graphics). Topics covered include customizing graphics, plotting two-dimensional arrays (e.g., pseudocolor plots, contour plots, images, etc.), statistical graphics (e.g., visualizing distributions & regressions), and working with time series and image data."
   ]
  },
  {
   "cell_type": "markdown",
   "metadata": {},
   "source": [
    "### Introduction to Databases in Python, DataCamp.com, November, 2017\n",
    "Certificate: https://drive.google.com/open?id=1Cki56z6zFqn6SZUFsB54PCfju6a0kLEm\n",
    "\n",
    "In this Python SQL course, you'll learn the basics of using Structured Query Language (SQL) with Python. This will be useful since whether you like it or not, databases are ubiquitous and, as a data scientist, you'll need to interact with them constantly. The Python SQL toolkit SQLAlchemy provides an accessible and intuitive way to query, build & write to SQLite, MySQL and Postgresql databases (among many others), all of which you will encounter in the daily life of a data scientist."
   ]
  },
  {
   "cell_type": "markdown",
   "metadata": {},
   "source": [
    "### Machine Learning with the Experts: School Budgets, DataCamp.com, November, 2017\n",
    "Certificate: https://drive.google.com/open?id=1HBOPO_7sMGvWOc_RZ4u5CJ-D_kbtM4Aw\n",
    "\n",
    "Data science isn't just for predicting ad-clicks-it's also useful for social impact! This course is a case study from a machine learning competition on DrivenData. You'll explore a problem related to school district budgeting. By building a model to automatically classify items in a school's budget, it makes it easier and faster for schools to compare their spending with other schools. In this course, you'll begin by building a baseline model that is a simple, first-pass approach. In particular, you'll do some natural language processing to prepare the budgets for modeling. Next, you'll have the opportunity to try your own techniques and see how they compare to participants from the competition. Finally, you'll see how the winner was able to combine a number of expert techniques to build the most accurate model."
   ]
  },
  {
   "cell_type": "markdown",
   "metadata": {},
   "source": [
    "### Manipulating DataFrames with pandas, DataCamp.com, November, 2017\n",
    "Certificate: https://drive.google.com/open?id=0B4COB52qGHUNSlY3elYyWFkzZHc\n",
    "\n",
    "In this course, you'll learn how to leverage pandas' extremely powerful data manipulation engine to get the most out of your data. It is important to be able to extract, filter, and transform data from DataFrames in order to drill into the data that really matters. The pandas library has many techniques that make this process efficient and intuitive. You will learn how to tidy, rearrange, and restructure your data by pivoting or melting and stacking or unstacking DataFrames. These are all fundamental next steps on the road to becoming a well-rounded Data Scientist, and you will have the chance to apply all the concepts you learn to real-world datasets."
   ]
  },
  {
   "cell_type": "markdown",
   "metadata": {},
   "source": [
    "### Merging DataFrames with pandas, DataCamp.com, November, 2017\n",
    "Certificate: https://drive.google.com/open?id=1YpEj_26283SstqDk8Tonq8AOt1y8v5Xt\n",
    "\n",
    "As a Data Scientist, you'll often find that the data you need is not in a single file. It may be spread across a number of text files, spreadsheets, or databases. You want to be able to import the data of interest as a collection of DataFrames and figure out how to combine them to answer your central questions. This course is all about the act of combining, or merging, DataFrames, an essential part of any working Data Scientist's toolbox. You'll hone your pandas skills by learning how to organize, reshape, and aggregate multiple data sets to answer your specific questions."
   ]
  },
  {
   "cell_type": "markdown",
   "metadata": {},
   "source": [
    "### Network Analysis in Python (Part 1), DataCamp.com, November, 2017\n",
    "Certificate: https://drive.google.com/open?id=1ftt39kaP3PYmk9ZHHnG1WgYQpR7pWIdl\n",
    "\n",
    "From online social networks such as Facebook and Twitter to transportation networks such as bike sharing systems, networks are everywhere, and knowing how to analyze this type of data will open up a new world of possibilities for you as a Data Scientist. This course will equip you with the skills to analyze, visualize, and make sense of networks. You'll apply the concepts you learn to real-world network data using the powerful NetworkX library. With the knowledge gained in this course, you'll develop your network thinking skills and be able to start looking at your data with a fresh perspective!"
   ]
  },
  {
   "cell_type": "markdown",
   "metadata": {},
   "source": [
    "### Statistical Thinking in Python (Part 1), DataCamp.com, November, 2017\n",
    "Certificate: https://drive.google.com/open?id=115jRtZ56Em15swwKCd2WhkqAgLyece1t\n",
    "\n",
    "After all of the hard work of acquiring data and getting them into a form you can work with, you ultimately want to make clear, succinct conclusions from them. This crucial last step of a data analysis pipeline hinges on the principles of statistical inference. In this course, you will start building the foundation you need to think statistically, to speak the language of your data, to understand what they are telling you. The foundations of statistical thinking took decades upon decades to build, but they can be grasped much faster today with the help of computers. With the power of Python-based tools, you will rapidly get up to speed and begin thinking statistically by the end of this course."
   ]
  },
  {
   "cell_type": "markdown",
   "metadata": {},
   "source": [
    "### Statistical Thinking in Python (Part 2), DataCamp.com, November, 2017\n",
    "Certificate: https://drive.google.com/open?id=1PhTBAOcNqWDTJu2JOlxXrot-21baXVbx\n",
    "\n",
    "After completing Statistical Thinking in Python (Part 1), you have the probabilistic mindset and foundational hacker stats skills to dive into data sets and extract useful information from them. In this course, you will do just that, expanding and honing your hacker stats toolbox to perform the two key tasks in statistical inference, parameter estimation and hypothesis testing. You will work with real data sets as you learn, culminating with analysis of measurements of the beaks of the Darwin's famous finches. You will emerge from this course with new knowledge and lots of practice under your belt, ready to attack your own inference problems out in the world."
   ]
  },
  {
   "cell_type": "markdown",
   "metadata": {},
   "source": [
    "### Supervised Learning with scikit-learn, DataCamp.com, November, 2017\n",
    "Certificate: https://drive.google.com/open?id=1nb7vLVYqxUiLi9n9tqBRoyNtcLSz-OdK\n",
    "\n",
    "At the end of day, the value of Data Scientists rests on their ability to describe the world and to make predictions. Machine Learning is the field of teaching machines and computers to learn from existing data to make predictions on new data - will a given tumor be benign or malignant? Which of your customers will take their business elsewhere? Is a particular email spam or not? In this course, you'll learn how to use Python to perform supervised learning, an essential component of Machine Learning. You'll learn how to build predictive models, how to tune their parameters and how to tell how well they will perform on unseen data, all the while using real world datasets. You'll do so using scikit-learn, one of the most popular and user-friendly machine learning libraries for Python."
   ]
  },
  {
   "cell_type": "markdown",
   "metadata": {},
   "source": [
    "### Unsupervised Learning in Python, DataCamp.com, November, 2017\n",
    "Certificate: https://drive.google.com/open?id=1SUhNuChGE1uFPXD_dcqRNh-29kwMTsNh\n",
    "\n",
    "Say you have a collection of customers with a variety of characteristics such as age, location, and financial history, and you wish to discover patterns and sort them into clusters. Or perhaps you have a set of texts, such as wikipedia pages, and you wish to segment them into categories based on their content. This is the world of unsupervised learning, called as such because you are not guiding, or supervising, the pattern discovery by some prediction task, but instead uncovering hidden structure from unlabeled data. Unsupervised learning encompasses a variety of techniques in machine learning, from clustering to dimension reduction to matrix factorization. In this course, you'll learn the fundamentals of unsupervised learning and implement the essential algorithms using scikit-learn and scipy. You will learn how to cluster, transform, visualize, and extract insights from unlabeled datasets, and end the course by building a recommender system to recommend popular musical artists."
   ]
  },
  {
   "cell_type": "markdown",
   "metadata": {},
   "source": [
    "## October, 2017"
   ]
  },
  {
   "cell_type": "markdown",
   "metadata": {},
   "source": [
    "### Cleaning Data in Python, DataCamp.com, October, 2017\n",
    "Certificate: https://drive.google.com/open?id=0B4COB52qGHUNTFFjSUt6cHUySW8\n",
    "\n",
    "A vital component of data science involves acquiring raw data and getting it into a form ready for analysis. In fact, it is commonly said that data scientists spend 80% of their time cleaning and manipulating data, and only 20% of their time actually analyzing it. This course will equip you with all the skills you need to clean your data in Python, from learning how to diagnose your data for problems to dealing with missing values and outliers. At the end of the course, you'll apply all of the techniques you've learned to a case study in which you'll clean a real-world Gapminder dataset!"
   ]
  },
  {
   "cell_type": "markdown",
   "metadata": {},
   "source": [
    "### Data Science & Analytics, Career Paths & Certifications: First Steps, Lynda.com, October, 2017\n",
    "Certificate: https://drive.google.com/open?id=0B4COB52qGHUNOS1ZUU4zeXJvUHM \n",
    "\n",
    "The career opportunities in data science, big data, and analytics are growing dramatically. These are among the most sought-after jobs in the tech world today. If you're interested in changing career paths, determining the right course of study, or deciding if certification is worth your time, this course is for you.\n",
    "\n",
    "Jungwoo Ryoo is a professor of information science and technology at Penn State. Here he reviews the history of data science and analytics, explores which markets are using big data the most, and reveals the five main skills areas: data mining, machine learning, natural language processing (NLP), statistics, and visualization. This leads to a discussion of the five biggest career opportunities, the four leading industry-recognized certifications available, and the most exciting emerging technologies. Along the way, Jungwoo discusses the importance of ethics and professional development, and provides pointers to online resources for learning more.\n",
    "Topics include:\n",
    "\n",
    "- A history of data science\n",
    "- Why analytics is important\n",
    "- How data science is used in social media, climate research, and more\n",
    "- Data science skills\n",
    "- Data science certifications\n",
    "- The future of big data"
   ]
  },
  {
   "cell_type": "markdown",
   "metadata": {},
   "source": [
    "### Data Science Foundations: Data Mining, Lynda.com, October, 2017\n",
    "Certificate: https://drive.google.com/open?id=0B4COB52qGHUNdHdxeTNGdXc3dzQ \n",
    "\n",
    "All data science begins with good data. Data mining is a framework for collecting, searching, and filtering raw data in a systematic matter, ensuring you have clean data from the start. It also helps you parse large data sets, and get at the most meaningful, useful information. This course, Data Science Foundations: Data Mining, is designed to provide a solid point of entry to all the tools, techniques, and tactical thinking behind data mining.\n",
    "\n",
    "Barton Poulson covers data sources and types, the languages and software used in data mining (including R and Python), and specific task-based lessons that help you practice the most common data-mining techniques: text mining, data clustering, association analysis, and more. This course is an absolute necessity for those interested in joining the data science workforce, and for those who need to obtain more experience in data mining.\n",
    "Topics include:\n",
    "\n",
    "- Prerequisites for data mining\n",
    "- Data mining using R, Python, Orange, and RapidMiner\n",
    "- Data reduction\n",
    "- Data clustering\n",
    "- Anomaly detection\n",
    "- Association analysis\n",
    "- Regression analysis\n",
    "- Sequence mining\n",
    "- Text mining"
   ]
  },
  {
   "cell_type": "markdown",
   "metadata": {},
   "source": [
    "### Data Science Foundations: Fundamentals, Lynda.com, October, 2017\n",
    "Certificate: https://drive.google.com/open?id=0B4COB52qGHUNVm9wbnZvUV9wN2M \n",
    "\n",
    "Introduction to Data Science provides a comprehensive overview of modern data science: the practice of obtaining, exploring, modeling, and interpreting data. While most only think of the \"big subject,\" big data, there are many more fields and concepts to explore. Here Barton Poulson explores disciplines such as programming, statistics, mathematics, machine learning, data analysis, visualization, and (yes) big data. He explains why data scientists are now in such demand, and the skills required to succeed in different jobs. He shows how to obtain data from legitimate open-source repositories via web APIs and page scraping, and introduces specific technologies (R, Python, and SQL) and techniques (support vector machines and random forests) for analysis. By the end of the course, you should better understand data science's role in making meaningful insights from the complex and large sets of data all around us.\n",
    "Topics include:\n",
    "\n",
    "- The demand for data science\n",
    "- Roles and careers\n",
    "- Ethical issues in data science\n",
    "- Sourcing data\n",
    "- Exploring data through graphs and statistics\n",
    "- Programming with R, Python, and SQL\n",
    "- Data science in math and statistics\n",
    "- Data science and machine learning\n",
    "- Communicating with data"
   ]
  },
  {
   "cell_type": "markdown",
   "metadata": {},
   "source": [
    "### Importing Data in Python (Part 1), DataCamp.com, October, 2017\n",
    "Certificate: https://drive.google.com/open?id=0B4COB52qGHUNMVhtZXhxUWtBaTg\n",
    "\n",
    "As a Data Scientist, on a daily basis you will need to clean data, wrangle and munge it, visualize it, build predictive models and interpret these models. Before doing any of these, however, you will need to know how to get data into Python. In this course, you'll learn the many ways to import data into Python: (i) from flat files such as .txts and .csvs; (ii) from files native to other software such as Excel spreadsheets, Stata, SAS and MATLAB files; (iii) from relational databases such as SQLite & PostgreSQL."
   ]
  },
  {
   "cell_type": "markdown",
   "metadata": {},
   "source": [
    "### Importing Data in Python (Part 2), DataCamp.com, October, 2017\n",
    "Certificate: https://drive.google.com/open?id=0B4COB52qGHUNMHpGS0YzcWdkZnM\n",
    "\n",
    "As a Data Scientist, on a daily basis you will need to clean data, wrangle and munge it, visualize it, build predictive models and interpret these models. Before doing any of these, however, you will need to know how to get data into Python. In the prequel to this course, you have already learnt many ways to import data into Python: (i) from flat files such as .txts and .csvs; (ii) from files native to other software such as Excel spreadsheets, Stata, SAS and MATLAB files; (iii) from relational databases such as SQLite & PostgreSQL. In this course, you'll extend this knowledge base by learning to import data (i) from the web and (ii) a special and essential case of this: pulling data from Application Programming Interfaces, also known as APIs, such as the Twitter streaming API, which allows us to stream real-time tweets."
   ]
  },
  {
   "cell_type": "markdown",
   "metadata": {},
   "source": []
  },
  {
   "cell_type": "markdown",
   "metadata": {},
   "source": [
    "### Intermediate Python for Data Science, DataCamp.com, October, 2017\n",
    "Certificate: https://drive.google.com/open?id=0B4COB52qGHUNLThIV01ram5ueTA \n",
    "\n",
    "The intermediate python course is crucial to your data science curriculum. Learn to visualize real data with matplotlib's functions and get to know new data structures such as the dictionary and the Pandas DataFrame. After covering key concepts such as boolean logic, control flow and loops in Python, you're ready to blend together everything you've learned to solve a case study using hacker statistics."
   ]
  },
  {
   "cell_type": "markdown",
   "metadata": {},
   "source": [
    "### Learning Data Governance, Lynda.com, October, 2017\n",
    "Certificate: https://drive.google.com/open?id=0B4COB52qGHUNMDQ1dkFJZGc0Tjg \n",
    "\n",
    "In the era of big data and data science, most businesses and institutions realize the power of data. Yet far too many fail to appreciate the legal and fiscal responsibilities and liabilities associated with it. The stakes are high, but a well-rounded data governance process can help ensure the consistent quality, availability, integrity, and usability of your data.\n",
    "\n",
    "Here Dr. Jonathan Reichental explains how to begin to implement a data governance program within any organization. Learn the components of data governance, its strategic value, the roles and responsibilities of stakeholders, and the overall steps that an organization needs to take to manage, monitor, and measure the program. Plus, get guidance on a set of next steps for building skills. As the data science domain grows, so does the demand for data governance expertise. Start here for your first look at this in-demand skill.\n",
    "Topics include:\n",
    "\n",
    "- What is data governance?\n",
    "- Why do organizations need data governance?\n",
    "- Who owns the data?\n",
    "- Designing the data governance process\n",
    "- Managing, maintaining, monitoring, and measuring your program"
   ]
  },
  {
   "cell_type": "markdown",
   "metadata": {},
   "source": [
    "### pandas Foundations, DataCamp.com, October, 2017\n",
    "Certificate: https://drive.google.com/open?id=0B4COB52qGHUNTzZ0eVlmYzZ0Rkk\n",
    "\n",
    "Many real-world data sets contain strings, integers, time-stamps and unstructured data. How do you store data like this so that you can manipulate it and easily retrieve important information? The answer is in a pandas DataFrame! In this course, you'll learn how to use the industry-standard pandas library to import, build, and manipulate DataFrames. With pandas, you'll always be able to convert your data into a form that permits you to analyze it easily. You'll also learn more about NumPy, how it stores data, and its relation to the pandas DataFrame."
   ]
  },
  {
   "cell_type": "markdown",
   "metadata": {},
   "source": [
    "### Python Data Science Toolbox (Part 1), DataCamp.com, October, 2017\n",
    "Certificate: https://drive.google.com/open?id=0B4COB52qGHUNMTRiZnItN2o3QUE\n",
    "\n",
    "It's now time to push forward and develop your Python chops even further. There are lots and lots of fantastic functions in Python and its library ecosystem. However, as a Data Scientist, you'll constantly need to write your own functions to solve problems that are dictated by your data. The art of function writing is what you'll learn in this first Python Data Science toolbox course. You'll come out of this course being able to write your very own custom functions, complete with multiple parameters and multiple return values, along with default arguments and variable-length arguments. You'll gain insight into scoping in Python and be able to write lambda functions and handle errors in your very own function writing practice. On top of this, you'll wrap up each Chapter by diving into using your acquired skills to write functions that analyze twitter DataFrames and are generalizable to broader Data Science contexts."
   ]
  },
  {
   "cell_type": "markdown",
   "metadata": {},
   "source": [
    "### Python Data Science Toolbox (Part 2), DataCamp.com, October, 2017\n",
    "Certificate: https://drive.google.com/open?id=0B4COB52qGHUNNV9oSDRZWDQ5ekE\n",
    "\n",
    "In this second course in the Python Data Science Toolbox, you'll continue to build your Python Data Science skills. First you'll enter the wonderful world of iterators, objects that you have already encountered in the context of for loops without having necessarily known it. You'll then learn about list comprehensions, which are extremely handy tools that form a basic component in the toolbox of all modern Data Scientists working in Python. You'll end the course by working through a case study in which you'll apply all of the techniques you learned both in this course as well as the prequel. If you're looking to make it as a Pythonista Data Science ninja, you have come to the right place."
   ]
  },
  {
   "cell_type": "markdown",
   "metadata": {},
   "source": [
    "### Python Programming Track, DataCamp.com, October, 2017\n",
    "Certificate: https://drive.google.com/open?id=1AVLnbLjG45zeIxqxxU9raqvjm9ZEEgnk\n",
    "\n",
    "Discover important data structures like dictionaries and DataFrames, visualize real word data with matplotlib, and learn the art of writing your own Python functions. https://www.datacamp.com/tracks/python-programming"
   ]
  },
  {
   "cell_type": "markdown",
   "metadata": {},
   "source": [
    "## September, 2017"
   ]
  },
  {
   "cell_type": "markdown",
   "metadata": {},
   "source": [
    "### Access 2016 Essential Training, Lynda.com, September, 2017\n",
    "Certificate: https://drive.google.com/open?id=0B4COB52qGHUNYWpYR2dVbXoxb00 \n",
    "\n",
    "Learn how to build databases to store and retrieve your data more efficiently with Access 2016. Adam Wilbert shows how to use the powerful program to wrangle your data and create your first table, and highlights smart strategies to edit and modify fields and records.\n",
    "\n",
    "The course also shows you how to build queries and action queries, create and design forms, use macros, integrate Access with the rest of the Office 2016 suite, and maintain your databases over time.\n",
    "Topics include:\n",
    "\n",
    "- Creating a new database\n",
    "- Creating tables and new data types\n",
    "- Importing and entering data\n",
    "- Setting up relationships and primary keys\n",
    "- Adding validation rules\n",
    "- Sorting and filtering table data\n",
    "- Building queries\n",
    "- Designing forms\n",
    "- Creating reports\n",
    "- Attaching macros to buttons and tables\n",
    "- Working with Excel and Outlook data\n",
    "- Maintaining an Access database"
   ]
  },
  {
   "cell_type": "markdown",
   "metadata": {},
   "source": [
    "### Advanced SQL for Data Scientists, Lynda.com, September, 2017\n",
    "Certificate: https://drive.google.com/open?id=0B4COB52qGHUNa0VMOWpxd3RPZzQ \n",
    "\n",
    "There is an increasing need for data scientists and analysts to understand relational data stores. Organizations have long used SQL databases to store transactional data as well as business intelligence related data. If you need to work with SQL databases, this course is designed to help you learn how to perform common data science tasks, including finding, exploration, and extraction within relational databases. \n",
    "\n",
    "The course begins with a brief overview of SQL. Then the five major topics a data scientist should understand when working with relational databases: basic statistics in SQL, data preparation in SQL, advanced filtering and data aggregation, window functions, and preparing data for use with analytics tools.\n",
    "Topics include:\n",
    "\n",
    "- Data manipulation\n",
    "- ANSI standards\n",
    "- SQL and variations\n",
    "- Statistical functions in SQL\n",
    "- String, numeric, and regular expression functions in SQL\n",
    "- Advanced filtering techniques\n",
    "- Advanced aggregation techniques\n",
    "- Windowing functions for working with ordered data sets"
   ]
  },
  {
   "cell_type": "markdown",
   "metadata": {},
   "source": [
    "### Data Reduction Techniques Using Excel and R: Business Analytics Deep Dive, Lynda.com, September, 2017\n",
    "Certificate: https://drive.google.com/open?id=0B4COB52qGHUNR0tyTjBpNVlmRjg \n",
    "\n",
    "With businesses having to grapple with increasing amounts of data, the need for data reduction has intensified in recent years. To make sense of an overabundance of information, you can use cluster analysis—which allows you to develop inferences about a handful of groups instead of an entire population of individuals—as well as principal components analysis, which exposes latent variables. \n",
    "\n",
    "In this course, Conrad Carlberg explains how to carry out cluster analysis and principal components analysis using Microsoft Excel, which tends to show more clearly what's going on in the analysis. Then he explains how to carry out the same analysis using R, the open-source statistical computing software, which is faster and richer in analysis options than Excel. Plus, he walks through how to merge the results of cluster analysis and factor analysis to help you break down a few underlying factors according to individuals' membership in just a few clusters.\n",
    "Topics include:\n",
    "\n",
    "- Reviewing the problems created by an overabundance of data\n",
    "- Understanding the rationale for clustering and principal components analysis\n",
    "- Using Excel to extract principal components\n",
    "- Using R to extract principal components\n",
    "- Using R for cluster analysis\n",
    "- Using Excel for cluster analysis\n",
    "- Setting up confusion tables in Excel\n",
    "- Using cluster analysis and factor analysis in concert"
   ]
  },
  {
   "cell_type": "markdown",
   "metadata": {},
   "source": [
    "### Data Wrangling in R, Lynda.com, September, 2017\n",
    "Certificate: https://drive.google.com/open?id=0B4COB52qGHUNNlRvYThjMlJ3WGc \n",
    "\n",
    "Tidy data is a data format that provides a standardized way of organizing data values within a dataset. By leveraging tidy data principles, statisticians, analysts, and data scientists can spend less time cleaning data and more time tackling the more compelling aspects of data analysis. In this course, learn about the principles of tidy data, and discover how to create and manipulate data tibbles—transforming them from source data into tidy formats. Instructor Mike Chapple uses the R programming language and the tidyverse packages to teach the concept of data wrangling—the data cleaning and data transformation tasks that consume a substantial portion of analysts' time. He wraps up with three hands-on case studies that help to reinforce the data wrangling principles and tactics covered in this course.\n",
    "Topics include:\n",
    "\n",
    "- What's tidy data?\n",
    "- Using the tidyverse\n",
    "- Working with tibbles\n",
    "- Subsetting and filtering tibbles\n",
    "- Importing data into R\n",
    "- Making wide datasets long with gather()\n",
    "- Making long datasets wide with spread()\n",
    "- Converting data types in R\n",
    "- Detecting outliers\n",
    "- Manipulating strings in R with stringr"
   ]
  },
  {
   "cell_type": "markdown",
   "metadata": {},
   "source": [
    "### Descriptive Healthcare Analytics In R, Lynda.com, September, 2017\n",
    "Certificate: https://drive.google.com/open?id=0B4COB52qGHUNZG5qd3hLYXVHN00 \n",
    "\n",
    "Analyze behavior and risk using R, the open-source statistical computing software. R provides an environment and a language you can use to analyze data, including the publicly available Behavioral Risk Factor Surveillance Survey (BRFSS) dataset. This course teaches core healthcare data science skills, including epidemiology, as well as how to perform a cross-sectional analysis, set up a data dictionary, develop metadata, determine confounders, apply exclusions, create diagrams, generate continuous and categorical outcome variables, and more. Join biotech expert and epidemiologist Monika Wahi as she first discusses design and ethical considerations, and then takes you through the steps of conducting a descriptive analysis.\n",
    "\n",
    "This detailed, practical course is designed to help those in the field of public health, medicine, and data science to edit, analyze, and interpret data. Learn how to code new variables, use the forward-stepwise modeling process, and document your decisions. Find out how to visualize results by generating charts and graphics, and how to add tables and figures to your documentation. This course helps equip you to independently design, develop, and execute a full BRFSS analysis, and even publish your results in scientific publications or journals.\n",
    "Topics include:\n",
    "\n",
    "- Reviewing survey data and documentation\n",
    "- Conducting a BRFSS analysis\n",
    "- Understanding naming conventions\n",
    "- Editing variables\n",
    "- Reviewing distributions\n",
    "- Generating an analytic dataset\n",
    "- Developing descriptive statistics to answer prespecified hypotheses\n",
    "- Preparing publication-worthy tables and plots"
   ]
  },
  {
   "cell_type": "markdown",
   "metadata": {},
   "source": [
    "### Healthcare Analytics: Regression In R, Lynda.com, September, 2017\n",
    "Certificate: https://drive.google.com/open?id=0B4COB52qGHUNaVl2dV94MTZsVU0 \n",
    "\n",
    "Linear and logistic regression models can be created using R, the open-source statistical computing software. In this course, biotech expert and epidemiologist Monika Wahi uses the publicly available Behavioral Risk Factor Surveillance Survey (BRFSS) dataset to show you how to perform a forward stepwise modeling process. Monika shows you how to design your research by considering scientific plausibility selecting a hypothesis. Then, she takes you through the steps of preparing, developing, and finalizing both a linear regression model and a logistic regression model. She also shares techniques for how to interpret diagnostic plots, improve model fit, compare models, and more.\n",
    "Topics include:\n",
    "\n",
    "- Dealing with scientific plausibility\n",
    "- Selecting a hypothesis\n",
    "- Interpreting diagnostic plots\n",
    "- Working with indexes and model metadata\n",
    "- Working with quartiles and ranking\n",
    "- Making a working model\n",
    "- Improving model fit\n",
    "- Performing linear regression modeling\n",
    "- Performing logistic regression modeling\n",
    "- Performing forward stepwise regression\n",
    "- Estimating parameters\n",
    "- Interpreting an odds ratio\n",
    "- Adding odds ratios to models\n",
    "- Comparing nested models\n",
    "- Presenting and interpreting the final model"
   ]
  },
  {
   "cell_type": "markdown",
   "metadata": {},
   "source": [
    "### Intro to Python for Data Science, DataCamp.com, September, 2017\n",
    "Certificate: https://drive.google.com/open?id=0B4COB52qGHUNNFJHaGVRa1pyVlE \n",
    "\n",
    "Python is a general-purpose programming language that is becoming more and more popular for doing data science. Companies worldwide are using Python to harvest insights from their data and get a competitive edge. Unlike any other Python tutorial, this course focuses on Python specifically for data science. In our Intro to Python class, you will learn about powerful ways to store and manipulate data as well as cool data science tools to start your own analyses. Enter DataCamp’s online Python curriculum."
   ]
  },
  {
   "cell_type": "markdown",
   "metadata": {},
   "source": [
    "### IoT Foundations: Standards and Ecosystems, Lynda.com, September, 2017\n",
    "Certificate: https://drive.google.com/open?id=0B4COB52qGHUNLUJHQWxyaEtEMVU \n",
    "\n",
    "The continuous development of IoT ecosystems promises a future in which our homes, cars, and cities are more connected. But as this technology evolves, it has become increasingly important to tackle the communication and compatibility challenges facing the billions of connected devices already out in the world. In this course, learn about IoT standards and ecosystems. Instructor Zahraa Khalil provides a high-level look at the IoT ecosystem, discussing IoT markets, technology, and standards. She also goes over the challenges facing the development of IoT—including security, privacy, and legal issues—the IoT standards development process, and IoT protocols for device management. Plus, she shares examples of IoT ecosystems in action by exploring case studies of smart cities.\n",
    "Topics include:\n",
    "\n",
    "- IoT architecture models and components\n",
    "- IoT ecosystem\n",
    "- IoT technology, markets, and standards\n",
    "- IoT technology\n",
    "- Security, privacy, and legal issues\n",
    "- IoT device management\n",
    "- IoT protocols for device management\n",
    "- IoT device management challenges and applications\n",
    "- Smart cities"
   ]
  },
  {
   "cell_type": "markdown",
   "metadata": {},
   "source": [
    "### Julia for Data Scientists First Look, Lynda.com, September, 2017\n",
    "Certificate: https://drive.google.com/open?id=0B4COB52qGHUNME9XY1JLdjlsSms \n",
    "\n",
    "Get a first look at Julia, the powerful and fast programming language for data science and analytics. Julia is growing quickly in popularity and many data science practitioners are interested in learning more. This fast-paced course provides a general introduction to the language's functionality, power, and limitations. Discover how Julia compares to C, R, and Python and how to call those languages in, how to format data with the different data types, how to perform math and vectorized operations, how to create expressions and run macros, and more. You can decide whether to incorporate Julia into your data science workflow or follow the next steps to learn more."
   ]
  },
  {
   "cell_type": "markdown",
   "metadata": {},
   "source": [
    "### Learning Microsoft SQL Server 2016, Lynda.com, September, 2017\n",
    "Certificate: https://drive.google.com/open?id=0B4COB52qGHUNZ2FzMTBWaUxLRjQ \n",
    "\n",
    "SQL Server can be intimidating, especially for people who have never worked with databases before. A quick overview can go a long way to making you feel more comfortable digging into its powerful capabilities.\n",
    "\n",
    "This course introduces the most important features of SQL Server 2016, and is designed to act as the student's very first look at how the server operates. Adam Wilbert shows how to install a local copy of SQL Server; demonstrates the working environment, SQL Server Management Studio; and walks students through their first hour creating tables, defining relationships, and writing and running queries with Transact-SQL commands. Everything you need to accomplish to create your first database is covered in just 80 minutes. Start watching to get up and running with this professional-grade database management system.\n",
    "Topics include:\n",
    "\n",
    "- What is SQL Server?\n",
    "- Configuring the server\n",
    "- Creating a new database and data tables\n",
    "- Joining tables with keys\n",
    "- Creating a SELECT statement\n",
    "- Writing an UPDATE statement\n",
    "- Adding data with the INSERT statement"
   ]
  },
  {
   "cell_type": "markdown",
   "metadata": {},
   "source": [
    "### Learning NVivio, Lynda.com, September, 2017\n",
    "Certificate: https://drive.google.com/open?id=0B4COB52qGHUNeV9Pd3NISzZleTg  \n",
    "\n",
    "NVivo is the leading tool for qualitative analysis. Qualitative data is difficult to gather and process, but with NVivo Starter 11 for Windows, you have powerful tools at your disposal. This course explores how to leverage NVivo Starter for collecting and analyzing text-based research data. David Rivers shows how to create a new project and add nodes—the containers that keep your NVivo data organized. Then learn how to import data, documents, and notes; code content; analyze data with queries; and visualize your results with NVivo's charts and diagrams.\n",
    "Topics include:\n",
    "\n",
    "- What is NVivo?\n",
    "- Creating a new project\n",
    "- Creating new nodes\n",
    "- Importing and organizing data\n",
    "- Taking notes\n",
    "- Analyzing data\n",
    "- Displaying data in charts and diagrams"
   ]
  },
  {
   "cell_type": "markdown",
   "metadata": {},
   "source": [
    "### Learning Oracle Database 12c, Lynda.com, September, 2017\n",
    "Certificate: https://drive.google.com/open?id=0B4COB52qGHUNZGo1YXV1cWJ4Z2s \n",
    "\n",
    "In this course, Oracle expert and author Bob Bryla goes beyond the fundamentals of administering an Oracle database, and dives deep into the skills an Oracle power user needs to know. Bob reviews the database architecture and shows how a database administrator (DBA) can more effectively manage and configure an Oracle database. At the same time, he explains the database's features that enable a business intelligence (BI) developer to effectively write applications using Oracle Database 12c.\n",
    "Topics include:\n",
    "\n",
    "- Design methodology and tools\n",
    "- SQL query basics\n",
    "- Advanced data manipulation\n",
    "- Modifying and creating a database object\n",
    "- Database architecture\n",
    "- DBA configuration tools\n",
    "- Managing tablespaces and disk space\n",
    "- Table compression\n",
    "- Manage system-related tablespaces\n",
    "- Database monitoring"
   ]
  },
  {
   "cell_type": "markdown",
   "metadata": {},
   "source": [
    "### Learning SQL Programming, Lynda.com, September, 2017\n",
    "Certificate: https://drive.google.com/open?id=0B4COB52qGHUNVDF2WWk5R00wRXc \n",
    "\n",
    "SQL (Structured Query Language) is a common tool for retrieving data from relational databases such as SQL Server, MySQL, MariaDB, and PostgreSQL. This course provides an introduction to this core programming language. Learn how to request data from a server, limit and sort the responses, aggregate data from multiple tables with joins, and edit and delete data. Instructor Scott Simpson also shows how to perform simple math operations and transform data into different formats.\n",
    "Topics include:\n",
    "\n",
    "- What is SQL?\n",
    "- Asking for data with SELECT\n",
    "- Limiting database responses\n",
    "- Organizing responses\n",
    "- Asking for data from two or more tables\n",
    "- Understanding join types and data types\n",
    "- Transforming data\n",
    "- Performing math\n",
    "- Adding and modifying data in a table"
   ]
  },
  {
   "cell_type": "markdown",
   "metadata": {},
   "source": [
    "### Logistic Regression in R and Excel, Lynda.com, September, 2017\n",
    "Certificate: https://drive.google.com/open?id=0B4COB52qGHUNNVJJd0NSeUxJbGs \n",
    "\n",
    "Business decisions are often binary: take on this project or put it off for a year; extend credit to this customer or insist on cash; open a new retail outlet in a particular location or find another spot. When an outcome is a continuous variable such as revenue, ordinary regression is often a good technique, but when there are only two outcomes, logistic regression usually offers better tools.\n",
    "\n",
    "Learn how to use R and Excel to analyze data in this course with Conrad Carlberg. He takes you through advanced logistic regression, starting with odds and logarithms and then moving on into binomial distribution and converting predicted odds back to probabilities. After this foundation is established, he shifts the focus to inferential statistics, likelihood ratios, and multinomial regression. Conrad's comprehensive coverage of how to perform logistic regression includes tackling common problems, explaining relationships, reviewing outcomes, and interpreting results.\n",
    "Topics include:\n",
    "\n",
    "- Recognizing the problems with ordinary regression on a binary outcome\n",
    "- Quantifying errors in forecasts\n",
    "- Managing different slopes\n",
    "- Forecasting odds instead of probabilities\n",
    "- Limiting probabilities on the upside and downside\n",
    "- Working with exponents and bases\n",
    "- Predicting the logit\n",
    "- Working with original data and coefficients\n",
    "- Establishing the Log Likelihood\n",
    "- Interpreting -2LL or deviance\n",
    "- Establishing a data frame with XLGetRange\n",
    "- Using the R functions mlogit or and glm\n",
    "- Understanding long versus wide shapes in data sets"
   ]
  },
  {
   "cell_type": "markdown",
   "metadata": {},
   "source": [
    "### Open Data: Unleashing Hidden Value, Lynda.com, September, 2017\n",
    "Certificate: https://drive.google.com/open?id=0B4COB52qGHUNdW1DWWRnWmZHY1U \n",
    "\n",
    "Governments around the world are discovering the value and responsibility in making the data they collect and store easily available to anyone who wants to access it. Making the decision to open up data sets is a strategic choice that requires detailed tactics. There are processes and technologies to make data accessible while minimizing risk. If you want to start opening up your organization's data to enable transparency and catalyze innovation, or use open data to drive analysis and make more informed decisions, this course is for you.\n",
    "\n",
    "Dr. Jonathan Reichental introduces real-world use cases for open data, as well as the steps you need to take to develop and operationalize an open data program. He also explains how data scientists use open data to tell stories and drive data visualizations. Along the way, he provides numerous examples of open data in action: improving government, empowering citizens, creating opportunity, and solving public problems.\n",
    "Topics include:\n",
    "\n",
    "- Understanding what open data really is\n",
    "- Current open data efforts around the globe\n",
    "- Open data in action\n",
    "- Designing an open data governance process, including policies\n",
    "- Monetizing open data\n",
    "- Storytelling with open data\n",
    "- Selling the value of open data\n",
    "- Measuring the value of open data"
   ]
  },
  {
   "cell_type": "markdown",
   "metadata": {},
   "source": [
    "### Pandas for Data Science, Lynda.com, September, 2017\n",
    "Certificate: https://drive.google.com/open?id=0B4COB52qGHUNb0JKY1NaclFtNnM\n",
    "\n",
    "Pandas for Data Science is an introduction to one of the hottest new tools available to data science and business analytics specialists. Pandas is an open-source library that provides high-performance, easy-to-use data structures and data analysis tools. While Python has excellent capabilities for data manipulation and data preparation, Pandas adds data analysis and modeling tools so that users can perform entire data science workflows.\n",
    "\n",
    "Watch this course to gain an overview of Pandas. Charles Kelly helps you get started with time series, data frames, panels, plotting, and visualization. All you need is a copy of the free and interactive Jupyter Notebook app to practice and follow along.\n",
    "Topics include:\n",
    "\n",
    "- Using the Markdown language and Jupyter Notebook\n",
    "- Creating objects\n",
    "- Selecting objects\n",
    "- Using operations\n",
    "- Merging data\n",
    "- Grouping\n",
    "- Creating series\n",
    "- Creating data frames\n",
    "- Creating panels\n",
    "- Plotting\n",
    "- Annotating plots and data frame plots"
   ]
  },
  {
   "cell_type": "markdown",
   "metadata": {},
   "source": [
    "### PowerPoint 2016 Essential Training, Lynda.com, September, 2017\n",
    "Certificate: https://drive.google.com/open?id=0B4COB52qGHUNSUVDWloza1ZpLTg \n",
    "\n",
    "Learn how to best create, edit, and share presentations with PowerPoint 2016, the popular presentation platform. Jess Stratton shows how to build a slideshow from scratch or leverage PowerPoint templates and themes for quick construction. Jess then demonstrates how to add and edit text, images, graphs, video, and animation; format slides for consistency; and add speaker notes and transitions to ensure a smooth delivery. Plus, discover how to collaborate on changes and then share the final presentation via print, PDF, or a recorded slideshow.\n",
    "Topics include:\n",
    "\n",
    "- Connecting PowerPoint to OneDrive\n",
    "- Creating presentations from themes and templates\n",
    "- Using and editing slide masters\n",
    "- Changing the layout or theme\n",
    "- Adding pictures and objects\n",
    "- Working with bullet points, text boxes, and tables\n",
    "- Adding shapes, diagrams, and charts\n",
    "- Incorporating video, audio, and animation\n",
    "- Adding speaker notes and comments\n",
    "- Running a slideshow\n",
    "- Reusing and sharing PowerPoint presentations"
   ]
  },
  {
   "cell_type": "markdown",
   "metadata": {},
   "source": [
    "### Python: Data Analysis, Lynda.com, September, 2017\n",
    "Certificate: https://drive.google.com/open?id=0B4COB52qGHUNdmxPT25YQ0s2STA \n",
    "\n",
    "If you're going to work with big data, you'll probably be using R or Python. And if you're using Python, you'll be definitely using Pandas and NumPy, the third-party packages designed specifically for data analysis. This course provides an opportunity to learn about them. Michele Vallisneri shows how to set up your analysis environment and provides a refresher on the basics of working with data containers in Python. Then he jumps into the big stuff: the power of arrays, indexing, and DataFrames in NumPy and Pandas. He also walks through two sample big-data projects: one using NumPy to analyze weather patterns and the other using Pandas to analyze the popularity of baby names over the last century. Challenges issued along the way help you practice what you've learned.\n",
    "Topics include:\n",
    "\n",
    "- Writing and running Python in iPython\n",
    "- Using Python lists and dictionaries\n",
    "- Creating NumPy arrays\n",
    "- Indexing and slicing in NumPy\n",
    "- Downloading and parsing data files into NumPy and Pandas\n",
    "- Using multilevel series in Pandas\n",
    "- Aggregating data in Pandas"
   ]
  },
  {
   "cell_type": "markdown",
   "metadata": {},
   "source": [
    "### Python for Data Science Essential Training, Lynda.com, September, 2017\n",
    "Certificate: https://drive.google.com/open?id=0B4COB52qGHUNNUNlc1E1UTV1d3c \n",
    "\n",
    "By using Python to glean value from your raw data, you can simplify the often complex journey from data to value. In this practical, hands-on course, learn how to use Python for data preparation, data munging, data visualization, and predictive analytics. Instructor Lillian Pierson, P.E. covers the essential Python methods for preparing, cleaning, reformatting, and visualizing your data for use in analytics and data science. She helps to provide you with a working understanding of machine learning, as well as outlier analysis, cluster analysis, and network analysis. Plus, Lillian explains how to create web-based data visualizations with Plot.ly, and how to use Python to scrape the web and capture your own data sets.\n",
    "Topics include:\n",
    "\n",
    "- Getting started with Jupyter Notebooks\n",
    "- Visualizing data: basic charts, time series, and statistical plots\n",
    "- Preparing for analysis: treating missing values and data transformation\n",
    "- Data analysis basics: arithmetic, summary statistics, and correlation analysis\n",
    "- Outlier analysis: univariate, multivariate, and linear projection methods\n",
    "- Introduction to machine learning\n",
    "- Basic machine learning methods: linear and logistic regression, Naïve Bayes\n",
    "- Reducing dataset dimensionality with PCA\n",
    "- Clustering and classification: k-means, hierarchical, and k-NN\n",
    "- Simulating a social network with NetworkX\n",
    "- Creating Plot.ly charts\n",
    "- Scraping the web with Beautiful Soup"
   ]
  },
  {
   "cell_type": "markdown",
   "metadata": {},
   "source": [
    "### Service Innovation, Lynda.com, September, 2017\n",
    "Certificate: https://drive.google.com/open?id=0B4COB52qGHUNU0w1eC1TNjBzcDQ \n",
    "\n",
    "Service innovation means changing the way you serve your customers to create greater value for them and deliver more revenue for your organization. IMD Professor of Service Management Stefan Michel shows you how to identify service innovations—whether they are process innovations, new services, or new service-driven business models—and then embed them into your business.\n",
    "\n",
    "Once you understand service innovation in its different forms, you can design and implement your own innovations. Each chapter combines real-world case studies with a methodological framework to help you become a better \"idea hunter\" for service innovation. After you identify an innovative model, you will learn how to align and execute your innovation by applying the customer star model and by embedding your innovation approach in your overall business strategy.\n",
    "Topics include:\n",
    "\n",
    "- What is service innovation?\n",
    "- Innovating by relieving and enabling customers\n",
    "- Linking attributes, benefits, and values\n",
    "- Innovating value constellations\n",
    "- Innovating outside your firm\n",
    "- Designing around the customer's need with customer stars"
   ]
  },
  {
   "cell_type": "markdown",
   "metadata": {},
   "source": [
    "### Service Metrics for Customer Service, Lynda.com, September, 2017\n",
    "Certificate: https://drive.google.com/open?id=0B4COB52qGHUNd3lfRlVpMFdXYmc\n",
    "\n",
    "Establishing the right metrics to support effective customer service requires a solid understanding of how metrics work, how metrics are interrelated, and what the uses and limitations of metrics are. Wisely employed, the right metrics help guide decisions, support collaboration, and encourage better performance. But metrics that are incomplete, unfair, or misapplied can send the wrong messages, negatively impact customers and employees, and lead to inefficiencies.\n",
    "\n",
    "This course covers, in a step-by-step fashion, why metrics are important, which metrics matter the most, how to interpret results, and examples of how successful organizations leverage metrics to improve decisions and performance. Whether your service operation includes face-to-face services, contact centers, social media, self-service, or any combination, this course provides practical know-how, real-life examples, and guidance for implementing and using the right metrics and establishing meaningful goals.\n",
    "Topics include:\n",
    "\n",
    "- Identifying customer expectations\n",
    "- Avoiding pitfalls\n",
    "- Essential metrics for the service operation\n",
    "- Identifying alternatives for measuring engagement\n",
    "- Engaging support that drives the right behaviors\n",
    "- Key areas of focus for individuals\n",
    "- Assessing service interactions\n",
    "- Calibration and coaching\n",
    "- Clarifying responsibilities"
   ]
  },
  {
   "cell_type": "markdown",
   "metadata": {},
   "source": [
    "### Smart Cities: Solving Urban Problems Using Technologies, Lynda.com, September, 2017\n",
    "Certificate: https://drive.google.com/open?id=0B4COB52qGHUNZzVEMVpvSk9zOEE \n",
    "\n",
    "Cities are changing rapidly—growing in size and density, creating more waste, and using more resources. To solve the problems these pressures create, city governments need to think different. Enter smart cities—cities that use 21st century thinking and technology to enable a better quality of life for their citizens. Hosted by Jonathan Reichental (named one of the world's top 100 CIOs in 2017), this short documentary profiles the City of Palo Alto, California. There forward-thinking officials are coming up with creative solutions to problems like traffic and air pollution—and opening up their doors and their data so that community members can get involved. Learn how sensors that bridge the physical and digital worlds and open-data policies are making government more agile and more innovative. Plus, find out how smart cities' technology investments will power a new job market for technical and creative professionals who want to do meaningful work for their communities."
   ]
  },
  {
   "cell_type": "markdown",
   "metadata": {},
   "source": [
    "### Smarter Cities: Using Data to Drive Urban Innovation, Lynda.com, September, 2017\n",
    "Certificate: https://drive.google.com/open?id=0B4COB52qGHUNMlg0UUFCWnZBV1U \n",
    "\n",
    "By 2050, over 70% of us will live in cities. But are our cities ready? Today, cities face challenges such as aging infrastructure, inadequate transportation, and inefficient bureaucratic processes. We must rethink how cities operate and deliver services, and turn to digital tools, data, and intelligent connected systems. Our cities must grow smarter—and we're going to need a whole new generation of people with entirely new skills to help. Find out where the best opportunities are for making a meaningful difference. This course is designed to introduce those with an interest in the future of cities to the idea of urban innovation. Top Chief Information Officer (CIO) Dr. Jonathan Reichental introduces the roles and skills needed to enter in this exciting new field. He illustrates the concepts using examples from successful smart cities across the globe. If you want to understand how you can begin or advance a career in this area, or are simply interested in the future of your community, then this is the right introductory course for you.\n",
    "Topics include:\n",
    "\n",
    "- The challenges of rapid urban development\n",
    "- Understanding the basic functions and needs of 21st century cities\n",
    "- Exploring what makes a smart city smart\n",
    "- How smart cities are planned and maintained\n",
    "- The role of big data in driving urban innovation\n",
    "- Open data and smart cities\n",
    "- Smart cities and the Internet of Things"
   ]
  },
  {
   "cell_type": "markdown",
   "metadata": {},
   "source": [
    "### SPSS Statistics Essential Training, Lynda.com, September, 2017\n",
    "Certificate: https://drive.google.com/open?id=0B4COB52qGHUNUXVzQXNWbGdScTQ  \n",
    "\n",
    "SPSS is a statistics and data analysis program for businesses, governments, research institutes, and academic organizations. In these tutorials, author Barton Poulson takes a practical, visual, and non-mathematical approach to SPSS. From importing spreadsheets to creating regression models, to exporting charts, this course covers all the basics, with an emphasis on clarity, interpretation, communicability, and application. Barton will help you:\n",
    "\n",
    "- Build charts, scatterplots, and box plots\n",
    "- Calculate descriptive statistics such as means and standard deviations\n",
    "- Use inferential statistics such as t-tests and chi-squares\n",
    "- Enter and read data\n",
    "- Create new variables and crosstabulations\n",
    "- Model associations with correlations, contingency tables, and multiple-regression analysis\n",
    "- Format and export presentations to share your data\n",
    "\n",
    "Plus, learn how to extend the power of SPSS with Python and R. This course is ideal for first-time researchers and those who want to make the most of data in their professional and academic work."
   ]
  },
  {
   "cell_type": "markdown",
   "metadata": {},
   "source": [
    "### SQL: Data Reporting and Analysis, Lynda.com, September, 2017\n",
    "Certificate: https://drive.google.com/open?id=0B4COB52qGHUNR0JoZ1h3LXhUX1U \n",
    "\n",
    "Do you rely on IT to get you the data you need? Do you wish you could retrieve it yourself? SQL for Data Reporting and Analysis teaches you how to get the data you want by writing a bit of SQL code. You won't just be able to pull data out of the database; you'll be able to manipulate it: merging it, multiplying it, grouping it, and relabeling it to get just the report you want.\n",
    "\n",
    "Join Emma Saunders as she shows you how to design and write simple SQL queries for data reporting and analysis. Review the different types of SQL, and then learn how to filter, group, and sort data, using built-in SQL functions to format or calculate results. Learn a bit about data types and database design. Discover how to perform more complex queries, such as joining data together from different database tables. Last but not least, Emma shows how to save your queries as views, so you can run them again and again.\n",
    "Topics include:\n",
    "\n",
    "- Using different versions of SQL\n",
    "- Retrieving data with SELECT statements\n",
    "- Filtering and sorting your results\n",
    "- Transforming results with built-in SQL functions\n",
    "- Grouping SQL results\n",
    "- Merging data from multiple tables\n",
    "- Identifying data types, and how to make sense of your database design\n",
    "- Saving SQL queries"
   ]
  },
  {
   "cell_type": "markdown",
   "metadata": {},
   "source": [
    "### Statistics Foundations: 1, Lynda.com, September, 2017\n",
    "Certificate: https://drive.google.com/open?id=0B4COB52qGHUNYTE1dE81MnUwMHM \n",
    "\n",
    "Statistics is not just the realm of data scientists. All types of jobs use statistics. Statistics are important for making decisions, new discoveries, investments, and predictions. Whether the subject is political races, sports rankings, shopping trends, or healthcare advancements, statistics is an instrument for understanding your favorite topic at a deeper level. With these beginner-level lessons, you too can master the terms, formulas, and techniques needed to perform the most common types of statistics.\n",
    "\n",
    "Professor Eddie Davila covers statistics basics, like calculating averages, medians, modes, and standard deviations. He shows how to use probability and distribution curves to inform decisions, and how to detect false positives and misleading data. Each concept is covered in simple language, with detailed examples that show how statistics are used in real-world scenarios from the worlds of business, sports, education, entertainment, and more. These techniques will help you understand your data, prove theories, and save time, money, and other valuable resources—all by understanding the numbers.\n",
    "Topics include:\n",
    "\n",
    "- Why statistics matter\n",
    "- Evaluating your data sets\n",
    "- Finding means, medians, and modes\n",
    "- Calculating standard deviation\n",
    "- Measuring distribution and relative position\n",
    "- Understanding probability and multiple-event probability\n",
    "- Describing permutations: the order of things\n",
    "- Calculating discrete and continuous probability distributions"
   ]
  },
  {
   "cell_type": "markdown",
   "metadata": {},
   "source": [
    "### Statistics Foundations: 2, Lynda.com, September, 2017\n",
    "Certificate: https://drive.google.com/open?id=0B4COB52qGHUNNHpWRkhsVURzX1k \n",
    "\n",
    "Statistics are a core skill for many careers. Basic stats are critical for making decisions, new discoveries, investments, and even predictions. But sometimes you need to move beyond the basics. Statistics Fundamentals – Part 2 takes business users and data science mavens into practical, example-based learning of the intermediate skills associated with statistics: samples and sampling, confidence intervals, and hypothesis testing.\n",
    "\n",
    "Eddie Davila first provides a bridge from Part 1, reviewing introductory concepts such as data and probability, and then moves into the topics of sampling, random samples, sample sizes, sampling error and trustworthiness, the central unit theorem, t-distribution, confidence intervals (including explaining unexpected outcomes), and hypothesis testing. This course is a must for those working in data science, business, and business analytics—or anyone else who wants to go beyond means and medians and gain a deeper understanding of how statistics work in the real world.\n",
    "Topics include:\n",
    "\n",
    "- Data and distributions\n",
    "- Sample size considerations\n",
    "- Random sampling\n",
    "- Confidence intervals\n",
    "- Hypothesis testing"
   ]
  },
  {
   "cell_type": "markdown",
   "metadata": {},
   "source": [
    "### Statistics Foundations: 3, Lynda.com, September, 2017\n",
    "Certificate: https://drive.google.com/open?id=0B4COB52qGHUNakg4cVQweHlrRUE \n",
    "\n",
    "Statistics are everywhere, in every industry, but they're a must for anyone working in data science, business, or business analytics. If you're in one of these specialized fields, chances are you need an advanced understanding of statistics. Complete your mastery in this course, part 3 of our Statistics Fundamentals series. Eddie Davila covers concepts such as small sample sizes, t-distribution, degrees of freedom, chi-square testing, and more. This advanced skills training moves learners into the practical study and application of experimental design, analysis of variance, population comparison, and regression analysis. Use these lessons to go beyond the basics and dive deeper into the specific factors that influence your own calculations and results.\n",
    "Topics include:\n",
    "\n",
    "- Working with small sample sizes\n",
    "- Using t-statistic vs. z-statistic\n",
    "- Calculating confidence intervals with t-scores\n",
    "- Comparing two populations (proportions)\n",
    "- Comparing two population means\n",
    "- Chi-square testing\n",
    "- ANOVA testing\n",
    "- Regression testing"
   ]
  },
  {
   "cell_type": "markdown",
   "metadata": {},
   "source": [
    "### SurveyMonkey Essential Training, Lynda.com, September, 2017\n",
    "Certificate: https://drive.google.com/open?id=0B4COB52qGHUNVWpWcUJiYVIwMmM \n",
    "\n",
    "SurveyMonkey is a hugely popular survey platform that you can use for free, or with additional tools that you can purchase. In this course, discover how to generate surveys on SurveyMonkey. Instructor David Rivers begins by outlining how SurveyMonkey works, and how online surveys can help your business. Next, he walks through the steps of creating an online survey, explaining how to choose a template, add questions, and customize your design. He also offers tips that can help to improve response rates. Then, David explains how to collect survey results, including choosing a collection method, using the Email Invitation Collector, and collecting responses via LinkedIn and other websites. Finally, David covers how to analyze your survey results by viewing individual responses, exploring question summaries, and exporting your question data. He also shows how to share your data with colleagues.\n",
    "Topics include:\n",
    "\n",
    "- Building a business case for online surveys\n",
    "- Creating a new survey\n",
    "- Building an online survey\n",
    "- Editing and reordering questions\n",
    "- Customizing the design of a survey\n",
    "- Choosing a collection method\n",
    "- Collecting and analyzing survey results\n",
    "- Filtering and customizing results\n",
    "- Sharing results"
   ]
  },
  {
   "cell_type": "markdown",
   "metadata": {},
   "source": [
    "### The Data Science of Marketing, Lynda.com, September, 2017\n",
    "Certificate: https://drive.google.com/open?id=0B4COB52qGHUNOTdYbmVRbUNwTDQ \n",
    "\n",
    "Marketing is changing right in front of our eyes, and that transformation is being led by data. Modern marketers have to understand data and analysis like never before, and be able to work with data scientists in multidisciplinary settings. Similarly, professionals with data science training need to learn how to maximize their contributions when working with marketing and sales specialists.\n",
    "\n",
    "In this course, discover how to gain valuable insights from large data sets using specific languages and tools. Follow Chris DallaVilla as he walks through how to use R, Python, and Tableau to perform data modeling and assess performance. As Chris dives into these concepts, he shares specific case studies that come directly from his own work with clients. Plus, he shares three essential—and practical—best practices for data-driven marketing that you can use to bolster your organization's marketing performance.\n",
    "Topics include:\n",
    "\n",
    "- Installing R, Python, and Tableau\n",
    "- Navigating the UI for R, Python, and Tableau\n",
    "- Using R, Python, and Tableau\n",
    "- Exploratory analysis\n",
    "- Performing regression analysis\n",
    "- Performing a cluster analysis\n",
    "- Performing a conjoint assessment\n",
    "- Stakeholder alignment"
   ]
  },
  {
   "cell_type": "markdown",
   "metadata": {},
   "source": [
    "### The Data Science of Media and Entertainment with Barton Poulson, Lynda.com, September, 2017\n",
    "Certificate: https://drive.google.com/open?id=0B4COB52qGHUNZnVkUE8zZ3FJbm8 \n",
    "\n",
    "Music, theater, dance, and film may not seem like data-driven businesses, but they can benefit from data science just as much as ecommerce or finance. Join data science professor, researcher, and consultant Barton Poulson as he explores the fascinating ways in which the media and entertainment industries around us are affected—and have been substantially changed—by ubiquitous data and the science of data and analytics.\n",
    "\n",
    "This course is a nontechnical overview that helps creative organizations use the principles of data science in practical ways. It's required viewing for those working in media, but is also appealing to anyone interested in how technology affects the world around us. Learn how to use data science to assess your target audience, optimize pricing and scheduling for events and digital products, identify piracy, protect your intellectual property, reward employees, and maximize your ROI. Incorporating some simple analytics can lead to broader audiences and richer experiences for your next creative endeavor.\n",
    "Topics include:\n",
    "\n",
    "- Assessing the audience for performing art and live digital media\n",
    "- Optimizing prices for products and performances\n",
    "- Splitting limited time, money, and staffing among different outreach and sales efforts\n",
    "- Honoring the requirements of government grants and private donors\n",
    "- Maximizing the social nature of live events like concerts and performances\n",
    "- Using competitive and predictive analytics to schedule performances for greatest audience reach and potential revenue\n",
    "- Understanding how data science can identify piracy and reduce lost revenue\n",
    "- Incentivizing and rewarding staff and performers without incurring additional costs\n",
    "\n",
    " "
   ]
  },
  {
   "cell_type": "markdown",
   "metadata": {},
   "source": [
    "### The Essential Elements of Predictive Analytics and Data Mining, Lynda.com, September, 2017\n",
    "Certificate: https://drive.google.com/open?id=0B4COB52qGHUNMDlfMVBxM0c0RFk \n",
    "\n",
    "A proper predictive analytics and data-mining project can involve many people and many weeks. There are also many potential errors to avoid. A \"big picture\" perspective is necessary to keep the project on track. This course provides that perspective through the lens of a veteran practitioner who has completed dozens of real-world projects. Keith McCormick is an independent data miner and author who specializes in predictive models and segmentation analysis, including classification trees, cluster analysis, and association rules. Here he shares his knowledge with you. Walk through each step of a typical project, from defining the problem and gathering the data and resources, to putting the solution into practice. Keith also provides an overview of CRISP-DM (the de facto data-mining methodology) and the nine laws of data mining, which will keep you focused on strategy and business value.\n",
    "Topics include:\n",
    "\n",
    "- What makes a successful predictive analytics project?\n",
    "- Defining the problem\n",
    "- Selecting the data\n",
    "- Acquiring resources: team, budget, and SMEs\n",
    "- Dealing with missing data\n",
    "- Finding the solution\n",
    "- Putting the solution to work\n",
    "- Overview of CRISP-DM"
   ]
  },
  {
   "cell_type": "markdown",
   "metadata": {},
   "source": [
    "### Urbanized, Lynda.com, September, 2017\n",
    "Certificate: https://drive.google.com/open?id=0B4COB52qGHUNYjQ5RkNnWmg3VVk \n",
    "\n",
    "\n",
    "\n",
    "Urbanized, a documentary about the design of cities, looks at the issues and strategies behind urban design and features some of the world's foremost architects, planners, policy makers, builders, and thinkers. It considers the questions: Who shapes our cities, and how do they do it? \n",
    "\n",
    "Unlike many other fields of design, cities aren't created by any one specialist or expert. There are many contributors to urban change, including ordinary citizens who can have a great impact on improving the cities in which they live. By exploring a diverse range of urban design projects around the world, Urbanized frames a global discussion on the future of cities.\n",
    "\n",
    "lynda.com is proud to offer this film to our members, along with over one hour of bonus content. Make sure to check out the Extras chapter for these online-exclusive movies."
   ]
  },
  {
   "cell_type": "markdown",
   "metadata": {},
   "source": [
    "## August, 2017"
   ]
  },
  {
   "cell_type": "markdown",
   "metadata": {},
   "source": [
    "### Google Analytics Essential Training, Lynda.com, August, 2017\n",
    "Certificate: https://drive.google.com/open?id=0B4COB52qGHUNeS0yWDJ3ai1UNUk \n",
    "\n",
    "Whether you're managing a website for a large corporation or a small business, Google Analytics—the industry standard for web analytics—can help you find out how your website is performing. This powerful platform provides you with the tools you need to measure site traffic, conversions, and ad performance, and understand how people use your website.\n",
    "\n",
    "In this course, Brad Batesole explains how to get set up in Google Analytics and glean insights from each of the reports. He covers the out-of-the-box functionality—from account creation to reporting fundamentals—and explains how to interpret your results, create and track goals, and use options like dimensions and segments for deeper insights. Each tutorial is practical and succinct, touching on the features you'll use most in your day-to-day analytics workflow.\n",
    "Topics include:\n",
    "\n",
    "- Setting up an account\n",
    "- Installing tracking tags\n",
    "- Understanding reports\n",
    "- Using the data table\n",
    "- Using annotations\n",
    "- Utilizing segmentation for deeper analysis\n",
    "- Viewing shared content and referrals with social reports\n",
    "- Tracking engagement with behavior reports\n",
    "- Using Site Content reports\n",
    "- Reviewing site speed\n",
    "- Adding custom campaign tracking"
   ]
  },
  {
   "cell_type": "markdown",
   "metadata": {},
   "source": [
    "### Insights on Data Science: Lillian Pierson, Lynda.com, August, 2017\n",
    "Certificate: https://drive.google.com/open?id=0B4COB52qGHUNc0pld1hGMGtpdEU \n",
    "\n",
    "Data science is a rapidly expanding field offering a wealth of possibilities for viewing the world around us through a more accurate lens. But for many of those whose imagination is sparked by big data—but who have already started pursuing a career in another field—the dream of becoming a data scientist can feel far-fetched. Lillian Pierson, P.E.—a leading expert in the field of big data and data science—aims to prove that notion wrong. In this course, she shares observations and tips to help you embark on a career in this exciting field, regardless of your starting point.\n",
    "\n",
    "Lillian began her career not as a data scientist, but as an environmental engineer. Here, she shares her story, discussing how she taught herself to code in Python and R, and work with data science methodologies. As a result of her own experiences, Lillian is passionate about helping those interested in data science—but who may lack a four-year degree in the discipline—get started in the field. She shares practical ways to acquire the skills and experience needed to become a data scientist, and best practices for landing a job. Lillian also dives into grappling with the challenges that occur in rapidly evolving tech workforces. Plus, she discusses the industry itself, covering recent changes in the field and areas of need, and clearing up a few common misconceptions.\n",
    "Topics include:\n",
    "\n",
    "- Practical ways to acquire data science skills and experience\n",
    "- Which courses should you take to become a data scientist?\n",
    "- What challenges should people be prepared to encounter?\n",
    "- Best practices for landing a job in data science\n",
    "- Common misconceptions\n",
    "- What key personality traits are common among successful data scientists?\n",
    "- How has the industry changed in recent years?\n",
    "- Practical advice for minorities and women pursuing a career in data science"
   ]
  },
  {
   "cell_type": "markdown",
   "metadata": {},
   "source": [
    "### Learning Data Science: Ask Great Questions, Lynda.com, August, 2017\n",
    "Certificate: https://drive.google.com/open?id=0B4COB52qGHUNZE9ILUVIU2t5eVk \n",
    "\n",
    "Great data science discoveries are often traced back to someone asking a critical question. That's why it's important for your team to use critical thinking to come up with astute, meaningful questions that add real value. A well-crafted question can prevent your team from getting sidetracked on bad assumptions and false conclusions. In this course, author Doug Rose explores the key components of critical reasoning and how to pan for gold in streams of data to search for new questions. You'll learn how to work together as a team to run question meetings, organize important ideas into question trees, and generate quality questions by clarifying key terms, challenging evidence, uncovering misleading statistics, and more.\n",
    "Topics include:\n",
    "\n",
    "- Harnessing the power of questions\n",
    "- Testing your reasoning\n",
    "- Identifying question types\n",
    "- Organizing questions\n",
    "- Rooting out assumptions\n",
    "- Finding errors\n",
    "- Highlighting missing data\n",
    "- Overcoming question bias"
   ]
  },
  {
   "cell_type": "markdown",
   "metadata": {},
   "source": [
    "### Learning Data Science: Tell Stories With Data, Lynda.com, August, 2017\n",
    "Certificate:https://drive.google.com/open?id=0B4COB52qGHUNU0t0ekhtMzhqUUE \n",
    "\n",
    "Many anthropologists believe our early ancestors built societies around campfire stories about justice, leadership, and government. Your data science teams will also have complex ideas about their data and results. That's why it takes a well-structured story to communicate these insights to the rest of your organization. It's not simply a matter of creating the perfect Excel sheet or a beautiful graph. You need to tell a story that captures your audience's imagination and encourages them to take some action. In this course, instructor Doug Rose explains how to weave together a great data science story and draw your audience into the story to communicate complex ideas and motivate everyone to make real changes.\n",
    "Topics include:\n",
    "\n",
    "- Structuring a data science story\n",
    "- Defining plot, conflict, and details\n",
    "- Going beyond reporting\n",
    "- Knowing your audience\n",
    "- Working with data\n",
    "- Introducing visuals\n",
    "- Eliminating distractions\n",
    "- Incorporating metaphors\n",
    "- Motivating the audience\n",
    "- Avoiding pitfalls"
   ]
  },
  {
   "cell_type": "markdown",
   "metadata": {},
   "source": [
    "### Learning Data Science: Using Agile Methodology, Lynda.com, August, 2017\n",
    "Certificate: https://drive.google.com/open?id=0B4COB52qGHUNUzdfOXRFNDZnYjA \n",
    "\n",
    "A data science team asks great questions, explores the data, and delivers key insights. But at the end of the day your team needs to add real business value. Even the best data science teams won't last long in your organization if they can't generate revenue or lower expenses. The best way to generate business value is to deliver a constant stream of key insights in short two-week sprints. These short sprints give you real-time feedback to help keep your team on track. A short sprint will also help your team pivot so they can ask new questions based on what they learn from the data.\n",
    "\n",
    "This course shows how to structure your work within a two-week sprint. See how to work within a data science life cycle (DSLC)—a methodology for cycling through questions, research, and reporting every two weeks. Explore key practices to help your team break down the work so it fits within a two-week sprint. Learn how to use tools like question boards to encourage discussion and find essential questions. And most importantly, learn how to grow your team's shared knowledge and avoid common pitfalls.\n",
    "Topics include:\n",
    "\n",
    "- Defining data science success\n",
    "- Determining project challenges and criteria for success\n",
    "- Using a DSLC\n",
    "- Iterating through DSLC sprints\n",
    "- Creating a question board\n",
    "- Breaking down your work\n",
    "- Adding to organizational knowledge\n",
    "- Avoiding pitfalls"
   ]
  },
  {
   "cell_type": "markdown",
   "metadata": {},
   "source": [
    "### Learning Python, Lynda.com, August, 2017\n",
    "Certificate: https://drive.google.com/open?id=0B4COB52qGHUNQ3hXUjhKSzM5U0k  \n",
    "\n",
    "Get a quick intro to Python, the popular and highly readable object-oriented language. Joe Marini provides an overview of the installation process, basic Python syntax, and an example of how to construct and run a simple Python program. Learn to work with dates and times, read and write files, and retrieve and parse HTML, JSON, and XML data from the web.\n",
    "Topics include:\n",
    "\n",
    "- Installing Python\n",
    "- Choosing an editor/IDE\n",
    "- Working with variables and expressions\n",
    "- Writing loops\n",
    "- Using the date, time, and datetime classes\n",
    "- Reading and writing files\n",
    "- Fetching Internet data\n",
    "- Parsing and processing HTML"
   ]
  },
  {
   "cell_type": "markdown",
   "metadata": {},
   "source": [
    "### Learning Python for Data Science with Tim Fox and Elephant Scale, Lynda.com, August, 2017\n",
    "Certificate: https://drive.google.com/open?id=0B4COB52qGHUNanRydlpiWjkzYVE   \n",
    "\n",
    "This course shows how to review and derive information from datasets using Python. First, get an overview of data science and how it open source libraries like Python can be used for your data analysis need. Then, discover how to set up labs and data interpreters. Next, learn about how you can use pandas, NumPy, and SciPy for numerical processing, scientific programming, and extensive data exploration. With these options at your disposal, you'll be ready for the following chapter which focuses on making predictions using machine learning tools, data classifiers, and clusters. The course concludes with a look at big data and how PySpark can be used for computing.\n",
    "Topics include:\n",
    "\n",
    "- Configuring your system\n",
    "- Setting up labs\n",
    "- Using pandas, NumPy, and SciPy\n",
    "- Building a classifier\n",
    "- Clustering data\n",
    "- Working with big data and PySpark\n",
    "- Using MLlib\n",
    "- Beginning with Spark"
   ]
  },
  {
   "cell_type": "markdown",
   "metadata": {},
   "source": [
    "### Learning R, Lynda.com, August, 2017\n",
    "Certificate: https://drive.google.com/open?id=0B4COB52qGHUNbVprVlZCX0hkNTQ  \n",
    "\n",
    "Join author Barton Poulson as he introduces the R statistical processing language, including how to install R on your computer, read data from SPSS and spreadsheets, and use packages for advanced R functions.\n",
    "\n",
    "The course continues with examples on how to create charts and plots, check statistical assumptions and the reliability of your data, look for data outliers, and use other data analysis tools. Finally, learn how to get charts and tables out of R and share your results with presentations and web pages.\n",
    "Topics include:\n",
    "\n",
    "- What is R?\n",
    "- Installing R\n",
    "- Creating bar character for categorical variables\n",
    "- Building histograms\n",
    "- Calculating frequencies and descriptives\n",
    "- Computing new variables\n",
    "- Creating scatterplots\n",
    "- Comparing means"
   ]
  },
  {
   "cell_type": "markdown",
   "metadata": {},
   "source": [
    "### Quality Standards in Customer Service, Lynda.com, August, 2017\n",
    "Certificate: https://drive.google.com/open?id=0B4COB52qGHUNTXFMbkd3cWFsLXM    \n",
    "\n",
    "\"Customer service\" can mean many different things, but there are unifying principles across all customer-facing operations. Whether yours is a contact center, face-to-face retail, social media group handling service issues, or other type of organization, this course provides the practical know-how, real-life examples, and the direction you need to get the most out of your quality initiatives.\n",
    "\n",
    "Watch and learn how to establish quality standards in customer service, and improve loyalty, revenue, customer satisfaction, and employee engagement. Brad Cleveland divides the lessons into three chapters, covering quality and customer service definitions, quality standards for individuals, and quality standards for the overall organization. Along the way, he shows how to implement a process, measure progress, and effectively coach employees.\n",
    "Topics include:\n",
    "\n",
    "- Defining quality\n",
    "- Ensuring standards count\n",
    "- Measuring individual performance\n",
    "- Coaching customer service professionals\n",
    "- Creating quality standards for the service organization"
   ]
  },
  {
   "cell_type": "markdown",
   "metadata": {},
   "source": [
    "### R Statistics Essential Training, Lynda.com, August, 2017\n",
    "Certificate: https://drive.google.com/open?id=0B4COB52qGHUNTzlFcjB3MUNndnc \n",
    "\n",
    "R is the language of big data—a statistical programming language that helps describe, mine, and test relationships between large amounts of data. Author Barton Poulson shows how to use R to model statistical relationships using graphs, calculations, tests, and other analysis tools. Learn how to enter and modify data; create charts, scatter plots, and histograms; examine outliers; calculate correlations; and compute regressions, bivariate associations, and statistics for three or more variables. Challenge exercises with step-by-step solutions allow you to test your skills as you progress.\n",
    "Topics include:\n",
    "\n",
    "- Installing R on your computer\n",
    "- Using the built-in datasets\n",
    "- Importing data\n",
    "- Creating bar and pie charts for categorical variables\n",
    "- Creating histograms and box plots for quantitative variables\n",
    "- Calculating frequencies and descriptives\n",
    "- Transforming variables\n",
    "- Coding missing data\n",
    "- Analyzing by subgroups\n",
    "- Creating charts for associations\n",
    "- Calculating correlations\n",
    "- Creating charts and statistics for three or more variables\n",
    "- Creating crosstabs for categorical variables"
   ]
  },
  {
   "cell_type": "markdown",
   "metadata": {},
   "source": [
    "## July, 2017"
   ]
  },
  {
   "cell_type": "markdown",
   "metadata": {},
   "source": [
    "### PSM I (Professional Scrum Master I), Scrum.org, July, 2017\n",
    "Certificate: https://drive.google.com/open?id=0B4COB52qGHUNQ043LUxtQTJRb2M "
   ]
  }
 ],
 "metadata": {
  "kernelspec": {
   "display_name": "Python 3.6",
   "language": "python",
   "name": "python36"
  },
  "language_info": {
   "codemirror_mode": {
    "name": "ipython",
    "version": 3
   },
   "file_extension": ".py",
   "mimetype": "text/x-python",
   "name": "python",
   "nbconvert_exporter": "python",
   "pygments_lexer": "ipython3",
   "version": "3.6.3"
  }
 },
 "nbformat": 4,
 "nbformat_minor": 2
}
